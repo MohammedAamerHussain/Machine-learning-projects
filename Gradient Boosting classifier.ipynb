{
 "cells": [
  {
   "cell_type": "code",
   "execution_count": 34,
   "metadata": {},
   "outputs": [],
   "source": [
    "import pandas as pd\n",
    "import numpy as np\n",
    "from sklearn.ensemble import AdaBoostClassifier\n",
    "from sklearn import metrics as metrics\n",
    "from sklearn.model_selection import RandomizedSearchCV \n",
    "from sklearn.model_selection import train_test_split\n",
    "import matplotlib.pyplot as plt\n",
    "%matplotlib inline\n",
    "from sklearn.ensemble import RandomForestClassifier\n",
    "from sklearn.ensemble import GradientBoostingClassifier\n",
    "from sklearn.model_selection import GridSearchCV\n",
    "import seaborn as sns\n",
    "import xgboost as xgb \n",
    "import warnings\n",
    "warnings.filterwarnings(\"ignore\")"
   ]
  },
  {
   "cell_type": "markdown",
   "metadata": {},
   "source": [
    "# 1. Data Processing"
   ]
  },
  {
   "cell_type": "code",
   "execution_count": 2,
   "metadata": {},
   "outputs": [],
   "source": [
    "adult_df = pd.read_csv('https://archive.ics.uci.edu/ml/machine-learning-databases/adult/adult.data', header = None, skipinitialspace=True)"
   ]
  },
  {
   "cell_type": "code",
   "execution_count": 3,
   "metadata": {},
   "outputs": [
    {
     "data": {
      "text/html": [
       "<div>\n",
       "<style scoped>\n",
       "    .dataframe tbody tr th:only-of-type {\n",
       "        vertical-align: middle;\n",
       "    }\n",
       "\n",
       "    .dataframe tbody tr th {\n",
       "        vertical-align: top;\n",
       "    }\n",
       "\n",
       "    .dataframe thead th {\n",
       "        text-align: right;\n",
       "    }\n",
       "</style>\n",
       "<table border=\"1\" class=\"dataframe\">\n",
       "  <thead>\n",
       "    <tr style=\"text-align: right;\">\n",
       "      <th></th>\n",
       "      <th>0</th>\n",
       "      <th>1</th>\n",
       "      <th>2</th>\n",
       "      <th>3</th>\n",
       "      <th>4</th>\n",
       "      <th>5</th>\n",
       "      <th>6</th>\n",
       "      <th>7</th>\n",
       "      <th>8</th>\n",
       "      <th>9</th>\n",
       "      <th>10</th>\n",
       "      <th>11</th>\n",
       "      <th>12</th>\n",
       "      <th>13</th>\n",
       "      <th>14</th>\n",
       "    </tr>\n",
       "  </thead>\n",
       "  <tbody>\n",
       "    <tr>\n",
       "      <td>0</td>\n",
       "      <td>39</td>\n",
       "      <td>State-gov</td>\n",
       "      <td>77516</td>\n",
       "      <td>Bachelors</td>\n",
       "      <td>13</td>\n",
       "      <td>Never-married</td>\n",
       "      <td>Adm-clerical</td>\n",
       "      <td>Not-in-family</td>\n",
       "      <td>White</td>\n",
       "      <td>Male</td>\n",
       "      <td>2174</td>\n",
       "      <td>0</td>\n",
       "      <td>40</td>\n",
       "      <td>United-States</td>\n",
       "      <td>&lt;=50K</td>\n",
       "    </tr>\n",
       "    <tr>\n",
       "      <td>1</td>\n",
       "      <td>50</td>\n",
       "      <td>Self-emp-not-inc</td>\n",
       "      <td>83311</td>\n",
       "      <td>Bachelors</td>\n",
       "      <td>13</td>\n",
       "      <td>Married-civ-spouse</td>\n",
       "      <td>Exec-managerial</td>\n",
       "      <td>Husband</td>\n",
       "      <td>White</td>\n",
       "      <td>Male</td>\n",
       "      <td>0</td>\n",
       "      <td>0</td>\n",
       "      <td>13</td>\n",
       "      <td>United-States</td>\n",
       "      <td>&lt;=50K</td>\n",
       "    </tr>\n",
       "    <tr>\n",
       "      <td>2</td>\n",
       "      <td>38</td>\n",
       "      <td>Private</td>\n",
       "      <td>215646</td>\n",
       "      <td>HS-grad</td>\n",
       "      <td>9</td>\n",
       "      <td>Divorced</td>\n",
       "      <td>Handlers-cleaners</td>\n",
       "      <td>Not-in-family</td>\n",
       "      <td>White</td>\n",
       "      <td>Male</td>\n",
       "      <td>0</td>\n",
       "      <td>0</td>\n",
       "      <td>40</td>\n",
       "      <td>United-States</td>\n",
       "      <td>&lt;=50K</td>\n",
       "    </tr>\n",
       "    <tr>\n",
       "      <td>3</td>\n",
       "      <td>53</td>\n",
       "      <td>Private</td>\n",
       "      <td>234721</td>\n",
       "      <td>11th</td>\n",
       "      <td>7</td>\n",
       "      <td>Married-civ-spouse</td>\n",
       "      <td>Handlers-cleaners</td>\n",
       "      <td>Husband</td>\n",
       "      <td>Black</td>\n",
       "      <td>Male</td>\n",
       "      <td>0</td>\n",
       "      <td>0</td>\n",
       "      <td>40</td>\n",
       "      <td>United-States</td>\n",
       "      <td>&lt;=50K</td>\n",
       "    </tr>\n",
       "    <tr>\n",
       "      <td>4</td>\n",
       "      <td>28</td>\n",
       "      <td>Private</td>\n",
       "      <td>338409</td>\n",
       "      <td>Bachelors</td>\n",
       "      <td>13</td>\n",
       "      <td>Married-civ-spouse</td>\n",
       "      <td>Prof-specialty</td>\n",
       "      <td>Wife</td>\n",
       "      <td>Black</td>\n",
       "      <td>Female</td>\n",
       "      <td>0</td>\n",
       "      <td>0</td>\n",
       "      <td>40</td>\n",
       "      <td>Cuba</td>\n",
       "      <td>&lt;=50K</td>\n",
       "    </tr>\n",
       "  </tbody>\n",
       "</table>\n",
       "</div>"
      ],
      "text/plain": [
       "   0                 1       2          3   4                   5   \\\n",
       "0  39         State-gov   77516  Bachelors  13       Never-married   \n",
       "1  50  Self-emp-not-inc   83311  Bachelors  13  Married-civ-spouse   \n",
       "2  38           Private  215646    HS-grad   9            Divorced   \n",
       "3  53           Private  234721       11th   7  Married-civ-spouse   \n",
       "4  28           Private  338409  Bachelors  13  Married-civ-spouse   \n",
       "\n",
       "                  6              7      8       9     10  11  12  \\\n",
       "0       Adm-clerical  Not-in-family  White    Male  2174   0  40   \n",
       "1    Exec-managerial        Husband  White    Male     0   0  13   \n",
       "2  Handlers-cleaners  Not-in-family  White    Male     0   0  40   \n",
       "3  Handlers-cleaners        Husband  Black    Male     0   0  40   \n",
       "4     Prof-specialty           Wife  Black  Female     0   0  40   \n",
       "\n",
       "              13     14  \n",
       "0  United-States  <=50K  \n",
       "1  United-States  <=50K  \n",
       "2  United-States  <=50K  \n",
       "3  United-States  <=50K  \n",
       "4           Cuba  <=50K  "
      ]
     },
     "execution_count": 3,
     "metadata": {},
     "output_type": "execute_result"
    }
   ],
   "source": [
    "adult_df.head()"
   ]
  },
  {
   "cell_type": "code",
   "execution_count": 4,
   "metadata": {},
   "outputs": [],
   "source": [
    "# Building the column names for our Adult dataset\n",
    "\n",
    "list_of_columns = [\"age\", \"workclass\", \"fnlwgt\",\"education\",\"education_num\",\"marital_status\",\"occupation\",\"relationship\",\n",
    "                   \"race\",\"sex\",\"capital_gain\",\"capital_loss\",\"hours_per_week\",\"native_country\",\"salary\"]\n",
    "\n",
    "# Set these list of columns into the adult_df dataframe\n",
    "adult_df.columns = list_of_columns\n",
    "\n"
   ]
  },
  {
   "cell_type": "code",
   "execution_count": 5,
   "metadata": {},
   "outputs": [
    {
     "data": {
      "text/html": [
       "<div>\n",
       "<style scoped>\n",
       "    .dataframe tbody tr th:only-of-type {\n",
       "        vertical-align: middle;\n",
       "    }\n",
       "\n",
       "    .dataframe tbody tr th {\n",
       "        vertical-align: top;\n",
       "    }\n",
       "\n",
       "    .dataframe thead th {\n",
       "        text-align: right;\n",
       "    }\n",
       "</style>\n",
       "<table border=\"1\" class=\"dataframe\">\n",
       "  <thead>\n",
       "    <tr style=\"text-align: right;\">\n",
       "      <th></th>\n",
       "      <th>age</th>\n",
       "      <th>workclass</th>\n",
       "      <th>fnlwgt</th>\n",
       "      <th>education</th>\n",
       "      <th>education_num</th>\n",
       "      <th>marital_status</th>\n",
       "      <th>occupation</th>\n",
       "      <th>relationship</th>\n",
       "      <th>race</th>\n",
       "      <th>sex</th>\n",
       "      <th>capital_gain</th>\n",
       "      <th>capital_loss</th>\n",
       "      <th>hours_per_week</th>\n",
       "      <th>native_country</th>\n",
       "      <th>salary</th>\n",
       "    </tr>\n",
       "  </thead>\n",
       "  <tbody>\n",
       "    <tr>\n",
       "      <td>0</td>\n",
       "      <td>39</td>\n",
       "      <td>State-gov</td>\n",
       "      <td>77516</td>\n",
       "      <td>Bachelors</td>\n",
       "      <td>13</td>\n",
       "      <td>Never-married</td>\n",
       "      <td>Adm-clerical</td>\n",
       "      <td>Not-in-family</td>\n",
       "      <td>White</td>\n",
       "      <td>Male</td>\n",
       "      <td>2174</td>\n",
       "      <td>0</td>\n",
       "      <td>40</td>\n",
       "      <td>United-States</td>\n",
       "      <td>&lt;=50K</td>\n",
       "    </tr>\n",
       "    <tr>\n",
       "      <td>1</td>\n",
       "      <td>50</td>\n",
       "      <td>Self-emp-not-inc</td>\n",
       "      <td>83311</td>\n",
       "      <td>Bachelors</td>\n",
       "      <td>13</td>\n",
       "      <td>Married-civ-spouse</td>\n",
       "      <td>Exec-managerial</td>\n",
       "      <td>Husband</td>\n",
       "      <td>White</td>\n",
       "      <td>Male</td>\n",
       "      <td>0</td>\n",
       "      <td>0</td>\n",
       "      <td>13</td>\n",
       "      <td>United-States</td>\n",
       "      <td>&lt;=50K</td>\n",
       "    </tr>\n",
       "    <tr>\n",
       "      <td>2</td>\n",
       "      <td>38</td>\n",
       "      <td>Private</td>\n",
       "      <td>215646</td>\n",
       "      <td>HS-grad</td>\n",
       "      <td>9</td>\n",
       "      <td>Divorced</td>\n",
       "      <td>Handlers-cleaners</td>\n",
       "      <td>Not-in-family</td>\n",
       "      <td>White</td>\n",
       "      <td>Male</td>\n",
       "      <td>0</td>\n",
       "      <td>0</td>\n",
       "      <td>40</td>\n",
       "      <td>United-States</td>\n",
       "      <td>&lt;=50K</td>\n",
       "    </tr>\n",
       "    <tr>\n",
       "      <td>3</td>\n",
       "      <td>53</td>\n",
       "      <td>Private</td>\n",
       "      <td>234721</td>\n",
       "      <td>11th</td>\n",
       "      <td>7</td>\n",
       "      <td>Married-civ-spouse</td>\n",
       "      <td>Handlers-cleaners</td>\n",
       "      <td>Husband</td>\n",
       "      <td>Black</td>\n",
       "      <td>Male</td>\n",
       "      <td>0</td>\n",
       "      <td>0</td>\n",
       "      <td>40</td>\n",
       "      <td>United-States</td>\n",
       "      <td>&lt;=50K</td>\n",
       "    </tr>\n",
       "    <tr>\n",
       "      <td>4</td>\n",
       "      <td>28</td>\n",
       "      <td>Private</td>\n",
       "      <td>338409</td>\n",
       "      <td>Bachelors</td>\n",
       "      <td>13</td>\n",
       "      <td>Married-civ-spouse</td>\n",
       "      <td>Prof-specialty</td>\n",
       "      <td>Wife</td>\n",
       "      <td>Black</td>\n",
       "      <td>Female</td>\n",
       "      <td>0</td>\n",
       "      <td>0</td>\n",
       "      <td>40</td>\n",
       "      <td>Cuba</td>\n",
       "      <td>&lt;=50K</td>\n",
       "    </tr>\n",
       "  </tbody>\n",
       "</table>\n",
       "</div>"
      ],
      "text/plain": [
       "   age         workclass  fnlwgt  education  education_num  \\\n",
       "0   39         State-gov   77516  Bachelors             13   \n",
       "1   50  Self-emp-not-inc   83311  Bachelors             13   \n",
       "2   38           Private  215646    HS-grad              9   \n",
       "3   53           Private  234721       11th              7   \n",
       "4   28           Private  338409  Bachelors             13   \n",
       "\n",
       "       marital_status         occupation   relationship   race     sex  \\\n",
       "0       Never-married       Adm-clerical  Not-in-family  White    Male   \n",
       "1  Married-civ-spouse    Exec-managerial        Husband  White    Male   \n",
       "2            Divorced  Handlers-cleaners  Not-in-family  White    Male   \n",
       "3  Married-civ-spouse  Handlers-cleaners        Husband  Black    Male   \n",
       "4  Married-civ-spouse     Prof-specialty           Wife  Black  Female   \n",
       "\n",
       "   capital_gain  capital_loss  hours_per_week native_country salary  \n",
       "0          2174             0              40  United-States  <=50K  \n",
       "1             0             0              13  United-States  <=50K  \n",
       "2             0             0              40  United-States  <=50K  \n",
       "3             0             0              40  United-States  <=50K  \n",
       "4             0             0              40           Cuba  <=50K  "
      ]
     },
     "execution_count": 5,
     "metadata": {},
     "output_type": "execute_result"
    }
   ],
   "source": [
    "adult_df.head()"
   ]
  },
  {
   "cell_type": "code",
   "execution_count": 6,
   "metadata": {},
   "outputs": [
    {
     "data": {
      "text/plain": [
       "(32561, 15)"
      ]
     },
     "execution_count": 6,
     "metadata": {},
     "output_type": "execute_result"
    }
   ],
   "source": [
    "adult_df.shape"
   ]
  },
  {
   "cell_type": "code",
   "execution_count": 7,
   "metadata": {},
   "outputs": [],
   "source": [
    "# Dropping the column \"fnlwgt\" as it is not necessary for the homework\n",
    "adult_df.drop('fnlwgt', axis=1, inplace=True)"
   ]
  },
  {
   "cell_type": "code",
   "execution_count": 8,
   "metadata": {},
   "outputs": [
    {
     "data": {
      "text/html": [
       "<div>\n",
       "<style scoped>\n",
       "    .dataframe tbody tr th:only-of-type {\n",
       "        vertical-align: middle;\n",
       "    }\n",
       "\n",
       "    .dataframe tbody tr th {\n",
       "        vertical-align: top;\n",
       "    }\n",
       "\n",
       "    .dataframe thead th {\n",
       "        text-align: right;\n",
       "    }\n",
       "</style>\n",
       "<table border=\"1\" class=\"dataframe\">\n",
       "  <thead>\n",
       "    <tr style=\"text-align: right;\">\n",
       "      <th></th>\n",
       "      <th>age</th>\n",
       "      <th>workclass</th>\n",
       "      <th>education</th>\n",
       "      <th>education_num</th>\n",
       "      <th>marital_status</th>\n",
       "      <th>occupation</th>\n",
       "      <th>relationship</th>\n",
       "      <th>race</th>\n",
       "      <th>sex</th>\n",
       "      <th>capital_gain</th>\n",
       "      <th>capital_loss</th>\n",
       "      <th>hours_per_week</th>\n",
       "      <th>native_country</th>\n",
       "      <th>salary</th>\n",
       "    </tr>\n",
       "  </thead>\n",
       "  <tbody>\n",
       "    <tr>\n",
       "      <td>0</td>\n",
       "      <td>39</td>\n",
       "      <td>State-gov</td>\n",
       "      <td>Bachelors</td>\n",
       "      <td>13</td>\n",
       "      <td>Never-married</td>\n",
       "      <td>Adm-clerical</td>\n",
       "      <td>Not-in-family</td>\n",
       "      <td>White</td>\n",
       "      <td>Male</td>\n",
       "      <td>2174</td>\n",
       "      <td>0</td>\n",
       "      <td>40</td>\n",
       "      <td>United-States</td>\n",
       "      <td>&lt;=50K</td>\n",
       "    </tr>\n",
       "    <tr>\n",
       "      <td>1</td>\n",
       "      <td>50</td>\n",
       "      <td>Self-emp-not-inc</td>\n",
       "      <td>Bachelors</td>\n",
       "      <td>13</td>\n",
       "      <td>Married-civ-spouse</td>\n",
       "      <td>Exec-managerial</td>\n",
       "      <td>Husband</td>\n",
       "      <td>White</td>\n",
       "      <td>Male</td>\n",
       "      <td>0</td>\n",
       "      <td>0</td>\n",
       "      <td>13</td>\n",
       "      <td>United-States</td>\n",
       "      <td>&lt;=50K</td>\n",
       "    </tr>\n",
       "    <tr>\n",
       "      <td>2</td>\n",
       "      <td>38</td>\n",
       "      <td>Private</td>\n",
       "      <td>HS-grad</td>\n",
       "      <td>9</td>\n",
       "      <td>Divorced</td>\n",
       "      <td>Handlers-cleaners</td>\n",
       "      <td>Not-in-family</td>\n",
       "      <td>White</td>\n",
       "      <td>Male</td>\n",
       "      <td>0</td>\n",
       "      <td>0</td>\n",
       "      <td>40</td>\n",
       "      <td>United-States</td>\n",
       "      <td>&lt;=50K</td>\n",
       "    </tr>\n",
       "    <tr>\n",
       "      <td>3</td>\n",
       "      <td>53</td>\n",
       "      <td>Private</td>\n",
       "      <td>11th</td>\n",
       "      <td>7</td>\n",
       "      <td>Married-civ-spouse</td>\n",
       "      <td>Handlers-cleaners</td>\n",
       "      <td>Husband</td>\n",
       "      <td>Black</td>\n",
       "      <td>Male</td>\n",
       "      <td>0</td>\n",
       "      <td>0</td>\n",
       "      <td>40</td>\n",
       "      <td>United-States</td>\n",
       "      <td>&lt;=50K</td>\n",
       "    </tr>\n",
       "    <tr>\n",
       "      <td>4</td>\n",
       "      <td>28</td>\n",
       "      <td>Private</td>\n",
       "      <td>Bachelors</td>\n",
       "      <td>13</td>\n",
       "      <td>Married-civ-spouse</td>\n",
       "      <td>Prof-specialty</td>\n",
       "      <td>Wife</td>\n",
       "      <td>Black</td>\n",
       "      <td>Female</td>\n",
       "      <td>0</td>\n",
       "      <td>0</td>\n",
       "      <td>40</td>\n",
       "      <td>Cuba</td>\n",
       "      <td>&lt;=50K</td>\n",
       "    </tr>\n",
       "  </tbody>\n",
       "</table>\n",
       "</div>"
      ],
      "text/plain": [
       "   age         workclass  education  education_num      marital_status  \\\n",
       "0   39         State-gov  Bachelors             13       Never-married   \n",
       "1   50  Self-emp-not-inc  Bachelors             13  Married-civ-spouse   \n",
       "2   38           Private    HS-grad              9            Divorced   \n",
       "3   53           Private       11th              7  Married-civ-spouse   \n",
       "4   28           Private  Bachelors             13  Married-civ-spouse   \n",
       "\n",
       "          occupation   relationship   race     sex  capital_gain  \\\n",
       "0       Adm-clerical  Not-in-family  White    Male          2174   \n",
       "1    Exec-managerial        Husband  White    Male             0   \n",
       "2  Handlers-cleaners  Not-in-family  White    Male             0   \n",
       "3  Handlers-cleaners        Husband  Black    Male             0   \n",
       "4     Prof-specialty           Wife  Black  Female             0   \n",
       "\n",
       "   capital_loss  hours_per_week native_country salary  \n",
       "0             0              40  United-States  <=50K  \n",
       "1             0              13  United-States  <=50K  \n",
       "2             0              40  United-States  <=50K  \n",
       "3             0              40  United-States  <=50K  \n",
       "4             0              40           Cuba  <=50K  "
      ]
     },
     "execution_count": 8,
     "metadata": {},
     "output_type": "execute_result"
    }
   ],
   "source": [
    "adult_df.head()"
   ]
  },
  {
   "cell_type": "code",
   "execution_count": 9,
   "metadata": {},
   "outputs": [
    {
     "data": {
      "text/plain": [
       "age               0\n",
       "workclass         0\n",
       "education         0\n",
       "education_num     0\n",
       "marital_status    0\n",
       "occupation        0\n",
       "relationship      0\n",
       "race              0\n",
       "sex               0\n",
       "capital_gain      0\n",
       "capital_loss      0\n",
       "hours_per_week    0\n",
       "native_country    0\n",
       "salary            0\n",
       "dtype: int64"
      ]
     },
     "execution_count": 9,
     "metadata": {},
     "output_type": "execute_result"
    }
   ],
   "source": [
    "adult_df.isna().sum()"
   ]
  },
  {
   "cell_type": "code",
   "execution_count": 10,
   "metadata": {},
   "outputs": [
    {
     "data": {
      "text/plain": [
       "age               0\n",
       "workclass         0\n",
       "education         0\n",
       "education_num     0\n",
       "marital_status    0\n",
       "occupation        0\n",
       "relationship      0\n",
       "race              0\n",
       "sex               0\n",
       "capital_gain      0\n",
       "capital_loss      0\n",
       "hours_per_week    0\n",
       "native_country    0\n",
       "salary            0\n",
       "dtype: int64"
      ]
     },
     "execution_count": 10,
     "metadata": {},
     "output_type": "execute_result"
    }
   ],
   "source": [
    "adult_df.isnull().sum()"
   ]
  },
  {
   "cell_type": "code",
   "execution_count": 11,
   "metadata": {},
   "outputs": [],
   "source": [
    "# Using the .replace() method to convert a salary column into a binary feature\n",
    "adult_df[\"salary\"].replace({'<=50K':0, '>50K':1}, inplace=True)"
   ]
  },
  {
   "cell_type": "code",
   "execution_count": 12,
   "metadata": {},
   "outputs": [
    {
     "data": {
      "text/plain": [
       "0    0\n",
       "1    0\n",
       "2    0\n",
       "3    0\n",
       "4    0\n",
       "Name: salary, dtype: int64"
      ]
     },
     "execution_count": 12,
     "metadata": {},
     "output_type": "execute_result"
    }
   ],
   "source": [
    "adult_df[\"salary\"].head()"
   ]
  },
  {
   "cell_type": "code",
   "execution_count": 13,
   "metadata": {},
   "outputs": [
    {
     "name": "stdout",
     "output_type": "stream",
     "text": [
      "(32561, 13)\n",
      "(32561,)\n"
     ]
    }
   ],
   "source": [
    "# Creating X and Y variable for our dataframe\n",
    "\n",
    "X = adult_df.drop(columns='salary')\n",
    "print(X.shape)\n",
    "y = adult_df[\"salary\"]\n",
    "print(y.shape)"
   ]
  },
  {
   "cell_type": "code",
   "execution_count": 14,
   "metadata": {},
   "outputs": [
    {
     "data": {
      "text/plain": [
       "0    24720\n",
       "1     7841\n",
       "Name: salary, dtype: int64"
      ]
     },
     "execution_count": 14,
     "metadata": {},
     "output_type": "execute_result"
    }
   ],
   "source": [
    "# Getting the frequency of each of the binary values in the Y variable\n",
    "y.value_counts()"
   ]
  },
  {
   "cell_type": "code",
   "execution_count": 15,
   "metadata": {},
   "outputs": [],
   "source": [
    "# One-hot encoding on the X variable\n",
    "\n",
    "X_encoded = pd.get_dummies(X)\n"
   ]
  },
  {
   "cell_type": "code",
   "execution_count": 16,
   "metadata": {},
   "outputs": [
    {
     "data": {
      "text/plain": [
       "(32561, 107)"
      ]
     },
     "execution_count": 16,
     "metadata": {},
     "output_type": "execute_result"
    }
   ],
   "source": [
    "X_encoded.shape"
   ]
  },
  {
   "cell_type": "code",
   "execution_count": 17,
   "metadata": {},
   "outputs": [],
   "source": [
    "# Splitting the one-hote encoded X variable into train test datasets\n",
    "X_train, X_test, y_train, y_test= train_test_split(X_encoded, y, test_size=0.3, random_state = 41)"
   ]
  },
  {
   "cell_type": "code",
   "execution_count": 18,
   "metadata": {},
   "outputs": [
    {
     "name": "stdout",
     "output_type": "stream",
     "text": [
      "(22792, 107)\n",
      "(9769, 107)\n",
      "(22792,)\n",
      "(9769,)\n"
     ]
    }
   ],
   "source": [
    "print(X_train.shape)\n",
    "print(X_test.shape)\n",
    "print(y_train.shape)\n",
    "print(y_test.shape)"
   ]
  },
  {
   "cell_type": "markdown",
   "metadata": {},
   "source": [
    "# 2. Random Forest Classifier - Base Model:"
   ]
  },
  {
   "cell_type": "code",
   "execution_count": 58,
   "metadata": {},
   "outputs": [],
   "source": [
    "rf_base = RandomForestClassifier()\n",
    "\n"
   ]
  },
  {
   "cell_type": "code",
   "execution_count": 59,
   "metadata": {},
   "outputs": [
    {
     "data": {
      "text/plain": [
       "RandomForestClassifier(bootstrap=True, class_weight=None, criterion='gini',\n",
       "                       max_depth=None, max_features='auto', max_leaf_nodes=None,\n",
       "                       min_impurity_decrease=0.0, min_impurity_split=None,\n",
       "                       min_samples_leaf=1, min_samples_split=2,\n",
       "                       min_weight_fraction_leaf=0.0, n_estimators=10,\n",
       "                       n_jobs=None, oob_score=False, random_state=None,\n",
       "                       verbose=0, warm_start=False)"
      ]
     },
     "execution_count": 59,
     "metadata": {},
     "output_type": "execute_result"
    }
   ],
   "source": [
    "# Fitting the base model Random forest classifier on X_train and y_train\n",
    "rf_base.fit(X_train, y_train)"
   ]
  },
  {
   "cell_type": "code",
   "execution_count": 60,
   "metadata": {},
   "outputs": [],
   "source": [
    "# predicting the classes using the Random forest base model on the test data\n",
    "y_test_rf_base_pred  = rf_base.predict(X_test)"
   ]
  },
  {
   "cell_type": "code",
   "execution_count": 61,
   "metadata": {},
   "outputs": [],
   "source": [
    "# predicting the probabilities using the Random forest base model on the test data\n",
    "y_test_rf_base_proba  = rf_base.predict_proba(X_test)"
   ]
  },
  {
   "cell_type": "code",
   "execution_count": 62,
   "metadata": {},
   "outputs": [
    {
     "data": {
      "text/plain": [
       "array([[6808,  597],\n",
       "       [ 994, 1370]])"
      ]
     },
     "execution_count": 62,
     "metadata": {},
     "output_type": "execute_result"
    }
   ],
   "source": [
    "# Generating the confusion matrix for Random forest base model on the test data\n",
    "cf_matrix_rf_base_test = metrics.confusion_matrix(y_test, y_test_rf_base_pred)\n",
    "cf_matrix_rf_base_test"
   ]
  },
  {
   "cell_type": "code",
   "execution_count": 63,
   "metadata": {},
   "outputs": [
    {
     "data": {
      "image/png": "[encoded data removed]",
      "text/plain": [
       "<Figure size 432x288 with 2 Axes>"
      ]
     },
     "metadata": {
      "needs_background": "light"
     },
     "output_type": "display_data"
    }
   ],
   "source": [
    "# Creating a heat map for the confusion matrix for Random forest base model on the test data\n",
    "def conf_matrix_heatmap(confusion_matrix):\n",
    "    sns.heatmap(confusion_matrix, annot=True, cmap=\"Blues\" ,fmt='')\n",
    "    plt.tight_layout()\n",
    "    plt.title('Confusion Matrix for Base Model for the test data', y=1.1)\n",
    "    plt.ylabel('Actual label')\n",
    "    plt.xlabel('Predicted label')\n",
    "\n",
    "\n",
    "    b, t = plt.ylim() # discover the values for bottom and top\n",
    "    b += 0.8 # Add 0.8 to the bottom\n",
    "    t -= 0.8 # Subtract 0.8 from the top\n",
    "    plt.ylim(b, t) # update the ylim(bottom, top) values\n",
    "    plt.show()\n",
    "\n",
    "conf_matrix_heatmap(cf_matrix_rf_base_test)"
   ]
  },
  {
   "cell_type": "code",
   "execution_count": 64,
   "metadata": {},
   "outputs": [
    {
     "name": "stdout",
     "output_type": "stream",
     "text": [
      "              precision    recall  f1-score   support\n",
      "\n",
      "           0       0.87      0.92      0.90      7405\n",
      "           1       0.70      0.58      0.63      2364\n",
      "\n",
      "    accuracy                           0.84      9769\n",
      "   macro avg       0.78      0.75      0.76      9769\n",
      "weighted avg       0.83      0.84      0.83      9769\n",
      "\n"
     ]
    }
   ],
   "source": [
    "# Creating a classification report for Random forest base model on the test data\n",
    "clf_report_rf_base_test = metrics.classification_report(y_test, y_test_rf_base_pred)\n",
    "print(clf_report_rf_base_test)"
   ]
  },
  {
   "cell_type": "code",
   "execution_count": 65,
   "metadata": {},
   "outputs": [
    {
     "name": "stdout",
     "output_type": "stream",
     "text": [
      "0.8631292479700572\n"
     ]
    }
   ],
   "source": [
    "# Calculating the ROC AUC score for Random forest base model on the test data\n",
    "roc_auc_rf_base_test = metrics.roc_auc_score(y_test, y_test_rf_base_proba[:,1])\n",
    "print(roc_auc_rf_base_test)"
   ]
  },
  {
   "cell_type": "code",
   "execution_count": 66,
   "metadata": {},
   "outputs": [
    {
     "data": {
      "text/plain": [
       "Text(0, 0.5, 'Feature Importance')"
      ]
     },
     "execution_count": 66,
     "metadata": {},
     "output_type": "execute_result"
    },
    {
     "data": {
      "image/png": "[encoded data removed]",
      "text/plain": [
       "<Figure size 432x288 with 1 Axes>"
      ]
     },
     "metadata": {
      "needs_background": "light"
     },
     "output_type": "display_data"
    }
   ],
   "source": [
    "# Identifying the top 5 features and plotting them\n",
    "# Feature importance plot\n",
    "feature_imp_rf_base = pd.DataFrame({'Name of the feature': X_test.columns, 'Feature Importance': rf_base.feature_importances_})\n",
    "feature_imp_rf_base = feature_imp_rf_base.sort_values('Feature Importance', ascending=False).head(5)\n",
    "ax = feature_imp_rf_base.plot.bar(x='Name of the feature', y='Feature Importance')\n",
    "ax.set_ylabel('Feature Importance')"
   ]
  },
  {
   "cell_type": "code",
   "execution_count": 67,
   "metadata": {},
   "outputs": [
    {
     "data": {
      "text/html": [
       "<div>\n",
       "<style scoped>\n",
       "    .dataframe tbody tr th:only-of-type {\n",
       "        vertical-align: middle;\n",
       "    }\n",
       "\n",
       "    .dataframe tbody tr th {\n",
       "        vertical-align: top;\n",
       "    }\n",
       "\n",
       "    .dataframe thead th {\n",
       "        text-align: right;\n",
       "    }\n",
       "</style>\n",
       "<table border=\"1\" class=\"dataframe\">\n",
       "  <thead>\n",
       "    <tr style=\"text-align: right;\">\n",
       "      <th></th>\n",
       "      <th>importance</th>\n",
       "    </tr>\n",
       "    <tr>\n",
       "      <th>feature</th>\n",
       "      <th></th>\n",
       "    </tr>\n",
       "  </thead>\n",
       "  <tbody>\n",
       "    <tr>\n",
       "      <td>age</td>\n",
       "      <td>0.224</td>\n",
       "    </tr>\n",
       "    <tr>\n",
       "      <td>hours_per_week</td>\n",
       "      <td>0.121</td>\n",
       "    </tr>\n",
       "    <tr>\n",
       "      <td>capital_gain</td>\n",
       "      <td>0.087</td>\n",
       "    </tr>\n",
       "    <tr>\n",
       "      <td>education_num</td>\n",
       "      <td>0.081</td>\n",
       "    </tr>\n",
       "    <tr>\n",
       "      <td>marital_status_Married-civ-spouse</td>\n",
       "      <td>0.059</td>\n",
       "    </tr>\n",
       "  </tbody>\n",
       "</table>\n",
       "</div>"
      ],
      "text/plain": [
       "                                   importance\n",
       "feature                                      \n",
       "age                                     0.224\n",
       "hours_per_week                          0.121\n",
       "capital_gain                            0.087\n",
       "education_num                           0.081\n",
       "marital_status_Married-civ-spouse       0.059"
      ]
     },
     "execution_count": 67,
     "metadata": {},
     "output_type": "execute_result"
    }
   ],
   "source": [
    "# Sequence of feature importace for the Random forest base model\n",
    "rf_base_importances = pd.DataFrame({'feature':X_train.columns,'importance':np.round(rf_base.feature_importances_,3)})\n",
    "rf_base_importances = rf_base_importances.sort_values('importance',ascending=False).set_index('feature')\n",
    "rf_base_importances.head(5)"
   ]
  },
  {
   "cell_type": "code",
   "execution_count": 68,
   "metadata": {},
   "outputs": [],
   "source": [
    "# predicting the classes using the Random forest base model on the train data\n",
    "y_train_rf_base_pred  = rf_base.predict(X_train)"
   ]
  },
  {
   "cell_type": "code",
   "execution_count": 69,
   "metadata": {},
   "outputs": [],
   "source": [
    "# predicting the probabilities using the Random forest base model on the train data\n",
    "y_train_rf_base_proba  = rf_base.predict_proba(X_train)"
   ]
  },
  {
   "cell_type": "code",
   "execution_count": 70,
   "metadata": {},
   "outputs": [
    {
     "data": {
      "text/plain": [
       "array([[17102,   213],\n",
       "       [  475,  5002]])"
      ]
     },
     "execution_count": 70,
     "metadata": {},
     "output_type": "execute_result"
    }
   ],
   "source": [
    "# Generating the confusion matrix for Random forest base model on the train data\n",
    "cf_matrix_rf_base_train = metrics.confusion_matrix(y_train, y_train_rf_base_pred)\n",
    "cf_matrix_rf_base_train"
   ]
  },
  {
   "cell_type": "code",
   "execution_count": 71,
   "metadata": {},
   "outputs": [
    {
     "data": {
      "image/png": "[encoded data removed]",
      "text/plain": [
       "<Figure size 432x288 with 2 Axes>"
      ]
     },
     "metadata": {
      "needs_background": "light"
     },
     "output_type": "display_data"
    }
   ],
   "source": [
    "# Creating a heat map for the confusion matrix for Random forest base model on the test data\n",
    "\n",
    "conf_matrix_heatmap(cf_matrix_rf_base_train)"
   ]
  },
  {
   "cell_type": "code",
   "execution_count": 72,
   "metadata": {},
   "outputs": [
    {
     "name": "stdout",
     "output_type": "stream",
     "text": [
      "              precision    recall  f1-score   support\n",
      "\n",
      "           0       0.97      0.99      0.98     17315\n",
      "           1       0.96      0.91      0.94      5477\n",
      "\n",
      "    accuracy                           0.97     22792\n",
      "   macro avg       0.97      0.95      0.96     22792\n",
      "weighted avg       0.97      0.97      0.97     22792\n",
      "\n"
     ]
    }
   ],
   "source": [
    "# Creating a classification report for Random forest base model on the train data\n",
    "clf_report_rf_base_train = metrics.classification_report(y_train, y_train_rf_base_pred)\n",
    "print(clf_report_rf_base_train)"
   ]
  },
  {
   "cell_type": "code",
   "execution_count": 73,
   "metadata": {},
   "outputs": [
    {
     "name": "stdout",
     "output_type": "stream",
     "text": [
      "0.9958302303318565\n"
     ]
    }
   ],
   "source": [
    "# Calculating the ROC AUC score for Random forest base model on the train data\n",
    "roc_auc_rf_base_train = metrics.roc_auc_score(y_train, y_train_rf_base_proba[:,1])\n",
    "print(roc_auc_rf_base_train)"
   ]
  },
  {
   "cell_type": "markdown",
   "metadata": {},
   "source": [
    "The base model random forest classifier is definitely overfit at this point until we add some custom parameters to the base model random forest classifier . As we notice , the classification metrics for the train data is almost perfect and very much exceeding their corresponding metrics that we obtained using the base model on the test data. . It looks like the train data has been memorized and the base model is not going to perform well when its exposed to other data when the model is deployed to the production environment. Perfect classification for both the classes is observed in the train data along with almost equal to 1 values of metrics like precision , recall and f1-score . There is a huge gap between the training and testing data metrics of the random forest base model. The noise has been memorized and has to be take care of using regularization techniques."
   ]
  },
  {
   "cell_type": "markdown",
   "metadata": {},
   "source": [
    "# 3. AdaBoost Classifier - GridSearch:"
   ]
  },
  {
   "cell_type": "code",
   "execution_count": 74,
   "metadata": {},
   "outputs": [],
   "source": [
    "# Creating an instance of Adaboost classifier with default parameters\n",
    "ada = AdaBoostClassifier()"
   ]
  },
  {
   "cell_type": "code",
   "execution_count": 75,
   "metadata": {},
   "outputs": [],
   "source": [
    "# Creating the parameter grid that can be used for the grid search CV\n",
    "\n",
    "param_grid =  {\n",
    "    'n_estimators': [100, 200, 300, 400],\n",
    "    'learning_rate': [0.2,0.4,0.6,0.8,1, 1.2],\n",
    "    'random_state' : [321]\n",
    "}"
   ]
  },
  {
   "cell_type": "code",
   "execution_count": 76,
   "metadata": {},
   "outputs": [],
   "source": [
    "# Creating a grid search object with all the necessary parameters\n",
    "ada_gs_cv = GridSearchCV(ada, param_grid, cv=5, scoring='roc_auc',refit=True, n_jobs=-1, verbose=1)"
   ]
  },
  {
   "cell_type": "code",
   "execution_count": 77,
   "metadata": {},
   "outputs": [
    {
     "name": "stdout",
     "output_type": "stream",
     "text": [
      "Fitting 5 folds for each of 24 candidates, totalling 120 fits\n"
     ]
    },
    {
     "name": "stderr",
     "output_type": "stream",
     "text": [
      "[Parallel(n_jobs=-1)]: Using backend LokyBackend with 8 concurrent workers.\n",
      "[Parallel(n_jobs=-1)]: Done  34 tasks      | elapsed:  1.0min\n",
      "[Parallel(n_jobs=-1)]: Done 120 out of 120 | elapsed:  3.3min finished\n"
     ]
    },
    {
     "data": {
      "text/plain": [
       "GridSearchCV(cv=5, error_score='raise-deprecating',\n",
       "             estimator=AdaBoostClassifier(algorithm='SAMME.R',\n",
       "                                          base_estimator=None,\n",
       "                                          learning_rate=1.0, n_estimators=50,\n",
       "                                          random_state=None),\n",
       "             iid='warn', n_jobs=-1,\n",
       "             param_grid={'learning_rate': [0.2, 0.4, 0.6, 0.8, 1, 1.2],\n",
       "                         'n_estimators': [100, 200, 300, 400],\n",
       "                         'random_state': [321]},\n",
       "             pre_dispatch='2*n_jobs', refit=True, return_train_score=False,\n",
       "             scoring='roc_auc', verbose=1)"
      ]
     },
     "execution_count": 77,
     "metadata": {},
     "output_type": "execute_result"
    }
   ],
   "source": [
    "# Fitting the grid search CV ADdaboost model on training data \n",
    "ada_gs_cv.fit(X_train, y_train)"
   ]
  },
  {
   "cell_type": "code",
   "execution_count": 78,
   "metadata": {},
   "outputs": [
    {
     "data": {
      "text/plain": [
       "AdaBoostClassifier(algorithm='SAMME.R', base_estimator=None, learning_rate=1.2,\n",
       "                   n_estimators=400, random_state=321)"
      ]
     },
     "execution_count": 78,
     "metadata": {},
     "output_type": "execute_result"
    }
   ],
   "source": [
    "# Identifying and choosing the best model from the grid search\n",
    "bestModel_ada = ada_gs_cv.best_estimator_\n",
    "bestModel_ada"
   ]
  },
  {
   "cell_type": "code",
   "execution_count": 79,
   "metadata": {},
   "outputs": [],
   "source": [
    "# Predicting the classes on the test data using Adaboost best model\n",
    "y_pred_test_ada_best = bestModel_ada.predict(X_test)\n"
   ]
  },
  {
   "cell_type": "code",
   "execution_count": 80,
   "metadata": {},
   "outputs": [],
   "source": [
    "# Calculating the predicted probabilities on the test data using Adaboost best model\n",
    "y_pred_test_ada_best_proba = bestModel_ada.predict_proba(X_test)"
   ]
  },
  {
   "cell_type": "code",
   "execution_count": 81,
   "metadata": {},
   "outputs": [
    {
     "data": {
      "text/plain": [
       "array([[6973,  432],\n",
       "       [ 820, 1544]])"
      ]
     },
     "execution_count": 81,
     "metadata": {},
     "output_type": "execute_result"
    }
   ],
   "source": [
    "# Generating the confusion matrix for Adaboost grid search best model on the test data\n",
    "cf_matrix_ada_best_test = metrics.confusion_matrix(y_test, y_pred_test_ada_best)\n",
    "cf_matrix_ada_best_test"
   ]
  },
  {
   "cell_type": "code",
   "execution_count": 82,
   "metadata": {},
   "outputs": [
    {
     "data": {
      "image/png": "[encoded data removed]",
      "text/plain": [
       "<Figure size 432x288 with 2 Axes>"
      ]
     },
     "metadata": {
      "needs_background": "light"
     },
     "output_type": "display_data"
    }
   ],
   "source": [
    "# Creating a heat map for the confusion matrix for Adaboost grid search best model on the test data\n",
    "conf_matrix_heatmap(cf_matrix_ada_best_test)"
   ]
  },
  {
   "cell_type": "code",
   "execution_count": 83,
   "metadata": {},
   "outputs": [
    {
     "name": "stdout",
     "output_type": "stream",
     "text": [
      "              precision    recall  f1-score   support\n",
      "\n",
      "           0       0.89      0.94      0.92      7405\n",
      "           1       0.78      0.65      0.71      2364\n",
      "\n",
      "    accuracy                           0.87      9769\n",
      "   macro avg       0.84      0.80      0.81      9769\n",
      "weighted avg       0.87      0.87      0.87      9769\n",
      "\n"
     ]
    }
   ],
   "source": [
    "# Creating a classification report for Adaboost grid search best model on the test data\n",
    "clf_report_ada_best_test = metrics.classification_report(y_test, y_pred_test_ada_best)\n",
    "print(clf_report_ada_best_test)"
   ]
  },
  {
   "cell_type": "code",
   "execution_count": 84,
   "metadata": {},
   "outputs": [
    {
     "name": "stdout",
     "output_type": "stream",
     "text": [
      "0.9267887602811014\n"
     ]
    }
   ],
   "source": [
    "# Calculating the ROC AUC score for Adaboost grid search best model on the test data\n",
    "roc_auc_ada_best_test = metrics.roc_auc_score(y_test, y_pred_test_ada_best_proba[:,1])\n",
    "print(roc_auc_ada_best_test)"
   ]
  },
  {
   "cell_type": "code",
   "execution_count": 85,
   "metadata": {},
   "outputs": [
    {
     "data": {
      "text/plain": [
       "Text(0, 0.5, 'Feature Importance')"
      ]
     },
     "execution_count": 85,
     "metadata": {},
     "output_type": "execute_result"
    },
    {
     "data": {
      "image/png": "[encoded data removed]",
      "text/plain": [
       "<Figure size 432x288 with 1 Axes>"
      ]
     },
     "metadata": {
      "needs_background": "light"
     },
     "output_type": "display_data"
    }
   ],
   "source": [
    "# Identifying the top 5 features and plotting them for the Adaboost grid search best model\n",
    "# Feature importance plot\n",
    "feature_imp_ada_best = pd.DataFrame({'Name of the feature': X_test.columns, 'Feature Importance': bestModel_ada.feature_importances_})\n",
    "feature_imp_ada_best = feature_imp_ada_best.sort_values('Feature Importance', ascending=False).head(5)\n",
    "ax = feature_imp_ada_best.plot.bar(x='Name of the feature', y='Feature Importance')\n",
    "ax.set_ylabel('Feature Importance')"
   ]
  },
  {
   "cell_type": "code",
   "execution_count": 86,
   "metadata": {},
   "outputs": [
    {
     "data": {
      "text/html": [
       "<div>\n",
       "<style scoped>\n",
       "    .dataframe tbody tr th:only-of-type {\n",
       "        vertical-align: middle;\n",
       "    }\n",
       "\n",
       "    .dataframe tbody tr th {\n",
       "        vertical-align: top;\n",
       "    }\n",
       "\n",
       "    .dataframe thead th {\n",
       "        text-align: right;\n",
       "    }\n",
       "</style>\n",
       "<table border=\"1\" class=\"dataframe\">\n",
       "  <thead>\n",
       "    <tr style=\"text-align: right;\">\n",
       "      <th></th>\n",
       "      <th>importance</th>\n",
       "    </tr>\n",
       "    <tr>\n",
       "      <th>feature</th>\n",
       "      <th></th>\n",
       "    </tr>\n",
       "  </thead>\n",
       "  <tbody>\n",
       "    <tr>\n",
       "      <td>capital_gain</td>\n",
       "      <td>0.332</td>\n",
       "    </tr>\n",
       "    <tr>\n",
       "      <td>capital_loss</td>\n",
       "      <td>0.305</td>\n",
       "    </tr>\n",
       "    <tr>\n",
       "      <td>age</td>\n",
       "      <td>0.088</td>\n",
       "    </tr>\n",
       "    <tr>\n",
       "      <td>hours_per_week</td>\n",
       "      <td>0.055</td>\n",
       "    </tr>\n",
       "    <tr>\n",
       "      <td>education_num</td>\n",
       "      <td>0.015</td>\n",
       "    </tr>\n",
       "  </tbody>\n",
       "</table>\n",
       "</div>"
      ],
      "text/plain": [
       "                importance\n",
       "feature                   \n",
       "capital_gain         0.332\n",
       "capital_loss         0.305\n",
       "age                  0.088\n",
       "hours_per_week       0.055\n",
       "education_num        0.015"
      ]
     },
     "execution_count": 86,
     "metadata": {},
     "output_type": "execute_result"
    }
   ],
   "source": [
    "# Sequence of feature importance for the Adaboost best model\n",
    "ada_best_importances = pd.DataFrame({'feature':X_train.columns,'importance':np.round(bestModel_ada.feature_importances_,3)})\n",
    "ada_best_importances = ada_best_importances.sort_values('importance',ascending=False).set_index('feature')\n",
    "ada_best_importances.head(5)"
   ]
  },
  {
   "cell_type": "code",
   "execution_count": 87,
   "metadata": {},
   "outputs": [],
   "source": [
    "# Predicting the classes on the train data using Adaboost best model\n",
    "y_pred_train_ada_best = bestModel_ada.predict(X_train)"
   ]
  },
  {
   "cell_type": "code",
   "execution_count": 88,
   "metadata": {},
   "outputs": [],
   "source": [
    "# Calculating the predicted probabilities on the train data using Adaboost best model\n",
    "y_pred_train_ada_best_proba = bestModel_ada.predict_proba(X_train)"
   ]
  },
  {
   "cell_type": "code",
   "execution_count": 89,
   "metadata": {},
   "outputs": [
    {
     "data": {
      "text/plain": [
       "array([[16353,   962],\n",
       "       [ 1921,  3556]])"
      ]
     },
     "execution_count": 89,
     "metadata": {},
     "output_type": "execute_result"
    }
   ],
   "source": [
    "# Generating the confusion matrix for Adaboost grid search best model on the train data\n",
    "cf_matrix_ada_best_train = metrics.confusion_matrix(y_train, y_pred_train_ada_best)\n",
    "cf_matrix_ada_best_train"
   ]
  },
  {
   "cell_type": "code",
   "execution_count": 90,
   "metadata": {},
   "outputs": [
    {
     "data": {
      "image/png": "[encoded data removed]",
      "text/plain": [
       "<Figure size 432x288 with 2 Axes>"
      ]
     },
     "metadata": {
      "needs_background": "light"
     },
     "output_type": "display_data"
    }
   ],
   "source": [
    "# Creating a heat map for the confusion matrix for Adaboost grid search best model on the train data\n",
    "conf_matrix_heatmap(cf_matrix_ada_best_train)"
   ]
  },
  {
   "cell_type": "code",
   "execution_count": 91,
   "metadata": {},
   "outputs": [
    {
     "name": "stdout",
     "output_type": "stream",
     "text": [
      "              precision    recall  f1-score   support\n",
      "\n",
      "           0       0.89      0.94      0.92     17315\n",
      "           1       0.79      0.65      0.71      5477\n",
      "\n",
      "    accuracy                           0.87     22792\n",
      "   macro avg       0.84      0.80      0.82     22792\n",
      "weighted avg       0.87      0.87      0.87     22792\n",
      "\n"
     ]
    }
   ],
   "source": [
    "# Creating a classification report for Adaboost grid search best model on the train data\n",
    "clf_report_ada_best_train = metrics.classification_report(y_train, y_pred_train_ada_best)\n",
    "print(clf_report_ada_best_train)"
   ]
  },
  {
   "cell_type": "code",
   "execution_count": 92,
   "metadata": {},
   "outputs": [
    {
     "name": "stdout",
     "output_type": "stream",
     "text": [
      "0.93154685508944\n"
     ]
    }
   ],
   "source": [
    "# Calculating the ROC AUC score for Adaboost grid search best model on the train data\n",
    "roc_auc_ada_best_train = metrics.roc_auc_score(y_train, y_pred_train_ada_best_proba[:,1])\n",
    "print(roc_auc_ada_best_train)"
   ]
  },
  {
   "cell_type": "markdown",
   "metadata": {},
   "source": [
    "It is little surprising to observe that there is no overfitting because we do not see a huge gap in the values of the classifier metrics of the Adaboost grid search best model between the train and test data . Their values are almost the same . Although the grid search Adaboost model took a little longer to run but its performance is much better compared to the random forest base model."
   ]
  },
  {
   "cell_type": "markdown",
   "metadata": {},
   "source": [
    "# 4. Gradient Boosting Classifier - GridSearch:"
   ]
  },
  {
   "cell_type": "code",
   "execution_count": 93,
   "metadata": {},
   "outputs": [],
   "source": [
    "# Setting up our param grid \n",
    "gb_params = {\n",
    "    'n_estimators': [100, 200, 300, 400],\n",
    "    'learning_rate': [0.2,0.4,0.6,0.8,1.0],\n",
    "    'max_depth': [1,2,3],\n",
    "    'random_state' : [324]\n",
    "}"
   ]
  },
  {
   "cell_type": "code",
   "execution_count": 94,
   "metadata": {},
   "outputs": [],
   "source": [
    "# Creating a gradient boosting instance\n",
    "gb = GradientBoostingClassifier()"
   ]
  },
  {
   "cell_type": "code",
   "execution_count": 95,
   "metadata": {},
   "outputs": [],
   "source": [
    "# Creating a grid search object with all the necessary parameters for our Gradient boosting model\n",
    "grid_search_gb = GridSearchCV(gb, gb_params, cv = 5, scoring = 'roc_auc',refit = True, n_jobs=-1, verbose = 5)\n"
   ]
  },
  {
   "cell_type": "code",
   "execution_count": 96,
   "metadata": {},
   "outputs": [
    {
     "name": "stdout",
     "output_type": "stream",
     "text": [
      "Fitting 5 folds for each of 60 candidates, totalling 300 fits\n"
     ]
    },
    {
     "name": "stderr",
     "output_type": "stream",
     "text": [
      "[Parallel(n_jobs=-1)]: Using backend LokyBackend with 8 concurrent workers.\n",
      "[Parallel(n_jobs=-1)]: Done   2 tasks      | elapsed:    2.4s\n",
      "[Parallel(n_jobs=-1)]: Done  56 tasks      | elapsed:  1.3min\n",
      "[Parallel(n_jobs=-1)]: Done 146 tasks      | elapsed:  3.3min\n",
      "[Parallel(n_jobs=-1)]: Done 272 tasks      | elapsed:  6.2min\n",
      "[Parallel(n_jobs=-1)]: Done 300 out of 300 | elapsed:  7.1min finished\n"
     ]
    },
    {
     "data": {
      "text/plain": [
       "GridSearchCV(cv=5, error_score='raise-deprecating',\n",
       "             estimator=GradientBoostingClassifier(criterion='friedman_mse',\n",
       "                                                  init=None, learning_rate=0.1,\n",
       "                                                  loss='deviance', max_depth=3,\n",
       "                                                  max_features=None,\n",
       "                                                  max_leaf_nodes=None,\n",
       "                                                  min_impurity_decrease=0.0,\n",
       "                                                  min_impurity_split=None,\n",
       "                                                  min_samples_leaf=1,\n",
       "                                                  min_samples_split=2,\n",
       "                                                  min_weight_fraction_leaf=0.0,\n",
       "                                                  n_estimators=100,\n",
       "                                                  n_iter_no...=None,\n",
       "                                                  presort='auto',\n",
       "                                                  random_state=None,\n",
       "                                                  subsample=1.0, tol=0.0001,\n",
       "                                                  validation_fraction=0.1,\n",
       "                                                  verbose=0, warm_start=False),\n",
       "             iid='warn', n_jobs=-1,\n",
       "             param_grid={'learning_rate': [0.2, 0.4, 0.6, 0.8, 1.0],\n",
       "                         'max_depth': [1, 2, 3],\n",
       "                         'n_estimators': [100, 200, 300, 400],\n",
       "                         'random_state': [324]},\n",
       "             pre_dispatch='2*n_jobs', refit=True, return_train_score=False,\n",
       "             scoring='roc_auc', verbose=5)"
      ]
     },
     "execution_count": 96,
     "metadata": {},
     "output_type": "execute_result"
    }
   ],
   "source": [
    "# Fitting the grid search  Gradient boosting model on training data \n",
    "grid_search_gb.fit(X_train, y_train)"
   ]
  },
  {
   "cell_type": "code",
   "execution_count": 97,
   "metadata": {},
   "outputs": [
    {
     "data": {
      "text/plain": [
       "GradientBoostingClassifier(criterion='friedman_mse', init=None,\n",
       "                           learning_rate=0.2, loss='deviance', max_depth=3,\n",
       "                           max_features=None, max_leaf_nodes=None,\n",
       "                           min_impurity_decrease=0.0, min_impurity_split=None,\n",
       "                           min_samples_leaf=1, min_samples_split=2,\n",
       "                           min_weight_fraction_leaf=0.0, n_estimators=300,\n",
       "                           n_iter_no_change=None, presort='auto',\n",
       "                           random_state=324, subsample=1.0, tol=0.0001,\n",
       "                           validation_fraction=0.1, verbose=0,\n",
       "                           warm_start=False)"
      ]
     },
     "execution_count": 97,
     "metadata": {},
     "output_type": "execute_result"
    }
   ],
   "source": [
    "# Identifying and choosing the best model from the grid search for the Gradient boosting technique\n",
    "bestModel_gb = grid_search_gb.best_estimator_\n",
    "bestModel_gb"
   ]
  },
  {
   "cell_type": "code",
   "execution_count": 120,
   "metadata": {},
   "outputs": [
    {
     "data": {
      "text/plain": [
       "{'learning_rate': 0.2,\n",
       " 'max_depth': 3,\n",
       " 'n_estimators': 300,\n",
       " 'random_state': 324}"
      ]
     },
     "execution_count": 120,
     "metadata": {},
     "output_type": "execute_result"
    }
   ],
   "source": [
    "grid_search_gb.best_params_"
   ]
  },
  {
   "cell_type": "code",
   "execution_count": 98,
   "metadata": {},
   "outputs": [],
   "source": [
    "# Predicting the classes on the test data using Gradient boosting best model\n",
    "y_pred_test_gb_best = bestModel_gb.predict(X_test)"
   ]
  },
  {
   "cell_type": "code",
   "execution_count": 99,
   "metadata": {},
   "outputs": [],
   "source": [
    "# Calculating the predicted probabilities on the test data using Gradient boosting best model\n",
    "y_pred_test_gb_best_proba = bestModel_gb.predict_proba(X_test)"
   ]
  },
  {
   "cell_type": "code",
   "execution_count": 119,
   "metadata": {},
   "outputs": [
    {
     "data": {
      "text/plain": [
       "array([[6967,  438],\n",
       "       [ 788, 1576]])"
      ]
     },
     "execution_count": 119,
     "metadata": {},
     "output_type": "execute_result"
    }
   ],
   "source": [
    "# Generating the confusion matrix for Gradient boosting best model on the test data\n",
    "cf_matrix_gb_best_test = metrics.confusion_matrix(y_test, y_pred_test_gb_best)\n",
    "cf_matrix_gb_best_test"
   ]
  },
  {
   "cell_type": "code",
   "execution_count": 101,
   "metadata": {},
   "outputs": [
    {
     "data": {
      "image/png": "[encoded data removed]",
      "text/plain": [
       "<Figure size 432x288 with 2 Axes>"
      ]
     },
     "metadata": {
      "needs_background": "light"
     },
     "output_type": "display_data"
    }
   ],
   "source": [
    "# Creating a heat map for the confusion matrix for Gradient boosting best model on the test data\n",
    "conf_matrix_heatmap(cf_matrix_gb_best_test)"
   ]
  },
  {
   "cell_type": "code",
   "execution_count": 102,
   "metadata": {},
   "outputs": [
    {
     "name": "stdout",
     "output_type": "stream",
     "text": [
      "              precision    recall  f1-score   support\n",
      "\n",
      "           0       0.90      0.94      0.92      7405\n",
      "           1       0.78      0.67      0.72      2364\n",
      "\n",
      "    accuracy                           0.87      9769\n",
      "   macro avg       0.84      0.80      0.82      9769\n",
      "weighted avg       0.87      0.87      0.87      9769\n",
      "\n"
     ]
    }
   ],
   "source": [
    "# Creating a classification report for Gradient boosting best model on the test data\n",
    "clf_report_gb_best_test = metrics.classification_report(y_test, y_pred_test_gb_best)\n",
    "print(clf_report_gb_best_test)"
   ]
  },
  {
   "cell_type": "code",
   "execution_count": 103,
   "metadata": {},
   "outputs": [
    {
     "name": "stdout",
     "output_type": "stream",
     "text": [
      "0.927400370856569\n"
     ]
    }
   ],
   "source": [
    "# Calculating the ROC AUC score for Gradient boosting best model on the test data\n",
    "roc_auc_gb_best_test = metrics.roc_auc_score(y_test, y_pred_test_gb_best_proba[:,1])\n",
    "print(roc_auc_gb_best_test)"
   ]
  },
  {
   "cell_type": "code",
   "execution_count": 104,
   "metadata": {},
   "outputs": [
    {
     "data": {
      "text/plain": [
       "Text(0, 0.5, 'Feature Importance')"
      ]
     },
     "execution_count": 104,
     "metadata": {},
     "output_type": "execute_result"
    },
    {
     "data": {
      "image/png": "[encoded data removed]",
      "text/plain": [
       "<Figure size 432x288 with 1 Axes>"
      ]
     },
     "metadata": {
      "needs_background": "light"
     },
     "output_type": "display_data"
    }
   ],
   "source": [
    "# Identifying the top 5 features and plotting them for the Gradient boosting best model\n",
    "# Feature importance plot\n",
    "feature_imp_gb_best = pd.DataFrame({'Name of the feature': X_test.columns, 'Feature Importance': bestModel_gb.feature_importances_})\n",
    "feature_imp_gb_best = feature_imp_gb_best.sort_values('Feature Importance', ascending=False).head(5)\n",
    "ax = feature_imp_gb_best.plot.bar(x='Name of the feature', y='Feature Importance')\n",
    "ax.set_ylabel('Feature Importance')"
   ]
  },
  {
   "cell_type": "code",
   "execution_count": 105,
   "metadata": {},
   "outputs": [
    {
     "data": {
      "text/html": [
       "<div>\n",
       "<style scoped>\n",
       "    .dataframe tbody tr th:only-of-type {\n",
       "        vertical-align: middle;\n",
       "    }\n",
       "\n",
       "    .dataframe tbody tr th {\n",
       "        vertical-align: top;\n",
       "    }\n",
       "\n",
       "    .dataframe thead th {\n",
       "        text-align: right;\n",
       "    }\n",
       "</style>\n",
       "<table border=\"1\" class=\"dataframe\">\n",
       "  <thead>\n",
       "    <tr style=\"text-align: right;\">\n",
       "      <th></th>\n",
       "      <th>importance</th>\n",
       "    </tr>\n",
       "    <tr>\n",
       "      <th>feature</th>\n",
       "      <th></th>\n",
       "    </tr>\n",
       "  </thead>\n",
       "  <tbody>\n",
       "    <tr>\n",
       "      <td>marital_status_Married-civ-spouse</td>\n",
       "      <td>0.357</td>\n",
       "    </tr>\n",
       "    <tr>\n",
       "      <td>capital_gain</td>\n",
       "      <td>0.199</td>\n",
       "    </tr>\n",
       "    <tr>\n",
       "      <td>education_num</td>\n",
       "      <td>0.172</td>\n",
       "    </tr>\n",
       "    <tr>\n",
       "      <td>age</td>\n",
       "      <td>0.069</td>\n",
       "    </tr>\n",
       "    <tr>\n",
       "      <td>capital_loss</td>\n",
       "      <td>0.060</td>\n",
       "    </tr>\n",
       "  </tbody>\n",
       "</table>\n",
       "</div>"
      ],
      "text/plain": [
       "                                   importance\n",
       "feature                                      \n",
       "marital_status_Married-civ-spouse       0.357\n",
       "capital_gain                            0.199\n",
       "education_num                           0.172\n",
       "age                                     0.069\n",
       "capital_loss                            0.060"
      ]
     },
     "execution_count": 105,
     "metadata": {},
     "output_type": "execute_result"
    }
   ],
   "source": [
    "# Sequence of feature importance for the Gradient boosting best model\n",
    "gb_best_importances = pd.DataFrame({'feature':X_train.columns,'importance':np.round(bestModel_gb.feature_importances_,3)})\n",
    "gb_best_importances = gb_best_importances.sort_values('importance',ascending=False).set_index('feature')\n",
    "gb_best_importances.head(5)"
   ]
  },
  {
   "cell_type": "code",
   "execution_count": 106,
   "metadata": {},
   "outputs": [],
   "source": [
    "# Predicting the classes on the train data using Gradient boosting best model\n",
    "y_pred_train_gb_best = bestModel_gb.predict(X_train)"
   ]
  },
  {
   "cell_type": "code",
   "execution_count": 107,
   "metadata": {},
   "outputs": [],
   "source": [
    "# Calculating the predicted probabilities on the train data using Gradient boosting best model\n",
    "y_pred_train_gb_best_proba = bestModel_gb.predict_proba(X_train)"
   ]
  },
  {
   "cell_type": "code",
   "execution_count": 108,
   "metadata": {},
   "outputs": [
    {
     "data": {
      "text/plain": [
       "array([[16477,   838],\n",
       "       [ 1698,  3779]])"
      ]
     },
     "execution_count": 108,
     "metadata": {},
     "output_type": "execute_result"
    }
   ],
   "source": [
    "# Generating the confusion matrix for Gradient boosting best model on the train data\n",
    "cf_matrix_gb_best_train = metrics.confusion_matrix(y_train, y_pred_train_gb_best)\n",
    "cf_matrix_gb_best_train"
   ]
  },
  {
   "cell_type": "code",
   "execution_count": 109,
   "metadata": {},
   "outputs": [
    {
     "data": {
      "image/png": "[encoded data removed]",
      "text/plain": [
       "<Figure size 432x288 with 2 Axes>"
      ]
     },
     "metadata": {
      "needs_background": "light"
     },
     "output_type": "display_data"
    }
   ],
   "source": [
    "# Creating a heat map for the confusion matrix for Gradient boosting best model on the train data\n",
    "conf_matrix_heatmap(cf_matrix_gb_best_train)"
   ]
  },
  {
   "cell_type": "code",
   "execution_count": 110,
   "metadata": {},
   "outputs": [
    {
     "name": "stdout",
     "output_type": "stream",
     "text": [
      "              precision    recall  f1-score   support\n",
      "\n",
      "           0       0.91      0.95      0.93     17315\n",
      "           1       0.82      0.69      0.75      5477\n",
      "\n",
      "    accuracy                           0.89     22792\n",
      "   macro avg       0.86      0.82      0.84     22792\n",
      "weighted avg       0.89      0.89      0.89     22792\n",
      "\n"
     ]
    }
   ],
   "source": [
    "# Creating a classification report for Gradient boosting best model on the train data\n",
    "clf_report_gb_best_train = metrics.classification_report(y_train, y_pred_train_gb_best)\n",
    "print(clf_report_gb_best_train)"
   ]
  },
  {
   "cell_type": "code",
   "execution_count": 111,
   "metadata": {},
   "outputs": [
    {
     "name": "stdout",
     "output_type": "stream",
     "text": [
      "0.9454016114746724\n"
     ]
    }
   ],
   "source": [
    "# Calculating the ROC AUC score for Gradient boosting best model on the train data\n",
    "roc_auc_gb_best_train = metrics.roc_auc_score(y_train, y_pred_train_gb_best_proba[:,1])\n",
    "print(roc_auc_gb_best_train)"
   ]
  },
  {
   "cell_type": "markdown",
   "metadata": {},
   "source": [
    "There are no obvious signs of overfitting of our Gradient Boosting best model because the values of the classification metrics and also the ROC_AUC score between the train data and the test data is pretty much the same.\n",
    "Gradient Boosting best model is able to generalize better compared to the Random forest base model and also the Adaboost model.This model doesnt really learn the noise and has almost the same level of accuracy between the test data and the train data."
   ]
  },
  {
   "cell_type": "markdown",
   "metadata": {},
   "source": [
    "# 5. XGBoost - RandomizedSearchCV"
   ]
  },
  {
   "cell_type": "code",
   "execution_count": 97,
   "metadata": {},
   "outputs": [
    {
     "name": "stdout",
     "output_type": "stream",
     "text": [
      "Collecting xgboost\n",
      "\u001b[?25l  Downloading https://files.pythonhosted.org/packages/3e/14/e2169b47a6e97be1d443c97250eaf7d27934a9847d2ca5b5108273a47b87/xgboost-1.2.1-py3-none-macosx_10_13_x86_64.macosx_10_14_x86_64.macosx_10_15_x86_64.whl (1.2MB)\n",
      "\u001b[K     |████████████████████████████████| 1.2MB 218kB/s eta 0:00:01\n",
      "\u001b[?25hRequirement already satisfied: numpy in /opt/anaconda3/lib/python3.7/site-packages (from xgboost) (1.17.2)\n",
      "Requirement already satisfied: scipy in /opt/anaconda3/lib/python3.7/site-packages (from xgboost) (1.3.1)\n",
      "Installing collected packages: xgboost\n",
      "Successfully installed xgboost-1.2.1\n"
     ]
    }
   ],
   "source": [
    "# Installing XGboost on the jupyter notebook\n",
    "!pip install xgboost"
   ]
  },
  {
   "cell_type": "code",
   "execution_count": 107,
   "metadata": {},
   "outputs": [
    {
     "name": "stdout",
     "output_type": "stream",
     "text": [
      "Collecting package metadata (current_repodata.json): done\n",
      "Solving environment: done\n",
      "\n",
      "\n",
      "==> WARNING: A newer version of conda exists. <==\n",
      "  current version: 4.7.12\n",
      "  latest version: 4.9.1\n",
      "\n",
      "Please update conda by running\n",
      "\n",
      "    $ conda update -n base -c defaults conda\n",
      "\n",
      "\n",
      "\n",
      "## Package Plan ##\n",
      "\n",
      "  environment location: /opt/anaconda3\n",
      "\n",
      "  added / updated specs:\n",
      "    - py-xgboost\n",
      "\n",
      "\n",
      "The following packages will be downloaded:\n",
      "\n",
      "    package                    |            build\n",
      "    ---------------------------|-----------------\n",
      "    _py-xgboost-mutex-2.0      |            cpu_0           8 KB  anaconda\n",
      "    conda-4.9.0                |           py37_0         3.0 MB  anaconda\n",
      "    libxgboost-0.90            |       h0a44026_1         2.4 MB  anaconda\n",
      "    py-xgboost-0.90            |   py37h0a44026_1          77 KB  anaconda\n",
      "    ------------------------------------------------------------\n",
      "                                           Total:         5.5 MB\n",
      "\n",
      "The following NEW packages will be INSTALLED:\n",
      "\n",
      "  _py-xgboost-mutex  anaconda/osx-64::_py-xgboost-mutex-2.0-cpu_0\n",
      "  libxgboost         anaconda/osx-64::libxgboost-0.90-h0a44026_1\n",
      "  py-xgboost         anaconda/osx-64::py-xgboost-0.90-py37h0a44026_1\n",
      "\n",
      "The following packages will be UPDATED:\n",
      "\n",
      "  conda                      pkgs/main::conda-4.7.12-py37_0 --> anaconda::conda-4.9.0-py37_0\n",
      "\n",
      "\n",
      "\n",
      "Downloading and Extracting Packages\n",
      "conda-4.9.0          | 3.0 MB    | ##################################### | 100% \n",
      "libxgboost-0.90      | 2.4 MB    | ##################################### | 100% \n",
      "_py-xgboost-mutex-2. | 8 KB      | ##################################### | 100% \n",
      "py-xgboost-0.90      | 77 KB     | ##################################### | 100% \n",
      "Preparing transaction: done\n",
      "Verifying transaction: done\n",
      "Executing transaction: done\n",
      "\n",
      "Note: you may need to restart the kernel to use updated packages.\n"
     ]
    }
   ],
   "source": [
    "conda install -c anaconda py-xgboost"
   ]
  },
  {
   "cell_type": "code",
   "execution_count": 112,
   "metadata": {},
   "outputs": [],
   "source": [
    "# Creating an XGBoost parameter grid\n",
    "xgb_param_grid = {\n",
    "    'n_estimators': np.arange(100, 1000, 50),\n",
    "    'learning_rate': np.arange(0.1, 1.6, 0.1),\n",
    "    'max_depth': [1, 2],\n",
    "    'gamma': np.arange(0, 5, 0.25)}"
   ]
  },
  {
   "cell_type": "code",
   "execution_count": 36,
   "metadata": {},
   "outputs": [],
   "source": [
    "# Creating an XGBoost instance classifier\n",
    "xgb_obj = xgb.XGBClassifier()"
   ]
  },
  {
   "cell_type": "code",
   "execution_count": 38,
   "metadata": {},
   "outputs": [],
   "source": [
    "# Creating a grid search object with all the necessary parameters for our XGBoost model\n",
    "grid_search_xgb = RandomizedSearchCV(xgb_obj, xgb_param_grid, cv = 5, scoring = 'roc_auc',refit = True, n_jobs=-1, verbose = 5)"
   ]
  },
  {
   "cell_type": "code",
   "execution_count": 39,
   "metadata": {},
   "outputs": [
    {
     "name": "stdout",
     "output_type": "stream",
     "text": [
      "Fitting 5 folds for each of 10 candidates, totalling 50 fits\n"
     ]
    },
    {
     "name": "stderr",
     "output_type": "stream",
     "text": [
      "[Parallel(n_jobs=-1)]: Using backend LokyBackend with 8 concurrent workers.\n",
      "[Parallel(n_jobs=-1)]: Done   2 tasks      | elapsed:   31.9s\n",
      "[Parallel(n_jobs=-1)]: Done  46 out of  50 | elapsed:  5.5min remaining:   28.7s\n",
      "[Parallel(n_jobs=-1)]: Done  50 out of  50 | elapsed:  5.8min finished\n"
     ]
    },
    {
     "data": {
      "text/plain": [
       "RandomizedSearchCV(cv=5, error_score='raise-deprecating',\n",
       "                   estimator=XGBClassifier(base_score=0.5, booster='gbtree',\n",
       "                                           colsample_bylevel=1,\n",
       "                                           colsample_bynode=1,\n",
       "                                           colsample_bytree=1, gamma=0,\n",
       "                                           learning_rate=0.1, max_delta_step=0,\n",
       "                                           max_depth=3, min_child_weight=1,\n",
       "                                           missing=None, n_estimators=100,\n",
       "                                           n_jobs=1, nthread=None,\n",
       "                                           objective='binary:logistic',\n",
       "                                           random_state=0, reg_alpha=0...\n",
       "                   param_distributions={'gamma': array([0.  , 0.25, 0.5 , 0.75, 1.  , 1.25, 1.5 , 1.75, 2.  , 2.25, 2.5 ,\n",
       "       2.75, 3.  , 3.25, 3.5 , 3.75, 4.  , 4.25, 4.5 , 4.75]),\n",
       "                                        'learning_rate': array([0.1, 0.2, 0.3, 0.4, 0.5, 0.6, 0.7, 0.8, 0.9, 1. , 1.1, 1.2, 1.3,\n",
       "       1.4, 1.5]),\n",
       "                                        'max_depth': [1, 2],\n",
       "                                        'n_estimators': array([100, 150, 200, 250, 300, 350, 400, 450, 500, 550, 600, 650, 700,\n",
       "       750, 800, 850, 900, 950])},\n",
       "                   pre_dispatch='2*n_jobs', random_state=None, refit=True,\n",
       "                   return_train_score=False, scoring='roc_auc', verbose=5)"
      ]
     },
     "execution_count": 39,
     "metadata": {},
     "output_type": "execute_result"
    }
   ],
   "source": [
    "# Fitting the grid search XGBoost model on training data \n",
    "grid_search_xgb.fit(X_train, y_train)"
   ]
  },
  {
   "cell_type": "code",
   "execution_count": 40,
   "metadata": {},
   "outputs": [
    {
     "data": {
      "text/plain": [
       "XGBClassifier(base_score=0.5, booster='gbtree', colsample_bylevel=1,\n",
       "              colsample_bynode=1, colsample_bytree=1, gamma=2.5,\n",
       "              learning_rate=1.5000000000000002, max_delta_step=0, max_depth=1,\n",
       "              min_child_weight=1, missing=None, n_estimators=650, n_jobs=1,\n",
       "              nthread=None, objective='binary:logistic', random_state=0,\n",
       "              reg_alpha=0, reg_lambda=1, scale_pos_weight=1, seed=None,\n",
       "              silent=None, subsample=1, verbosity=1)"
      ]
     },
     "execution_count": 40,
     "metadata": {},
     "output_type": "execute_result"
    }
   ],
   "source": [
    "# Identifying and choosing the best model from the grid search for the XGBoost model technique\n",
    "bestModel_xgb = grid_search_xgb.best_estimator_\n",
    "bestModel_xgb"
   ]
  },
  {
   "cell_type": "code",
   "execution_count": 41,
   "metadata": {},
   "outputs": [],
   "source": [
    "# Predicting the classes on the test data using XGBoost best model\n",
    "y_pred_test_xgb_best = bestModel_xgb.predict(X_test)"
   ]
  },
  {
   "cell_type": "code",
   "execution_count": 43,
   "metadata": {},
   "outputs": [],
   "source": [
    "# Calculating the predicted probabilities on the test data using XGBoost best model\n",
    "y_pred_test_xgb_best_proba = bestModel_xgb.predict_proba(X_test)"
   ]
  },
  {
   "cell_type": "code",
   "execution_count": 44,
   "metadata": {},
   "outputs": [
    {
     "data": {
      "text/plain": [
       "array([[6977,  428],\n",
       "       [ 833, 1531]])"
      ]
     },
     "execution_count": 44,
     "metadata": {},
     "output_type": "execute_result"
    }
   ],
   "source": [
    "# Generating the confusion matrix for XGBoost best model on the test data\n",
    "cf_matrix_xgb_best_test = metrics.confusion_matrix(y_test, y_pred_test_xgb_best)\n",
    "cf_matrix_xgb_best_test"
   ]
  },
  {
   "cell_type": "code",
   "execution_count": 47,
   "metadata": {},
   "outputs": [
    {
     "data": {
      "image/png": "[encoded data removed]",
      "text/plain": [
       "<Figure size 432x288 with 2 Axes>"
      ]
     },
     "metadata": {
      "needs_background": "light"
     },
     "output_type": "display_data"
    }
   ],
   "source": [
    "# Creating a heat map for the confusion matrix for XGBoost best model on the test data\n",
    "conf_matrix_heatmap(cf_matrix_xgb_best_test)"
   ]
  },
  {
   "cell_type": "code",
   "execution_count": 48,
   "metadata": {},
   "outputs": [
    {
     "name": "stdout",
     "output_type": "stream",
     "text": [
      "              precision    recall  f1-score   support\n",
      "\n",
      "           0       0.89      0.94      0.92      7405\n",
      "           1       0.78      0.65      0.71      2364\n",
      "\n",
      "    accuracy                           0.87      9769\n",
      "   macro avg       0.84      0.79      0.81      9769\n",
      "weighted avg       0.87      0.87      0.87      9769\n",
      "\n"
     ]
    }
   ],
   "source": [
    "# Creating a classification report for XGBoost best model on the test data\n",
    "clf_report_xgb_best_test = metrics.classification_report(y_test, y_pred_test_xgb_best)\n",
    "print(clf_report_xgb_best_test)"
   ]
  },
  {
   "cell_type": "code",
   "execution_count": 49,
   "metadata": {},
   "outputs": [
    {
     "name": "stdout",
     "output_type": "stream",
     "text": [
      "0.9246898389184607\n"
     ]
    }
   ],
   "source": [
    "# Calculating the ROC AUC score for XGBoost best model on the test data\n",
    "roc_auc_xgb_best_test = metrics.roc_auc_score(y_test, y_pred_test_xgb_best_proba[:,1])\n",
    "print(roc_auc_xgb_best_test)"
   ]
  },
  {
   "cell_type": "code",
   "execution_count": 50,
   "metadata": {},
   "outputs": [
    {
     "data": {
      "text/plain": [
       "Text(0, 0.5, 'Feature Importance')"
      ]
     },
     "execution_count": 50,
     "metadata": {},
     "output_type": "execute_result"
    },
    {
     "data": {
      "image/png": "[encoded data removed]",
      "text/plain": [
       "<Figure size 432x288 with 1 Axes>"
      ]
     },
     "metadata": {
      "needs_background": "light"
     },
     "output_type": "display_data"
    }
   ],
   "source": [
    "# Identifying the top 5 features and plotting them for the XGBoost best model\n",
    "# Feature importance plot\n",
    "feature_imp_xgb_best = pd.DataFrame({'Name of the feature': X_test.columns, 'Feature Importance': bestModel_xgb.feature_importances_})\n",
    "feature_imp_xgb_best = feature_imp_xgb_best.sort_values('Feature Importance', ascending=False).head(5)\n",
    "ax = feature_imp_xgb_best.plot.bar(x='Name of the feature', y='Feature Importance')\n",
    "ax.set_ylabel('Feature Importance')"
   ]
  },
  {
   "cell_type": "code",
   "execution_count": 113,
   "metadata": {},
   "outputs": [
    {
     "data": {
      "text/html": [
       "<div>\n",
       "<style scoped>\n",
       "    .dataframe tbody tr th:only-of-type {\n",
       "        vertical-align: middle;\n",
       "    }\n",
       "\n",
       "    .dataframe tbody tr th {\n",
       "        vertical-align: top;\n",
       "    }\n",
       "\n",
       "    .dataframe thead th {\n",
       "        text-align: right;\n",
       "    }\n",
       "</style>\n",
       "<table border=\"1\" class=\"dataframe\">\n",
       "  <thead>\n",
       "    <tr style=\"text-align: right;\">\n",
       "      <th></th>\n",
       "      <th>importance</th>\n",
       "    </tr>\n",
       "    <tr>\n",
       "      <th>feature</th>\n",
       "      <th></th>\n",
       "    </tr>\n",
       "  </thead>\n",
       "  <tbody>\n",
       "    <tr>\n",
       "      <td>marital_status_Married-civ-spouse</td>\n",
       "      <td>0.618</td>\n",
       "    </tr>\n",
       "    <tr>\n",
       "      <td>education_Bachelors</td>\n",
       "      <td>0.120</td>\n",
       "    </tr>\n",
       "    <tr>\n",
       "      <td>education_num</td>\n",
       "      <td>0.065</td>\n",
       "    </tr>\n",
       "    <tr>\n",
       "      <td>sex_Female</td>\n",
       "      <td>0.017</td>\n",
       "    </tr>\n",
       "    <tr>\n",
       "      <td>occupation_Prof-specialty</td>\n",
       "      <td>0.015</td>\n",
       "    </tr>\n",
       "  </tbody>\n",
       "</table>\n",
       "</div>"
      ],
      "text/plain": [
       "                                   importance\n",
       "feature                                      \n",
       "marital_status_Married-civ-spouse       0.618\n",
       "education_Bachelors                     0.120\n",
       "education_num                           0.065\n",
       "sex_Female                              0.017\n",
       "occupation_Prof-specialty               0.015"
      ]
     },
     "execution_count": 113,
     "metadata": {},
     "output_type": "execute_result"
    }
   ],
   "source": [
    "# Sequence of feature importance for the XGBoost best model\n",
    "xgb_best_importances = pd.DataFrame({'feature':X_train.columns,'importance':np.round(bestModel_xgb.feature_importances_,3)})\n",
    "xgb_best_importances = xgb_best_importances.sort_values('importance',ascending=False).set_index('feature')\n",
    "xgb_best_importances.head(5)"
   ]
  },
  {
   "cell_type": "code",
   "execution_count": 51,
   "metadata": {},
   "outputs": [],
   "source": [
    "# Predicting the classes on the train data using XGBoost best model\n",
    "y_pred_train_xgb_best = bestModel_xgb.predict(X_train)"
   ]
  },
  {
   "cell_type": "code",
   "execution_count": 52,
   "metadata": {},
   "outputs": [],
   "source": [
    "# Calculating the predicted probabilities on the train data using XGBoost best model\n",
    "y_pred_train_xgb_best_proba = bestModel_xgb.predict_proba(X_train)"
   ]
  },
  {
   "cell_type": "code",
   "execution_count": 53,
   "metadata": {},
   "outputs": [
    {
     "data": {
      "text/plain": [
       "array([[16380,   935],\n",
       "       [ 1975,  3502]])"
      ]
     },
     "execution_count": 53,
     "metadata": {},
     "output_type": "execute_result"
    }
   ],
   "source": [
    "# Generating the confusion matrix for XGBoost best model on the train data\n",
    "cf_matrix_xgb_best_train = metrics.confusion_matrix(y_train, y_pred_train_xgb_best)\n",
    "cf_matrix_xgb_best_train"
   ]
  },
  {
   "cell_type": "code",
   "execution_count": 54,
   "metadata": {},
   "outputs": [
    {
     "data": {
      "image/png": "[encoded data removed]",
      "text/plain": [
       "<Figure size 432x288 with 2 Axes>"
      ]
     },
     "metadata": {
      "needs_background": "light"
     },
     "output_type": "display_data"
    }
   ],
   "source": [
    "# Creating a heat map for the confusion matrix for XGBoost best model on the train data\n",
    "conf_matrix_heatmap(cf_matrix_xgb_best_train)"
   ]
  },
  {
   "cell_type": "code",
   "execution_count": 55,
   "metadata": {},
   "outputs": [
    {
     "name": "stdout",
     "output_type": "stream",
     "text": [
      "              precision    recall  f1-score   support\n",
      "\n",
      "           0       0.89      0.95      0.92     17315\n",
      "           1       0.79      0.64      0.71      5477\n",
      "\n",
      "    accuracy                           0.87     22792\n",
      "   macro avg       0.84      0.79      0.81     22792\n",
      "weighted avg       0.87      0.87      0.87     22792\n",
      "\n"
     ]
    }
   ],
   "source": [
    "# Creating a classification report for XGBoost best model on the train data\n",
    "clf_report_xgb_best_train = metrics.classification_report(y_train, y_pred_train_xgb_best)\n",
    "print(clf_report_xgb_best_train)"
   ]
  },
  {
   "cell_type": "code",
   "execution_count": 56,
   "metadata": {},
   "outputs": [
    {
     "name": "stdout",
     "output_type": "stream",
     "text": [
      "0.9282495497012129\n"
     ]
    }
   ],
   "source": [
    "# Calculating the ROC AUC score for XGBoost best model on the train data\n",
    "roc_auc_xgb_best_train = metrics.roc_auc_score(y_train, y_pred_train_xgb_best_proba[:,1])\n",
    "print(roc_auc_xgb_best_train)"
   ]
  },
  {
   "cell_type": "markdown",
   "metadata": {},
   "source": [
    "The accuracy and the value of the classification metrics including the ROC_AUC score , precision , recall, F1 score are pretty much similar between the train and test data. The XGBoost model was able to generalize the data in a very good and optimized way without learning any noise. This is definitely an ideal model for us as for all practical purposes no further regularization is needed. This is significant improvement from the Random forest and other enemble techniques."
   ]
  },
  {
   "cell_type": "markdown",
   "metadata": {},
   "source": [
    "# 6. Moving into Conceptual Problems:"
   ]
  },
  {
   "cell_type": "markdown",
   "metadata": {},
   "source": [
    "a) What does the alpha parameter represent in AdaBoost? Please refer to chapter 7 of the Hands-On ML book if you are struggling.\n",
    "\n",
    "The weight of the predictor is been represented by the alpha parameter in the Adaboost technique. The value of the alpha parameter is same for all the predictors but as the algorithm proceeds iteratively , the weights are  adjusted for the misclassified samples. This is where the alpha plays a huge role in how the Adaboost algorithm functions.\n",
    "Adabost is a stage-wise additive method and it emphasizes more on the misclassified instances in the training process or training samples and corrects the previous predictor.The value of alpha parameter is higher for the predictor that turned out to be accurate in the prediction or had a smaller error rate.\n",
    "\n",
    "The alpha value is positive if the error rate is less than the value of 0.5. The value of alpha is exactly zero if the value of the error rate is 0.5. If the error rate goes beyond the value of 0.5 , then the value of alpha will take on a negative value. During the normalization process, the weights are adjusted and updated in a way such that the weights of the misclassified instances are increased and the weights of the correctly classified instances are decreased. Thereafter more attention is paid by the Adaboost technique to the instances that had increased weights compared to the instances with decreased weights .This process is repeated and comes to an end when we obtain desired number of predictors that optimizes the performance of the model or when a perfect combination of predictors is reached.   \n"
   ]
  },
  {
   "cell_type": "markdown",
   "metadata": {},
   "source": [
    "b) In AdaBoost explain how the final predicted class is determined. Be sure to reference the alpha term in your explanation.\n",
    "\n",
    "The model becomes ready to predict classes only when all the predictors have been trained and their respective weights have been determined. This process happens when the Adaboost model runs the test data through all the final predictors in the model. When any weak learner gives the output in the form of a class, the actual weight of this output class is determined by the weight of the predictors which in turn is determined by the alpha parameter value.\n",
    "The class that is finally chosen by the adaboost technique is the class that has the maximum weight majority in which the alpha parameter plays a huge role as the weights of the predictors depend on it. Any class that receives the majority of the weighted votes wins in each prediction.\n",
    "\n",
    "The quality or the performance or robustness of the final model totally depends on the alpha parameter value because the error made by the classifier is taken into account in every individual round. If the alpha value of any individual tree is small , it means the error value is large for that classifier and consequently not much attention is placed onto that classifier. this is how the whole adaboost modelling technique works and is majorly driven by the alpha parameter value.\n",
    "\n"
   ]
  },
  {
   "cell_type": "markdown",
   "metadata": {},
   "source": [
    "c) In Gradient Boosting, what is the role of the max_depth parameter? Why is it important to tune on this parameter?\n",
    "\n",
    "The max_depth parameter represents the depth of each individual decision tree in the gradient boosting technique which is again a step-wise additive method that combines the results of many individual weak learners to give rise to a strong learner. The weakest trees or the weak learners are those that have a very few nodes with not much depth within the tree and their results compared to random guessing are only marginally better.\n",
    "Gradient boosting is an ensemble technique that corrects the predecessor trees in the training process by adding the predictors sequentially. it doesnt take all the predictors into consideration from the start.\n",
    "\n",
    "The gradient boosting technique builds tree upon tree and tries to fit the residual errors that were made by the predecessors tree.Improving upon the errors of the predecessors tree gives rise to a better predictor and this is what we call as boosting . Hence the name boosting for this technique.  The repetition of this process occurs until we obtain the perfect combination of predictors or by the value specified by the \"n_estimators\" in the parameter grid that we feed to the model which is the parameter responsible for early stopping to prevent overfitting.\n",
    "\n",
    "Max_depth controls the maximum depth of the individual decision trees. Deeper the tree , more number of splits it has and is able to better classify the training data eventually leading to having very low bias. But at the same time that leads to massive increase in the depth of each tree which may also lead to trees failing to generalizing on unseen data and learning the noise lewading to overfitting issue. The only way to fix the overfitting issue is to reduce the complexity of the trees which can easily done by tuning the max_depth parameter. This regularization technique of tuning the max depth param is called pruning and it helps in finding the right optimal balance and select the model that has very good overall performance. Even the rate of learning is also controlled by the max depth param by which we can whether we want the model to learn slowly or very quickly."
   ]
  },
  {
   "cell_type": "markdown",
   "metadata": {},
   "source": [
    "d) In Part (e) of Steps 2-5 you determined the top 5 predictors across each model. Do any predictors show up in the top 5 predictors for all three models? If so, comment on if this predictor makes sense given what you are attempting to predict. (Note: If you don't have any predictors showing up across all 3 predictors, explain one that shows up in 2 of them).\n",
    "\n",
    "\n",
    "We will print all the top features for all the models we implemented and try to see the common ones."
   ]
  },
  {
   "cell_type": "code",
   "execution_count": 114,
   "metadata": {},
   "outputs": [
    {
     "name": "stdout",
     "output_type": "stream",
     "text": [
      "Random Forest Base Model top five predictors\n",
      "                                   importance\n",
      "feature                                      \n",
      "age                                     0.224\n",
      "hours_per_week                          0.121\n",
      "capital_gain                            0.087\n",
      "education_num                           0.081\n",
      "marital_status_Married-civ-spouse       0.059\n",
      "******************************************************************************************\n",
      "\n",
      "\n",
      "\n",
      "AdaBoost best Model top five predictors\n",
      "                importance\n",
      "feature                   \n",
      "capital_gain         0.332\n",
      "capital_loss         0.305\n",
      "age                  0.088\n",
      "hours_per_week       0.055\n",
      "education_num        0.015\n",
      "******************************************************************************************\n",
      "\n",
      "\n",
      "\n",
      "Gradient Boosting best Model top five predictors\n",
      "                                   importance\n",
      "feature                                      \n",
      "marital_status_Married-civ-spouse       0.357\n",
      "capital_gain                            0.199\n",
      "education_num                           0.172\n",
      "age                                     0.069\n",
      "capital_loss                            0.060\n",
      "******************************************************************************************\n",
      "\n",
      "\n",
      "\n",
      " XGBoost best Model top five predictors\n",
      "                                   importance\n",
      "feature                                      \n",
      "marital_status_Married-civ-spouse       0.618\n",
      "education_Bachelors                     0.120\n",
      "education_num                           0.065\n",
      "sex_Female                              0.017\n",
      "occupation_Prof-specialty               0.015\n",
      "******************************************************************************************\n"
     ]
    }
   ],
   "source": [
    "print(\"Random Forest Base Model top five predictors\")\n",
    "print(rf_base_importances.head(5))\n",
    "print(\"*\"*90)\n",
    "print(\"\\n\\n\")\n",
    "print(\"AdaBoost best Model top five predictors\")\n",
    "print(ada_best_importances.head(5))\n",
    "print(\"*\"*90)\n",
    "print(\"\\n\\n\")\n",
    "print(\"Gradient Boosting best Model top five predictors\")\n",
    "print(gb_best_importances.head(5))\n",
    "print(\"*\"*90)\n",
    "print(\"\\n\\n\")\n",
    "print(\" XGBoost best Model top five predictors\")\n",
    "print(xgb_best_importances.head(5))\n",
    "print(\"*\"*90)"
   ]
  },
  {
   "cell_type": "markdown",
   "metadata": {},
   "source": [
    "\"education_num\" is the only predictor that stands out among all the top 5 of four models that we implemented. it is the only predictor that shows up consistently amoung all the implemented models. Besides that age, capital_gain and marital_status_Married-civ-spouse are other such predictors that appear in 3 out of 4 models which indicates that are also quite relevant. It makes sense to have \"num_education\" having the highest importance among all the other predictors in predicting whether the salary is above or less than $50k because number of years of years is directly linked or proportional to the salary since more educated a person is, more that person is likely to get a good highly skilled high paying job or job compensation.\n",
    "\n",
    "Also capital gains through capital investment also impacts the level of cash flow or salary of a person. More number of capital gains , the bigger the salary. Age is also an important factor as higher the age , more experience or skills that person and is likely to make more money than the rest with a higher salary. Marital status also seems to have a direct impact on the level of salary and it also makes sense because a person can afford to start a family only if he has a good stable salary or job."
   ]
  },
  {
   "cell_type": "markdown",
   "metadata": {},
   "source": [
    "e) From the models run in steps 2-5, which performs the best based on the Classification Report? Support your reasoning with evidence from your test data and be sure to share the optimal hyperparameters found from your grid search.\n",
    "\n",
    "\n",
    "We will print classification reports for all the models in order to comapre the performance among them."
   ]
  },
  {
   "cell_type": "code",
   "execution_count": 115,
   "metadata": {},
   "outputs": [
    {
     "name": "stdout",
     "output_type": "stream",
     "text": [
      "Random Forest Base Model classification report\n",
      "              precision    recall  f1-score   support\n",
      "\n",
      "           0       0.87      0.92      0.90      7405\n",
      "           1       0.70      0.58      0.63      2364\n",
      "\n",
      "    accuracy                           0.84      9769\n",
      "   macro avg       0.78      0.75      0.76      9769\n",
      "weighted avg       0.83      0.84      0.83      9769\n",
      "\n",
      "******************************************************************************************\n",
      "\n",
      "\n",
      "\n",
      "AdaBoost best Model classification report\n",
      "              precision    recall  f1-score   support\n",
      "\n",
      "           0       0.89      0.94      0.92      7405\n",
      "           1       0.78      0.65      0.71      2364\n",
      "\n",
      "    accuracy                           0.87      9769\n",
      "   macro avg       0.84      0.80      0.81      9769\n",
      "weighted avg       0.87      0.87      0.87      9769\n",
      "\n",
      "******************************************************************************************\n",
      "\n",
      "\n",
      "\n",
      "Gradient Boosting best Model classification report\n",
      "              precision    recall  f1-score   support\n",
      "\n",
      "           0       0.90      0.94      0.92      7405\n",
      "           1       0.78      0.67      0.72      2364\n",
      "\n",
      "    accuracy                           0.87      9769\n",
      "   macro avg       0.84      0.80      0.82      9769\n",
      "weighted avg       0.87      0.87      0.87      9769\n",
      "\n",
      "******************************************************************************************\n",
      "\n",
      "\n",
      "\n",
      " XGBoost best Model classification report\n",
      "              precision    recall  f1-score   support\n",
      "\n",
      "           0       0.89      0.94      0.92      7405\n",
      "           1       0.78      0.65      0.71      2364\n",
      "\n",
      "    accuracy                           0.87      9769\n",
      "   macro avg       0.84      0.79      0.81      9769\n",
      "weighted avg       0.87      0.87      0.87      9769\n",
      "\n",
      "******************************************************************************************\n"
     ]
    }
   ],
   "source": [
    "print(\"Random Forest Base Model classification report\")\n",
    "print(clf_report_rf_base_test)\n",
    "print(\"*\"*90)\n",
    "print(\"\\n\\n\")\n",
    "print(\"AdaBoost best Model classification report\")\n",
    "print(clf_report_ada_best_test)\n",
    "print(\"*\"*90)\n",
    "print(\"\\n\\n\")\n",
    "print(\"Gradient Boosting best Model classification report\")\n",
    "print(clf_report_gb_best_test)\n",
    "print(\"*\"*90)\n",
    "print(\"\\n\\n\")\n",
    "print(\" XGBoost best Model classification report\")\n",
    "print(clf_report_xgb_best_test)\n",
    "print(\"*\"*90)"
   ]
  },
  {
   "cell_type": "code",
   "execution_count": 117,
   "metadata": {},
   "outputs": [
    {
     "name": "stdout",
     "output_type": "stream",
     "text": [
      "Random Forest Base Model ROC AUC score\n",
      "0.9267887602811014\n",
      "******************************************************************************************\n",
      "\n",
      "\n",
      "AdaBoost best Model ROC AUC score\n",
      "0.9267887602811014\n",
      "******************************************************************************************\n",
      "\n",
      "\n",
      "Gradient Boosting best Model ROC AUC score\n",
      "0.927400370856569\n",
      "******************************************************************************************\n",
      "\n",
      "\n",
      " XGBoost best Model ROC AUC score\n",
      "0.9246898389184607\n",
      "******************************************************************************************\n"
     ]
    }
   ],
   "source": [
    "print(\"Random Forest Base Model ROC AUC score\")\n",
    "print(roc_auc_ada_best_test)\n",
    "print(\"*\"*90)\n",
    "print(\"\\n\")\n",
    "print(\"AdaBoost best Model ROC AUC score\")\n",
    "print(roc_auc_ada_best_test)\n",
    "print(\"*\"*90)\n",
    "print(\"\\n\")\n",
    "print(\"Gradient Boosting best Model ROC AUC score\")\n",
    "print(roc_auc_gb_best_test)\n",
    "print(\"*\"*90)\n",
    "print(\"\\n\")\n",
    "print(\" XGBoost best Model ROC AUC score\")\n",
    "print(roc_auc_xgb_best_test)\n",
    "print(\"*\"*90)"
   ]
  },
  {
   "cell_type": "markdown",
   "metadata": {},
   "source": [
    "Looking at the classification metrics and the roc auc score , it is quite evident that the gradient boosting model technique outperformed all the other models. It has better precision , recall , f1 score, accuracy than the rest for both the classes. So gradient boosting is the only model that stands out in this case in terms of the overall performance. Gradient boosting seems to have a slight advantage compared to XGBoost and Adaboost models.\n",
    "\n",
    "Now lets take a look at the hyper parameter grod of the gradient boosting best model."
   ]
  },
  {
   "cell_type": "code",
   "execution_count": 121,
   "metadata": {},
   "outputs": [
    {
     "data": {
      "text/plain": [
       "{'learning_rate': 0.2,\n",
       " 'max_depth': 3,\n",
       " 'n_estimators': 300,\n",
       " 'random_state': 324}"
      ]
     },
     "execution_count": 121,
     "metadata": {},
     "output_type": "execute_result"
    }
   ],
   "source": [
    "grid_search_gb.best_params_"
   ]
  },
  {
   "cell_type": "markdown",
   "metadata": {},
   "source": [
    "Now lets take a look at the hyper parameter grod of the XGboost best model."
   ]
  },
  {
   "cell_type": "code",
   "execution_count": 122,
   "metadata": {},
   "outputs": [
    {
     "data": {
      "text/plain": [
       "{'n_estimators': 650,\n",
       " 'max_depth': 1,\n",
       " 'learning_rate': 1.5000000000000002,\n",
       " 'gamma': 2.5}"
      ]
     },
     "execution_count": 122,
     "metadata": {},
     "output_type": "execute_result"
    }
   ],
   "source": [
    "grid_search_xgb.best_params_"
   ]
  },
  {
   "cell_type": "code",
   "execution_count": null,
   "metadata": {},
   "outputs": [],
   "source": [
    "Now lets take a look at the hyper parameter grod of the Adaboost best model."
   ]
  },
  {
   "cell_type": "code",
   "execution_count": 123,
   "metadata": {},
   "outputs": [
    {
     "data": {
      "text/plain": [
       "{'learning_rate': 1.2, 'n_estimators': 400, 'random_state': 321}"
      ]
     },
     "execution_count": 123,
     "metadata": {},
     "output_type": "execute_result"
    }
   ],
   "source": [
    "ada_gs_cv.best_params_"
   ]
  },
  {
   "cell_type": "markdown",
   "metadata": {},
   "source": [
    "n_estimators, max_depth and thelearning_rate seems to be the common parameters in all of these models grid search.\n",
    "learning rate of 0.2 , max depth of 3 and 300 trees seem to have been responsible for creating a model with the best performance that could optimally balance bias and variance thereby becoming an ideal model for us to choose."
   ]
  },
  {
   "cell_type": "markdown",
   "metadata": {},
   "source": [
    "f) For your best performing model, plot out a ROC curve using your test data. Feel free to use sklearn, matplotlib or any other method in python. Describe what the x-axis & y-axis of the ROC curve tell us about a classifier.\n"
   ]
  },
  {
   "cell_type": "code",
   "execution_count": 129,
   "metadata": {},
   "outputs": [
    {
     "data": {
      "text/plain": [
       "Text(0.5, 0, 'False Positive Rate')"
      ]
     },
     "execution_count": 129,
     "metadata": {},
     "output_type": "execute_result"
    },
    {
     "data": {
      "image/png": "[encoded data removed]",
      "text/plain": [
       "<Figure size 1008x576 with 1 Axes>"
      ]
     },
     "metadata": {
      "needs_background": "light"
     },
     "output_type": "display_data"
    }
   ],
   "source": [
    "fpr, tpr, threshold = metrics.roc_curve(y_test, y_pred_test_gb_best_proba[:,1])\n",
    "roc_auc = metrics.roc_auc_score(y_test, y_pred_test_gb_best_proba[:,1])\n",
    "\n",
    "fig, ax = plt.subplots(figsize=(14,8))\n",
    "ax.plot(fpr, tpr)\n",
    "plt.title('ROC Curve')\n",
    "plt.plot([0, 1], [0, 1],'r--')\n",
    "plt.ylabel('True Positive Rate')\n",
    "plt.xlabel('False Positive Rate')"
   ]
  },
  {
   "cell_type": "markdown",
   "metadata": {},
   "source": [
    "The X-axis here in the roc curve refers to the false positive rate which includes all the cases or instances where the salary was misclassified as above $50k even though th salary was supposed to be below $50k.\n",
    "The y-axis refers to the true postive rate which includes all the cases where the actual salary was above $50k that were correctly classified as above $50k.\n",
    "False positive rate indicates the ratio of negative events(below $50k) wrongly categorized as positive(above $50k) out of the total number of actual negative events. The true positive rate is defined as the ratio of actual positive events correctly identified as such."
   ]
  },
  {
   "cell_type": "code",
   "execution_count": null,
   "metadata": {},
   "outputs": [],
   "source": []
  },
  {
   "cell_type": "code",
   "execution_count": null,
   "metadata": {},
   "outputs": [],
   "source": []
  }
 ],
 "metadata": {
  "kernelspec": {
   "display_name": "Python 3",
   "language": "python",
   "name": "python3"
  },
  "language_info": {
   "codemirror_mode": {
    "name": "ipython",
    "version": 3
   },
   "file_extension": ".py",
   "mimetype": "text/x-python",
   "name": "python",
   "nbconvert_exporter": "python",
   "pygments_lexer": "ipython3",
   "version": "3.7.4"
  }
 },
 "nbformat": 4,
 "nbformat_minor": 2
}
