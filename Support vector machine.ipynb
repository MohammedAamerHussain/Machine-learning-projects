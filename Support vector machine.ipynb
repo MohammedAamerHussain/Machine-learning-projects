{
 "cells": [
  {
   "cell_type": "code",
   "execution_count": 13,
   "metadata": {},
   "outputs": [],
   "source": [
    "import numpy as np\n",
    "import pandas as pd\n",
    "import seaborn as sns\n",
    "from sklearn.svm import SVC\n",
    "from sklearn.svm import LinearSVC\n",
    "from sklearn.model_selection import train_test_split\n",
    "from sklearn.model_selection import GridSearchCV\n",
    "from sklearn import metrics\n",
    "%matplotlib inline\n",
    "import matplotlib.pyplot as plt\n",
    "from sklearn.preprocessing import StandardScaler\n",
    "from sklearn.ensemble import RandomForestClassifier"
   ]
  },
  {
   "cell_type": "markdown",
   "metadata": {},
   "source": [
    "# 1. Data Processing:"
   ]
  },
  {
   "cell_type": "code",
   "execution_count": 2,
   "metadata": {},
   "outputs": [],
   "source": [
    "# Loading the data\n",
    "X_train = pd.read_csv('train_data.csv')\n",
    "X_test = pd.read_csv('test_data.csv')"
   ]
  },
  {
   "cell_type": "code",
   "execution_count": 3,
   "metadata": {},
   "outputs": [
    {
     "name": "stdout",
     "output_type": "stream",
     "text": [
      "(507, 148)\n",
      "(168, 148)\n"
     ]
    }
   ],
   "source": [
    "# Checking the shape or dimension of the dataframe\n",
    "print(X_train.shape)\n",
    "print(X_test.shape)"
   ]
  },
  {
   "cell_type": "code",
   "execution_count": 4,
   "metadata": {},
   "outputs": [],
   "source": [
    "# Removing any rows that have missing data across both sets of data\n",
    "X_train.dropna(axis = 0,inplace = True)\n",
    "X_test.dropna(axis = 0,inplace = True)"
   ]
  },
  {
   "cell_type": "code",
   "execution_count": 5,
   "metadata": {},
   "outputs": [
    {
     "name": "stdout",
     "output_type": "stream",
     "text": [
      "(507, 148)\n",
      "(168, 148)\n"
     ]
    }
   ],
   "source": [
    "# Verifying the shape or dimension of the dataframe\n",
    "print(X_train.shape)\n",
    "print(X_test.shape)"
   ]
  },
  {
   "cell_type": "code",
   "execution_count": 19,
   "metadata": {},
   "outputs": [
    {
     "data": {
      "text/html": [
       "<div>\n",
       "<style scoped>\n",
       "    .dataframe tbody tr th:only-of-type {\n",
       "        vertical-align: middle;\n",
       "    }\n",
       "\n",
       "    .dataframe tbody tr th {\n",
       "        vertical-align: top;\n",
       "    }\n",
       "\n",
       "    .dataframe thead th {\n",
       "        text-align: right;\n",
       "    }\n",
       "</style>\n",
       "<table border=\"1\" class=\"dataframe\">\n",
       "  <thead>\n",
       "    <tr style=\"text-align: right;\">\n",
       "      <th></th>\n",
       "      <th>BrdIndx</th>\n",
       "      <th>Area</th>\n",
       "      <th>Round</th>\n",
       "      <th>Bright</th>\n",
       "      <th>Compact</th>\n",
       "      <th>ShpIndx</th>\n",
       "      <th>Mean_G</th>\n",
       "      <th>Mean_R</th>\n",
       "      <th>Mean_NIR</th>\n",
       "      <th>SD_G</th>\n",
       "      <th>...</th>\n",
       "      <th>SD_NIR_140</th>\n",
       "      <th>LW_140</th>\n",
       "      <th>GLCM1_140</th>\n",
       "      <th>Rect_140</th>\n",
       "      <th>GLCM2_140</th>\n",
       "      <th>Dens_140</th>\n",
       "      <th>Assym_140</th>\n",
       "      <th>NDVI_140</th>\n",
       "      <th>BordLngth_140</th>\n",
       "      <th>GLCM3_140</th>\n",
       "    </tr>\n",
       "  </thead>\n",
       "  <tbody>\n",
       "    <tr>\n",
       "      <td>0</td>\n",
       "      <td>1.32</td>\n",
       "      <td>131</td>\n",
       "      <td>0.81</td>\n",
       "      <td>222.74</td>\n",
       "      <td>1.66</td>\n",
       "      <td>2.18</td>\n",
       "      <td>192.94</td>\n",
       "      <td>235.11</td>\n",
       "      <td>240.15</td>\n",
       "      <td>11.24</td>\n",
       "      <td>...</td>\n",
       "      <td>31.15</td>\n",
       "      <td>5.04</td>\n",
       "      <td>0.80</td>\n",
       "      <td>0.58</td>\n",
       "      <td>8.56</td>\n",
       "      <td>0.82</td>\n",
       "      <td>0.98</td>\n",
       "      <td>-0.10</td>\n",
       "      <td>1512</td>\n",
       "      <td>1287.52</td>\n",
       "    </tr>\n",
       "    <tr>\n",
       "      <td>1</td>\n",
       "      <td>1.59</td>\n",
       "      <td>864</td>\n",
       "      <td>0.94</td>\n",
       "      <td>47.56</td>\n",
       "      <td>1.41</td>\n",
       "      <td>1.87</td>\n",
       "      <td>36.82</td>\n",
       "      <td>48.78</td>\n",
       "      <td>57.09</td>\n",
       "      <td>8.15</td>\n",
       "      <td>...</td>\n",
       "      <td>12.01</td>\n",
       "      <td>3.70</td>\n",
       "      <td>0.52</td>\n",
       "      <td>0.96</td>\n",
       "      <td>7.01</td>\n",
       "      <td>1.69</td>\n",
       "      <td>0.86</td>\n",
       "      <td>-0.14</td>\n",
       "      <td>196</td>\n",
       "      <td>2659.74</td>\n",
       "    </tr>\n",
       "    <tr>\n",
       "      <td>2</td>\n",
       "      <td>1.41</td>\n",
       "      <td>409</td>\n",
       "      <td>1.00</td>\n",
       "      <td>51.38</td>\n",
       "      <td>1.37</td>\n",
       "      <td>1.53</td>\n",
       "      <td>41.72</td>\n",
       "      <td>51.96</td>\n",
       "      <td>60.48</td>\n",
       "      <td>8.11</td>\n",
       "      <td>...</td>\n",
       "      <td>18.75</td>\n",
       "      <td>3.09</td>\n",
       "      <td>0.90</td>\n",
       "      <td>0.63</td>\n",
       "      <td>8.32</td>\n",
       "      <td>1.38</td>\n",
       "      <td>0.84</td>\n",
       "      <td>0.10</td>\n",
       "      <td>1198</td>\n",
       "      <td>720.38</td>\n",
       "    </tr>\n",
       "    <tr>\n",
       "      <td>3</td>\n",
       "      <td>2.58</td>\n",
       "      <td>187</td>\n",
       "      <td>1.91</td>\n",
       "      <td>70.08</td>\n",
       "      <td>3.41</td>\n",
       "      <td>3.11</td>\n",
       "      <td>93.13</td>\n",
       "      <td>55.20</td>\n",
       "      <td>61.92</td>\n",
       "      <td>28.60</td>\n",
       "      <td>...</td>\n",
       "      <td>27.67</td>\n",
       "      <td>6.33</td>\n",
       "      <td>0.89</td>\n",
       "      <td>0.70</td>\n",
       "      <td>8.56</td>\n",
       "      <td>1.10</td>\n",
       "      <td>0.96</td>\n",
       "      <td>0.20</td>\n",
       "      <td>524</td>\n",
       "      <td>891.36</td>\n",
       "    </tr>\n",
       "    <tr>\n",
       "      <td>4</td>\n",
       "      <td>2.60</td>\n",
       "      <td>116</td>\n",
       "      <td>2.05</td>\n",
       "      <td>89.57</td>\n",
       "      <td>3.06</td>\n",
       "      <td>3.02</td>\n",
       "      <td>73.17</td>\n",
       "      <td>94.89</td>\n",
       "      <td>100.64</td>\n",
       "      <td>5.41</td>\n",
       "      <td>...</td>\n",
       "      <td>32.05</td>\n",
       "      <td>1.01</td>\n",
       "      <td>0.83</td>\n",
       "      <td>0.75</td>\n",
       "      <td>8.62</td>\n",
       "      <td>2.08</td>\n",
       "      <td>0.08</td>\n",
       "      <td>-0.10</td>\n",
       "      <td>496</td>\n",
       "      <td>1194.76</td>\n",
       "    </tr>\n",
       "    <tr>\n",
       "      <td>5</td>\n",
       "      <td>1.30</td>\n",
       "      <td>727</td>\n",
       "      <td>0.34</td>\n",
       "      <td>189.54</td>\n",
       "      <td>1.37</td>\n",
       "      <td>1.35</td>\n",
       "      <td>177.71</td>\n",
       "      <td>188.86</td>\n",
       "      <td>202.07</td>\n",
       "      <td>6.82</td>\n",
       "      <td>...</td>\n",
       "      <td>34.04</td>\n",
       "      <td>1.68</td>\n",
       "      <td>0.86</td>\n",
       "      <td>0.16</td>\n",
       "      <td>8.43</td>\n",
       "      <td>1.10</td>\n",
       "      <td>0.69</td>\n",
       "      <td>0.01</td>\n",
       "      <td>2468</td>\n",
       "      <td>924.57</td>\n",
       "    </tr>\n",
       "    <tr>\n",
       "      <td>6</td>\n",
       "      <td>2.33</td>\n",
       "      <td>457</td>\n",
       "      <td>1.03</td>\n",
       "      <td>78.03</td>\n",
       "      <td>2.41</td>\n",
       "      <td>2.50</td>\n",
       "      <td>62.75</td>\n",
       "      <td>83.78</td>\n",
       "      <td>87.57</td>\n",
       "      <td>7.79</td>\n",
       "      <td>...</td>\n",
       "      <td>22.85</td>\n",
       "      <td>1.93</td>\n",
       "      <td>0.80</td>\n",
       "      <td>0.47</td>\n",
       "      <td>8.02</td>\n",
       "      <td>1.28</td>\n",
       "      <td>0.76</td>\n",
       "      <td>-0.11</td>\n",
       "      <td>2466</td>\n",
       "      <td>1178.71</td>\n",
       "    </tr>\n",
       "    <tr>\n",
       "      <td>7</td>\n",
       "      <td>2.81</td>\n",
       "      <td>213</td>\n",
       "      <td>1.70</td>\n",
       "      <td>186.84</td>\n",
       "      <td>2.37</td>\n",
       "      <td>2.98</td>\n",
       "      <td>195.35</td>\n",
       "      <td>183.20</td>\n",
       "      <td>181.97</td>\n",
       "      <td>7.08</td>\n",
       "      <td>...</td>\n",
       "      <td>17.17</td>\n",
       "      <td>1.07</td>\n",
       "      <td>0.82</td>\n",
       "      <td>0.60</td>\n",
       "      <td>7.81</td>\n",
       "      <td>1.76</td>\n",
       "      <td>0.24</td>\n",
       "      <td>0.02</td>\n",
       "      <td>906</td>\n",
       "      <td>1200.97</td>\n",
       "    </tr>\n",
       "    <tr>\n",
       "      <td>8</td>\n",
       "      <td>2.19</td>\n",
       "      <td>145</td>\n",
       "      <td>1.81</td>\n",
       "      <td>181.15</td>\n",
       "      <td>3.10</td>\n",
       "      <td>2.37</td>\n",
       "      <td>217.18</td>\n",
       "      <td>159.08</td>\n",
       "      <td>167.19</td>\n",
       "      <td>13.26</td>\n",
       "      <td>...</td>\n",
       "      <td>19.56</td>\n",
       "      <td>2.30</td>\n",
       "      <td>0.88</td>\n",
       "      <td>0.77</td>\n",
       "      <td>8.18</td>\n",
       "      <td>1.91</td>\n",
       "      <td>0.57</td>\n",
       "      <td>0.13</td>\n",
       "      <td>850</td>\n",
       "      <td>776.46</td>\n",
       "    </tr>\n",
       "    <tr>\n",
       "      <td>9</td>\n",
       "      <td>1.53</td>\n",
       "      <td>304</td>\n",
       "      <td>0.95</td>\n",
       "      <td>140.30</td>\n",
       "      <td>2.16</td>\n",
       "      <td>1.66</td>\n",
       "      <td>118.05</td>\n",
       "      <td>160.32</td>\n",
       "      <td>142.52</td>\n",
       "      <td>14.75</td>\n",
       "      <td>...</td>\n",
       "      <td>49.04</td>\n",
       "      <td>1.93</td>\n",
       "      <td>0.85</td>\n",
       "      <td>0.46</td>\n",
       "      <td>9.08</td>\n",
       "      <td>1.20</td>\n",
       "      <td>0.79</td>\n",
       "      <td>0.01</td>\n",
       "      <td>1192</td>\n",
       "      <td>1076.84</td>\n",
       "    </tr>\n",
       "    <tr>\n",
       "      <td>10</td>\n",
       "      <td>1.84</td>\n",
       "      <td>329</td>\n",
       "      <td>1.27</td>\n",
       "      <td>153.44</td>\n",
       "      <td>1.96</td>\n",
       "      <td>1.93</td>\n",
       "      <td>180.02</td>\n",
       "      <td>139.89</td>\n",
       "      <td>140.40</td>\n",
       "      <td>8.67</td>\n",
       "      <td>...</td>\n",
       "      <td>32.48</td>\n",
       "      <td>1.83</td>\n",
       "      <td>0.89</td>\n",
       "      <td>0.81</td>\n",
       "      <td>8.64</td>\n",
       "      <td>1.97</td>\n",
       "      <td>0.66</td>\n",
       "      <td>0.16</td>\n",
       "      <td>330</td>\n",
       "      <td>723.15</td>\n",
       "    </tr>\n",
       "    <tr>\n",
       "      <td>11</td>\n",
       "      <td>1.44</td>\n",
       "      <td>73</td>\n",
       "      <td>0.95</td>\n",
       "      <td>172.08</td>\n",
       "      <td>1.48</td>\n",
       "      <td>1.52</td>\n",
       "      <td>180.96</td>\n",
       "      <td>167.49</td>\n",
       "      <td>167.79</td>\n",
       "      <td>19.65</td>\n",
       "      <td>...</td>\n",
       "      <td>47.20</td>\n",
       "      <td>1.53</td>\n",
       "      <td>0.88</td>\n",
       "      <td>0.26</td>\n",
       "      <td>9.38</td>\n",
       "      <td>1.24</td>\n",
       "      <td>0.19</td>\n",
       "      <td>-0.04</td>\n",
       "      <td>2196</td>\n",
       "      <td>879.41</td>\n",
       "    </tr>\n",
       "    <tr>\n",
       "      <td>12</td>\n",
       "      <td>1.22</td>\n",
       "      <td>82</td>\n",
       "      <td>0.71</td>\n",
       "      <td>74.10</td>\n",
       "      <td>1.39</td>\n",
       "      <td>1.55</td>\n",
       "      <td>58.48</td>\n",
       "      <td>78.12</td>\n",
       "      <td>85.70</td>\n",
       "      <td>7.68</td>\n",
       "      <td>...</td>\n",
       "      <td>35.19</td>\n",
       "      <td>1.37</td>\n",
       "      <td>0.87</td>\n",
       "      <td>0.69</td>\n",
       "      <td>9.01</td>\n",
       "      <td>1.92</td>\n",
       "      <td>0.24</td>\n",
       "      <td>-0.01</td>\n",
       "      <td>1466</td>\n",
       "      <td>863.47</td>\n",
       "    </tr>\n",
       "    <tr>\n",
       "      <td>13</td>\n",
       "      <td>2.09</td>\n",
       "      <td>683</td>\n",
       "      <td>0.94</td>\n",
       "      <td>224.04</td>\n",
       "      <td>1.80</td>\n",
       "      <td>2.31</td>\n",
       "      <td>198.20</td>\n",
       "      <td>236.61</td>\n",
       "      <td>237.33</td>\n",
       "      <td>6.20</td>\n",
       "      <td>...</td>\n",
       "      <td>12.64</td>\n",
       "      <td>4.39</td>\n",
       "      <td>0.80</td>\n",
       "      <td>0.39</td>\n",
       "      <td>7.50</td>\n",
       "      <td>0.75</td>\n",
       "      <td>0.98</td>\n",
       "      <td>-0.09</td>\n",
       "      <td>4632</td>\n",
       "      <td>1208.86</td>\n",
       "    </tr>\n",
       "    <tr>\n",
       "      <td>14</td>\n",
       "      <td>2.00</td>\n",
       "      <td>304</td>\n",
       "      <td>1.43</td>\n",
       "      <td>156.08</td>\n",
       "      <td>2.39</td>\n",
       "      <td>2.24</td>\n",
       "      <td>219.78</td>\n",
       "      <td>113.65</td>\n",
       "      <td>134.81</td>\n",
       "      <td>10.41</td>\n",
       "      <td>...</td>\n",
       "      <td>28.82</td>\n",
       "      <td>1.32</td>\n",
       "      <td>0.89</td>\n",
       "      <td>0.58</td>\n",
       "      <td>8.30</td>\n",
       "      <td>1.75</td>\n",
       "      <td>0.59</td>\n",
       "      <td>0.23</td>\n",
       "      <td>1608</td>\n",
       "      <td>651.56</td>\n",
       "    </tr>\n",
       "    <tr>\n",
       "      <td>15</td>\n",
       "      <td>2.19</td>\n",
       "      <td>936</td>\n",
       "      <td>1.35</td>\n",
       "      <td>59.58</td>\n",
       "      <td>2.31</td>\n",
       "      <td>2.26</td>\n",
       "      <td>47.22</td>\n",
       "      <td>63.21</td>\n",
       "      <td>68.32</td>\n",
       "      <td>7.44</td>\n",
       "      <td>...</td>\n",
       "      <td>18.35</td>\n",
       "      <td>2.29</td>\n",
       "      <td>0.85</td>\n",
       "      <td>0.67</td>\n",
       "      <td>8.07</td>\n",
       "      <td>1.40</td>\n",
       "      <td>0.80</td>\n",
       "      <td>0.01</td>\n",
       "      <td>1082</td>\n",
       "      <td>981.37</td>\n",
       "    </tr>\n",
       "    <tr>\n",
       "      <td>16</td>\n",
       "      <td>1.61</td>\n",
       "      <td>66</td>\n",
       "      <td>1.22</td>\n",
       "      <td>129.51</td>\n",
       "      <td>2.05</td>\n",
       "      <td>1.78</td>\n",
       "      <td>163.02</td>\n",
       "      <td>106.27</td>\n",
       "      <td>119.24</td>\n",
       "      <td>14.14</td>\n",
       "      <td>...</td>\n",
       "      <td>27.19</td>\n",
       "      <td>1.39</td>\n",
       "      <td>0.90</td>\n",
       "      <td>0.69</td>\n",
       "      <td>8.71</td>\n",
       "      <td>1.87</td>\n",
       "      <td>0.25</td>\n",
       "      <td>0.17</td>\n",
       "      <td>1548</td>\n",
       "      <td>616.82</td>\n",
       "    </tr>\n",
       "    <tr>\n",
       "      <td>17</td>\n",
       "      <td>2.78</td>\n",
       "      <td>409</td>\n",
       "      <td>1.97</td>\n",
       "      <td>162.06</td>\n",
       "      <td>3.01</td>\n",
       "      <td>3.16</td>\n",
       "      <td>202.07</td>\n",
       "      <td>135.90</td>\n",
       "      <td>148.22</td>\n",
       "      <td>11.10</td>\n",
       "      <td>...</td>\n",
       "      <td>19.42</td>\n",
       "      <td>1.48</td>\n",
       "      <td>0.88</td>\n",
       "      <td>0.65</td>\n",
       "      <td>8.04</td>\n",
       "      <td>1.76</td>\n",
       "      <td>0.51</td>\n",
       "      <td>0.24</td>\n",
       "      <td>1738</td>\n",
       "      <td>672.30</td>\n",
       "    </tr>\n",
       "    <tr>\n",
       "      <td>18</td>\n",
       "      <td>2.17</td>\n",
       "      <td>247</td>\n",
       "      <td>1.09</td>\n",
       "      <td>111.39</td>\n",
       "      <td>2.60</td>\n",
       "      <td>2.42</td>\n",
       "      <td>174.87</td>\n",
       "      <td>73.60</td>\n",
       "      <td>85.70</td>\n",
       "      <td>20.22</td>\n",
       "      <td>...</td>\n",
       "      <td>47.58</td>\n",
       "      <td>1.11</td>\n",
       "      <td>0.86</td>\n",
       "      <td>0.34</td>\n",
       "      <td>9.32</td>\n",
       "      <td>1.22</td>\n",
       "      <td>0.45</td>\n",
       "      <td>0.17</td>\n",
       "      <td>1802</td>\n",
       "      <td>1053.96</td>\n",
       "    </tr>\n",
       "    <tr>\n",
       "      <td>19</td>\n",
       "      <td>2.05</td>\n",
       "      <td>1086</td>\n",
       "      <td>0.90</td>\n",
       "      <td>225.11</td>\n",
       "      <td>1.93</td>\n",
       "      <td>2.43</td>\n",
       "      <td>203.95</td>\n",
       "      <td>235.36</td>\n",
       "      <td>236.03</td>\n",
       "      <td>8.98</td>\n",
       "      <td>...</td>\n",
       "      <td>19.46</td>\n",
       "      <td>2.80</td>\n",
       "      <td>0.78</td>\n",
       "      <td>0.37</td>\n",
       "      <td>7.60</td>\n",
       "      <td>0.89</td>\n",
       "      <td>0.88</td>\n",
       "      <td>-0.08</td>\n",
       "      <td>2874</td>\n",
       "      <td>1251.11</td>\n",
       "    </tr>\n",
       "  </tbody>\n",
       "</table>\n",
       "<p>20 rows × 147 columns</p>\n",
       "</div>"
      ],
      "text/plain": [
       "    BrdIndx  Area  Round  Bright  Compact  ShpIndx  Mean_G  Mean_R  Mean_NIR  \\\n",
       "0      1.32   131   0.81  222.74     1.66     2.18  192.94  235.11    240.15   \n",
       "1      1.59   864   0.94   47.56     1.41     1.87   36.82   48.78     57.09   \n",
       "2      1.41   409   1.00   51.38     1.37     1.53   41.72   51.96     60.48   \n",
       "3      2.58   187   1.91   70.08     3.41     3.11   93.13   55.20     61.92   \n",
       "4      2.60   116   2.05   89.57     3.06     3.02   73.17   94.89    100.64   \n",
       "5      1.30   727   0.34  189.54     1.37     1.35  177.71  188.86    202.07   \n",
       "6      2.33   457   1.03   78.03     2.41     2.50   62.75   83.78     87.57   \n",
       "7      2.81   213   1.70  186.84     2.37     2.98  195.35  183.20    181.97   \n",
       "8      2.19   145   1.81  181.15     3.10     2.37  217.18  159.08    167.19   \n",
       "9      1.53   304   0.95  140.30     2.16     1.66  118.05  160.32    142.52   \n",
       "10     1.84   329   1.27  153.44     1.96     1.93  180.02  139.89    140.40   \n",
       "11     1.44    73   0.95  172.08     1.48     1.52  180.96  167.49    167.79   \n",
       "12     1.22    82   0.71   74.10     1.39     1.55   58.48   78.12     85.70   \n",
       "13     2.09   683   0.94  224.04     1.80     2.31  198.20  236.61    237.33   \n",
       "14     2.00   304   1.43  156.08     2.39     2.24  219.78  113.65    134.81   \n",
       "15     2.19   936   1.35   59.58     2.31     2.26   47.22   63.21     68.32   \n",
       "16     1.61    66   1.22  129.51     2.05     1.78  163.02  106.27    119.24   \n",
       "17     2.78   409   1.97  162.06     3.01     3.16  202.07  135.90    148.22   \n",
       "18     2.17   247   1.09  111.39     2.60     2.42  174.87   73.60     85.70   \n",
       "19     2.05  1086   0.90  225.11     1.93     2.43  203.95  235.36    236.03   \n",
       "\n",
       "     SD_G  ...  SD_NIR_140  LW_140  GLCM1_140  Rect_140  GLCM2_140  Dens_140  \\\n",
       "0   11.24  ...       31.15    5.04       0.80      0.58       8.56      0.82   \n",
       "1    8.15  ...       12.01    3.70       0.52      0.96       7.01      1.69   \n",
       "2    8.11  ...       18.75    3.09       0.90      0.63       8.32      1.38   \n",
       "3   28.60  ...       27.67    6.33       0.89      0.70       8.56      1.10   \n",
       "4    5.41  ...       32.05    1.01       0.83      0.75       8.62      2.08   \n",
       "5    6.82  ...       34.04    1.68       0.86      0.16       8.43      1.10   \n",
       "6    7.79  ...       22.85    1.93       0.80      0.47       8.02      1.28   \n",
       "7    7.08  ...       17.17    1.07       0.82      0.60       7.81      1.76   \n",
       "8   13.26  ...       19.56    2.30       0.88      0.77       8.18      1.91   \n",
       "9   14.75  ...       49.04    1.93       0.85      0.46       9.08      1.20   \n",
       "10   8.67  ...       32.48    1.83       0.89      0.81       8.64      1.97   \n",
       "11  19.65  ...       47.20    1.53       0.88      0.26       9.38      1.24   \n",
       "12   7.68  ...       35.19    1.37       0.87      0.69       9.01      1.92   \n",
       "13   6.20  ...       12.64    4.39       0.80      0.39       7.50      0.75   \n",
       "14  10.41  ...       28.82    1.32       0.89      0.58       8.30      1.75   \n",
       "15   7.44  ...       18.35    2.29       0.85      0.67       8.07      1.40   \n",
       "16  14.14  ...       27.19    1.39       0.90      0.69       8.71      1.87   \n",
       "17  11.10  ...       19.42    1.48       0.88      0.65       8.04      1.76   \n",
       "18  20.22  ...       47.58    1.11       0.86      0.34       9.32      1.22   \n",
       "19   8.98  ...       19.46    2.80       0.78      0.37       7.60      0.89   \n",
       "\n",
       "    Assym_140  NDVI_140  BordLngth_140  GLCM3_140  \n",
       "0        0.98     -0.10           1512    1287.52  \n",
       "1        0.86     -0.14            196    2659.74  \n",
       "2        0.84      0.10           1198     720.38  \n",
       "3        0.96      0.20            524     891.36  \n",
       "4        0.08     -0.10            496    1194.76  \n",
       "5        0.69      0.01           2468     924.57  \n",
       "6        0.76     -0.11           2466    1178.71  \n",
       "7        0.24      0.02            906    1200.97  \n",
       "8        0.57      0.13            850     776.46  \n",
       "9        0.79      0.01           1192    1076.84  \n",
       "10       0.66      0.16            330     723.15  \n",
       "11       0.19     -0.04           2196     879.41  \n",
       "12       0.24     -0.01           1466     863.47  \n",
       "13       0.98     -0.09           4632    1208.86  \n",
       "14       0.59      0.23           1608     651.56  \n",
       "15       0.80      0.01           1082     981.37  \n",
       "16       0.25      0.17           1548     616.82  \n",
       "17       0.51      0.24           1738     672.30  \n",
       "18       0.45      0.17           1802    1053.96  \n",
       "19       0.88     -0.08           2874    1251.11  \n",
       "\n",
       "[20 rows x 147 columns]"
      ]
     },
     "execution_count": 19,
     "metadata": {},
     "output_type": "execute_result"
    }
   ],
   "source": [
    "X_train.head(20)"
   ]
  },
  {
   "cell_type": "code",
   "execution_count": 9,
   "metadata": {},
   "outputs": [],
   "source": [
    "# Creating Y target variable and dropping \"class\" feature from the X_train and X_test dataframe\n",
    "y_train = X_train['class']\n",
    "X_train = X_train.drop(['class'], axis=1)\n",
    "y_test = X_test['class']\n",
    "X_test = X_test.drop(['class'], axis=1)"
   ]
  },
  {
   "cell_type": "code",
   "execution_count": 10,
   "metadata": {},
   "outputs": [
    {
     "name": "stdout",
     "output_type": "stream",
     "text": [
      "(507, 147)\n",
      "(507,)\n",
      "(168, 147)\n",
      "(168,)\n"
     ]
    }
   ],
   "source": [
    "print(X_train.shape)\n",
    "print(y_train.shape)\n",
    "print(X_test.shape)\n",
    "print(y_test.shape)\n"
   ]
  },
  {
   "cell_type": "code",
   "execution_count": 11,
   "metadata": {},
   "outputs": [],
   "source": [
    "# Scaling all features / predictors (NOT THE TARGET VARIABLE) using StandardScalar\n",
    "scaler = StandardScaler().fit(X_train)\n",
    "X_train_scaled = scaler.transform(X_train)\n",
    "X_test_scaled = scaler.transform(X_test)"
   ]
  },
  {
   "cell_type": "markdown",
   "metadata": {},
   "source": [
    "# 2. Random Forest Classifier - Base Model:"
   ]
  },
  {
   "cell_type": "code",
   "execution_count": 14,
   "metadata": {},
   "outputs": [],
   "source": [
    "# Creating a random forest instance\n",
    "rf_base = RandomForestClassifier()\n"
   ]
  },
  {
   "cell_type": "code",
   "execution_count": 15,
   "metadata": {},
   "outputs": [
    {
     "name": "stderr",
     "output_type": "stream",
     "text": [
      "/opt/anaconda3/lib/python3.7/site-packages/sklearn/ensemble/forest.py:245: FutureWarning: The default value of n_estimators will change from 10 in version 0.20 to 100 in 0.22.\n",
      "  \"10 in version 0.20 to 100 in 0.22.\", FutureWarning)\n"
     ]
    },
    {
     "data": {
      "text/plain": [
       "RandomForestClassifier(bootstrap=True, class_weight=None, criterion='gini',\n",
       "                       max_depth=None, max_features='auto', max_leaf_nodes=None,\n",
       "                       min_impurity_decrease=0.0, min_impurity_split=None,\n",
       "                       min_samples_leaf=1, min_samples_split=2,\n",
       "                       min_weight_fraction_leaf=0.0, n_estimators=10,\n",
       "                       n_jobs=None, oob_score=False, random_state=None,\n",
       "                       verbose=0, warm_start=False)"
      ]
     },
     "execution_count": 15,
     "metadata": {},
     "output_type": "execute_result"
    }
   ],
   "source": [
    "# Fitting the random forest instance with default params on scaled train data and y_train\n",
    "rf_base.fit(X_train_scaled, y_train)"
   ]
  },
  {
   "cell_type": "code",
   "execution_count": 17,
   "metadata": {},
   "outputs": [],
   "source": [
    "# predicting the classes using the Random forest base model on the scaled test data\n",
    "y_test_rf_base_pred  = rf_base.predict(X_test_scaled)"
   ]
  },
  {
   "cell_type": "code",
   "execution_count": 20,
   "metadata": {},
   "outputs": [
    {
     "data": {
      "text/plain": [
       "array([[13,  0,  0,  0,  0,  0,  1,  0,  0],\n",
       "       [ 1, 22,  0,  2,  0,  0,  0,  0,  0],\n",
       "       [ 0,  2, 13,  0,  0,  0,  0,  0,  0],\n",
       "       [ 0,  5,  0, 18,  0,  0,  0,  0,  0],\n",
       "       [ 0,  0,  0,  0, 25,  0,  0,  0,  4],\n",
       "       [ 1,  0,  1,  0,  0, 13,  0,  0,  0],\n",
       "       [ 3,  0,  0,  0,  0,  0, 13,  0,  0],\n",
       "       [ 0,  1,  0,  7,  1,  0,  0,  5,  0],\n",
       "       [ 0,  0,  0,  1,  2,  0,  0,  0, 14]])"
      ]
     },
     "execution_count": 20,
     "metadata": {},
     "output_type": "execute_result"
    }
   ],
   "source": [
    "# Generating the confusion matrix for Random forest base model on the test data\n",
    "cf_matrix_rf_base_test = metrics.confusion_matrix(y_test, y_test_rf_base_pred)\n",
    "cf_matrix_rf_base_test"
   ]
  },
  {
   "cell_type": "code",
   "execution_count": 22,
   "metadata": {},
   "outputs": [],
   "source": [
    "# Labelling the confusion matrix\n",
    "class_labels = ['asphalt','building','car','concrete','grass','pool','shadow','soil','tree']\n",
    "cf_matrix_rf_base_test = pd.DataFrame(cf_matrix_rf_base_test, index=class_labels, columns=class_labels)"
   ]
  },
  {
   "cell_type": "code",
   "execution_count": 23,
   "metadata": {},
   "outputs": [
    {
     "data": {
      "image/png": "[encoded data removed]",
      "text/plain": [
       "<Figure size 432x288 with 2 Axes>"
      ]
     },
     "metadata": {
      "needs_background": "light"
     },
     "output_type": "display_data"
    }
   ],
   "source": [
    "# Creating a heat map for the confusion matrix for Random forest base model on the test data\n",
    "def conf_matrix_heatmap(confusion_matrix):\n",
    "    sns.heatmap(confusion_matrix, annot=True, cmap=\"Blues\" ,fmt='')\n",
    "    plt.tight_layout()\n",
    "    plt.title('Confusion Matrix', y=1.1)\n",
    "    plt.ylabel('Actual label')\n",
    "    plt.xlabel('Predicted label')\n",
    "\n",
    "\n",
    "    b, t = plt.ylim() # discover the values for bottom and top\n",
    "    b += 0.8 # Add 0.8 to the bottom\n",
    "    t -= 0.8 # Subtract 0.8 from the top\n",
    "    plt.ylim(b, t) # update the ylim(bottom, top) values\n",
    "    plt.show()\n",
    "\n",
    "conf_matrix_heatmap(cf_matrix_rf_base_test)\n"
   ]
  },
  {
   "cell_type": "code",
   "execution_count": 24,
   "metadata": {},
   "outputs": [
    {
     "name": "stdout",
     "output_type": "stream",
     "text": [
      "              precision    recall  f1-score   support\n",
      "\n",
      "    asphalt        0.72      0.93      0.81        14\n",
      "   building        0.73      0.88      0.80        25\n",
      "        car        0.93      0.87      0.90        15\n",
      "   concrete        0.64      0.78      0.71        23\n",
      "      grass        0.89      0.86      0.88        29\n",
      "       pool        1.00      0.87      0.93        15\n",
      "     shadow        0.93      0.81      0.87        16\n",
      "       soil        1.00      0.36      0.53        14\n",
      "       tree        0.78      0.82      0.80        17\n",
      "\n",
      "    accuracy                           0.81       168\n",
      "   macro avg       0.85      0.80      0.80       168\n",
      "weighted avg       0.83      0.81      0.81       168\n",
      "\n"
     ]
    }
   ],
   "source": [
    "# Creating a classification report for Random forest base model on the test data\n",
    "clf_report_rf_base_test = metrics.classification_report(y_test, y_test_rf_base_pred)\n",
    "print(clf_report_rf_base_test)"
   ]
  },
  {
   "cell_type": "code",
   "execution_count": 26,
   "metadata": {},
   "outputs": [
    {
     "data": {
      "text/plain": [
       "Text(0, 0.5, 'Feature Importance')"
      ]
     },
     "execution_count": 26,
     "metadata": {},
     "output_type": "execute_result"
    },
    {
     "data": {
      "image/png": "[encoded data removed]",
      "text/plain": [
       "<Figure size 432x288 with 1 Axes>"
      ]
     },
     "metadata": {
      "needs_background": "light"
     },
     "output_type": "display_data"
    }
   ],
   "source": [
    "# Identifying the top 5 features and plotting them\n",
    "# Feature importance plot\n",
    "feature_imp_rf_base = pd.DataFrame({'Name of the feature': X_test.columns, 'Feature Importance': rf_base.feature_importances_})\n",
    "feature_imp_rf_base = feature_imp_rf_base.sort_values('Feature Importance', ascending=False).head(5)\n",
    "ax = feature_imp_rf_base.plot.bar(x='Name of the feature', y='Feature Importance')\n",
    "ax.set_ylabel('Feature Importance')"
   ]
  },
  {
   "cell_type": "code",
   "execution_count": 27,
   "metadata": {},
   "outputs": [
    {
     "data": {
      "text/html": [
       "<div>\n",
       "<style scoped>\n",
       "    .dataframe tbody tr th:only-of-type {\n",
       "        vertical-align: middle;\n",
       "    }\n",
       "\n",
       "    .dataframe tbody tr th {\n",
       "        vertical-align: top;\n",
       "    }\n",
       "\n",
       "    .dataframe thead th {\n",
       "        text-align: right;\n",
       "    }\n",
       "</style>\n",
       "<table border=\"1\" class=\"dataframe\">\n",
       "  <thead>\n",
       "    <tr style=\"text-align: right;\">\n",
       "      <th></th>\n",
       "      <th>importance</th>\n",
       "    </tr>\n",
       "    <tr>\n",
       "      <th>feature</th>\n",
       "      <th></th>\n",
       "    </tr>\n",
       "  </thead>\n",
       "  <tbody>\n",
       "    <tr>\n",
       "      <td>Mean_R_100</td>\n",
       "      <td>0.052</td>\n",
       "    </tr>\n",
       "    <tr>\n",
       "      <td>Mean_R_60</td>\n",
       "      <td>0.047</td>\n",
       "    </tr>\n",
       "    <tr>\n",
       "      <td>NDVI</td>\n",
       "      <td>0.042</td>\n",
       "    </tr>\n",
       "    <tr>\n",
       "      <td>Mean_G</td>\n",
       "      <td>0.038</td>\n",
       "    </tr>\n",
       "    <tr>\n",
       "      <td>Mean_NIR_60</td>\n",
       "      <td>0.035</td>\n",
       "    </tr>\n",
       "  </tbody>\n",
       "</table>\n",
       "</div>"
      ],
      "text/plain": [
       "             importance\n",
       "feature                \n",
       "Mean_R_100        0.052\n",
       "Mean_R_60         0.047\n",
       "NDVI              0.042\n",
       "Mean_G            0.038\n",
       "Mean_NIR_60       0.035"
      ]
     },
     "execution_count": 27,
     "metadata": {},
     "output_type": "execute_result"
    }
   ],
   "source": [
    "# Sequence of feature importace for the Random forest base model\n",
    "rf_base_importances = pd.DataFrame({'feature':X_train.columns,'importance':np.round(rf_base.feature_importances_,3)})\n",
    "rf_base_importances = rf_base_importances.sort_values('importance',ascending=False).set_index('feature')\n",
    "rf_base_importances.head(5)\n",
    "\n"
   ]
  },
  {
   "cell_type": "code",
   "execution_count": 28,
   "metadata": {},
   "outputs": [],
   "source": [
    "# predicting the classes using the Random forest base model on the train data\n",
    "y_train_rf_base_pred  = rf_base.predict(X_train_scaled)"
   ]
  },
  {
   "cell_type": "code",
   "execution_count": 29,
   "metadata": {},
   "outputs": [
    {
     "data": {
      "text/plain": [
       "array([[45,  0,  0,  0,  0,  0,  0,  0,  0],\n",
       "       [ 0, 96,  0,  1,  0,  0,  0,  0,  0],\n",
       "       [ 0,  0, 21,  0,  0,  0,  0,  0,  0],\n",
       "       [ 0,  0,  0, 93,  0,  0,  0,  0,  0],\n",
       "       [ 0,  0,  0,  0, 82,  0,  0,  0,  1],\n",
       "       [ 0,  0,  0,  0,  0, 14,  0,  0,  0],\n",
       "       [ 0,  0,  0,  0,  0,  0, 45,  0,  0],\n",
       "       [ 0,  0,  0,  0,  0,  0,  0, 20,  0],\n",
       "       [ 0,  0,  0,  0,  1,  0,  0,  0, 88]])"
      ]
     },
     "execution_count": 29,
     "metadata": {},
     "output_type": "execute_result"
    }
   ],
   "source": [
    "# Generating the confusion matrix for Random forest base model on the train data\n",
    "cf_matrix_rf_base_train = metrics.confusion_matrix(y_train, y_train_rf_base_pred)\n",
    "cf_matrix_rf_base_train"
   ]
  },
  {
   "cell_type": "code",
   "execution_count": 30,
   "metadata": {},
   "outputs": [],
   "source": [
    "# Labelling the confusion matrix of the train data\n",
    "class_labels = ['asphalt','building','car','concrete','grass','pool','shadow','soil','tree']\n",
    "cf_matrix_rf_base_train = pd.DataFrame(cf_matrix_rf_base_train, index=class_labels, columns=class_labels)"
   ]
  },
  {
   "cell_type": "code",
   "execution_count": 31,
   "metadata": {},
   "outputs": [
    {
     "data": {
      "image/png": "[encoded data removed]",
      "text/plain": [
       "<Figure size 432x288 with 2 Axes>"
      ]
     },
     "metadata": {
      "needs_background": "light"
     },
     "output_type": "display_data"
    }
   ],
   "source": [
    "# Creating a heat map the confusion matrix of the train data\n",
    "conf_matrix_heatmap(cf_matrix_rf_base_train)"
   ]
  },
  {
   "cell_type": "code",
   "execution_count": 61,
   "metadata": {},
   "outputs": [
    {
     "name": "stdout",
     "output_type": "stream",
     "text": [
      "              precision    recall  f1-score   support\n",
      "\n",
      "    asphalt        1.00      1.00      1.00        45\n",
      "   building        1.00      0.99      0.99        97\n",
      "        car        1.00      1.00      1.00        21\n",
      "   concrete        0.99      1.00      0.99        93\n",
      "      grass        0.99      0.99      0.99        83\n",
      "       pool        1.00      1.00      1.00        14\n",
      "     shadow        1.00      1.00      1.00        45\n",
      "       soil        1.00      1.00      1.00        20\n",
      "       tree        0.99      0.99      0.99        89\n",
      "\n",
      "    accuracy                           0.99       507\n",
      "   macro avg       1.00      1.00      1.00       507\n",
      "weighted avg       0.99      0.99      0.99       507\n",
      "\n"
     ]
    }
   ],
   "source": [
    "# Creating a classification report for Random forest base model on the train data\n",
    "clf_report_rf_base_train = metrics.classification_report(y_train, y_train_rf_base_pred)\n",
    "print(clf_report_rf_base_train)"
   ]
  },
  {
   "cell_type": "markdown",
   "metadata": {},
   "source": [
    "The base model random forest classifier is definitely overfit at this point until we add some custom parameters to the base model random forest classifier . As we notice , the classification metrics for the train data is almost perfect and very much exceeding their corresponding metrics that we obtained using the base model on the test data. . It looks like the train data has been memorized and the base model is not going to perform well when its exposed to other data when the model is deployed to the production environment. Perfect classification for both the classes is observed in the train data along with almost equal to 1 values of metrics like precision , recall and f1-score . There is a huge gap between the training and testing data metrics of the random forest base model. The noise has been memorized and has to be take care of using regularization techniques."
   ]
  },
  {
   "cell_type": "markdown",
   "metadata": {},
   "source": [
    "# 3. LinearSVM Classifier - Base Model:"
   ]
  },
  {
   "cell_type": "code",
   "execution_count": 36,
   "metadata": {},
   "outputs": [],
   "source": [
    "# Creating  a simple LinearSVC Classifier only using default parameters\n",
    "svc_linear_base = LinearSVC()\n"
   ]
  },
  {
   "cell_type": "code",
   "execution_count": 37,
   "metadata": {},
   "outputs": [
    {
     "name": "stderr",
     "output_type": "stream",
     "text": [
      "/opt/anaconda3/lib/python3.7/site-packages/sklearn/svm/base.py:929: ConvergenceWarning: Liblinear failed to converge, increase the number of iterations.\n",
      "  \"the number of iterations.\", ConvergenceWarning)\n"
     ]
    },
    {
     "data": {
      "text/plain": [
       "LinearSVC(C=1.0, class_weight=None, dual=True, fit_intercept=True,\n",
       "          intercept_scaling=1, loss='squared_hinge', max_iter=1000,\n",
       "          multi_class='ovr', penalty='l2', random_state=None, tol=0.0001,\n",
       "          verbose=0)"
      ]
     },
     "execution_count": 37,
     "metadata": {},
     "output_type": "execute_result"
    }
   ],
   "source": [
    "# Fitting the simple SVC onto the train data\n",
    "svc_linear_base.fit(X_train_scaled, y_train)"
   ]
  },
  {
   "cell_type": "code",
   "execution_count": 38,
   "metadata": {},
   "outputs": [],
   "source": [
    "# predicting the classes using SVM linear base model on the scaled test data\n",
    "y_test_svc_linear_base_pred = svc_linear_base.predict(X_test_scaled)"
   ]
  },
  {
   "cell_type": "code",
   "execution_count": 39,
   "metadata": {},
   "outputs": [
    {
     "data": {
      "text/plain": [
       "array([[13,  0,  0,  0,  0,  0,  1,  0,  0],\n",
       "       [ 0, 21,  1,  1,  1,  0,  0,  1,  0],\n",
       "       [ 0,  2, 12,  0,  0,  0,  0,  0,  1],\n",
       "       [ 1,  6,  0, 15,  0,  0,  0,  0,  1],\n",
       "       [ 0,  0,  0,  1, 26,  0,  0,  0,  2],\n",
       "       [ 1,  0,  1,  0,  0, 13,  0,  0,  0],\n",
       "       [ 2,  0,  0,  0,  0,  0, 14,  0,  0],\n",
       "       [ 0,  4,  0,  1,  3,  0,  0,  6,  0],\n",
       "       [ 0,  0,  0,  1,  7,  0,  0,  0,  9]])"
      ]
     },
     "execution_count": 39,
     "metadata": {},
     "output_type": "execute_result"
    }
   ],
   "source": [
    "# Generating the confusion matrix for linear SVM base model on the test data\n",
    "cf_matrix_svc_linear_base_test = metrics.confusion_matrix(y_test, y_test_svc_linear_base_pred)\n",
    "cf_matrix_svc_linear_base_test"
   ]
  },
  {
   "cell_type": "code",
   "execution_count": 41,
   "metadata": {},
   "outputs": [],
   "source": [
    "# Labelling the confusion matrix of the test data\n",
    "class_labels = ['asphalt','building','car','concrete','grass','pool','shadow','soil','tree']\n",
    "cf_matrix_svc_linear_base_test = pd.DataFrame(cf_matrix_svc_linear_base_test, index=class_labels, columns=class_labels)"
   ]
  },
  {
   "cell_type": "code",
   "execution_count": 42,
   "metadata": {},
   "outputs": [
    {
     "data": {
      "image/png": "[encoded data removed]",
      "text/plain": [
       "<Figure size 432x288 with 2 Axes>"
      ]
     },
     "metadata": {
      "needs_background": "light"
     },
     "output_type": "display_data"
    }
   ],
   "source": [
    "# Creating a heatmap for the confusion matrix for linear SVM base model on the test data\n",
    "conf_matrix_heatmap(cf_matrix_svc_linear_base_test)"
   ]
  },
  {
   "cell_type": "code",
   "execution_count": 43,
   "metadata": {},
   "outputs": [
    {
     "name": "stdout",
     "output_type": "stream",
     "text": [
      "              precision    recall  f1-score   support\n",
      "\n",
      "    asphalt        0.76      0.93      0.84        14\n",
      "   building        0.64      0.84      0.72        25\n",
      "        car        0.86      0.80      0.83        15\n",
      "   concrete        0.79      0.65      0.71        23\n",
      "      grass        0.70      0.90      0.79        29\n",
      "       pool        1.00      0.87      0.93        15\n",
      "     shadow        0.93      0.88      0.90        16\n",
      "       soil        0.86      0.43      0.57        14\n",
      "       tree        0.69      0.53      0.60        17\n",
      "\n",
      "    accuracy                           0.77       168\n",
      "   macro avg       0.80      0.76      0.77       168\n",
      "weighted avg       0.78      0.77      0.76       168\n",
      "\n"
     ]
    }
   ],
   "source": [
    "# Creating a classification report for linear SVM base model on the test data\n",
    "clf_report_svc_linear_base_test = metrics.classification_report(y_test, y_test_svc_linear_base_pred)\n",
    "print(clf_report_svc_linear_base_test)"
   ]
  },
  {
   "cell_type": "code",
   "execution_count": 44,
   "metadata": {},
   "outputs": [],
   "source": [
    "# predicting the classes using SVM linear base model on the scaled train data\n",
    "y_train_svc_linear_base_pred = svc_linear_base.predict(X_train_scaled)"
   ]
  },
  {
   "cell_type": "code",
   "execution_count": 45,
   "metadata": {},
   "outputs": [
    {
     "data": {
      "text/plain": [
       "array([[45,  0,  0,  0,  0,  0,  0,  0,  0],\n",
       "       [ 0, 97,  0,  0,  0,  0,  0,  0,  0],\n",
       "       [ 0,  0, 21,  0,  0,  0,  0,  0,  0],\n",
       "       [ 0,  0,  0, 93,  0,  0,  0,  0,  0],\n",
       "       [ 0,  1,  0,  0, 80,  0,  0,  0,  2],\n",
       "       [ 0,  0,  0,  0,  0, 14,  0,  0,  0],\n",
       "       [ 0,  0,  0,  0,  0,  0, 45,  0,  0],\n",
       "       [ 0,  0,  0,  0,  0,  0,  0, 20,  0],\n",
       "       [ 0,  0,  0,  0,  0,  0,  0,  0, 89]])"
      ]
     },
     "execution_count": 45,
     "metadata": {},
     "output_type": "execute_result"
    }
   ],
   "source": [
    "# Generating the confusion matrix for linear SVM base model on the train data\n",
    "cf_matrix_svc_linear_base_train = metrics.confusion_matrix(y_train, y_train_svc_linear_base_pred)\n",
    "cf_matrix_svc_linear_base_train"
   ]
  },
  {
   "cell_type": "code",
   "execution_count": 46,
   "metadata": {},
   "outputs": [],
   "source": [
    "# Labelling the confusion matrix of the train data\n",
    "class_labels = ['asphalt','building','car','concrete','grass','pool','shadow','soil','tree']\n",
    "cf_matrix_svc_linear_base_train = pd.DataFrame(cf_matrix_svc_linear_base_train, index=class_labels, columns=class_labels)"
   ]
  },
  {
   "cell_type": "code",
   "execution_count": 47,
   "metadata": {},
   "outputs": [
    {
     "data": {
      "image/png": "[encoded data removed]",
      "text/plain": [
       "<Figure size 432x288 with 2 Axes>"
      ]
     },
     "metadata": {
      "needs_background": "light"
     },
     "output_type": "display_data"
    }
   ],
   "source": [
    "# Creating a heatmap for the confusion matrix for linear SVM base model on the train data\n",
    "conf_matrix_heatmap(cf_matrix_svc_linear_base_train)"
   ]
  },
  {
   "cell_type": "code",
   "execution_count": 48,
   "metadata": {},
   "outputs": [
    {
     "name": "stdout",
     "output_type": "stream",
     "text": [
      "              precision    recall  f1-score   support\n",
      "\n",
      "    asphalt        1.00      1.00      1.00        45\n",
      "   building        0.99      1.00      0.99        97\n",
      "        car        1.00      1.00      1.00        21\n",
      "   concrete        1.00      1.00      1.00        93\n",
      "      grass        1.00      0.96      0.98        83\n",
      "       pool        1.00      1.00      1.00        14\n",
      "     shadow        1.00      1.00      1.00        45\n",
      "       soil        1.00      1.00      1.00        20\n",
      "       tree        0.98      1.00      0.99        89\n",
      "\n",
      "    accuracy                           0.99       507\n",
      "   macro avg       1.00      1.00      1.00       507\n",
      "weighted avg       0.99      0.99      0.99       507\n",
      "\n"
     ]
    }
   ],
   "source": [
    "# Creating a classification report for linear SVM base model on the train data\n",
    "clf_report_svc_linear_base_train = metrics.classification_report(y_train, y_train_svc_linear_base_pred)\n",
    "print(clf_report_svc_linear_base_train)"
   ]
  },
  {
   "cell_type": "markdown",
   "metadata": {},
   "source": [
    "There are obvious signs of overfitting looking at the classification report of the linear SVC model on both test and train data. The accuracy of the linear SVC model on the test data is around 0.78 where as for the train data , it was around 0.99 which suggests perfect classification for all the labels and classes that we have in our data. Even the precision , recall , f1 score for each label or class is almost perfect or equal to 1.This makes us belive that the linear SVC model has learned the patterns within the training data in such a way that it has also included the noise within the train data extremely well. This led to our model not been able to achieve high level of accuracy on the test data while making prediction. This model needs regularization in order to reduce the overfitting and lower the variance."
   ]
  },
  {
   "cell_type": "markdown",
   "metadata": {},
   "source": [
    "# 4. Support Vector Machine Classifier + Linear Kernel + Grid Search:"
   ]
  },
  {
   "cell_type": "code",
   "execution_count": 49,
   "metadata": {},
   "outputs": [],
   "source": [
    "# Creating  a simple SVC instance with linear kernel \n",
    "svc_linear_kernel = SVC(kernel = \"linear\")\n"
   ]
  },
  {
   "cell_type": "code",
   "execution_count": 51,
   "metadata": {},
   "outputs": [],
   "source": [
    "# Creating a param dict for the grid search\n",
    "param_grid_svc_linear_kernel = {'C': np.arange(0.01, 10.0, 0.2)}"
   ]
  },
  {
   "cell_type": "code",
   "execution_count": 53,
   "metadata": {},
   "outputs": [],
   "source": [
    "# Create grid search object for the SVC with linear kernel\n",
    "svc_linear_kernel_Grid = GridSearchCV(svc_linear_kernel, param_grid_svc_linear_kernel, cv = 5,refit=True, n_jobs=-1, verbose=0, return_train_score=True)"
   ]
  },
  {
   "cell_type": "code",
   "execution_count": 54,
   "metadata": {},
   "outputs": [
    {
     "name": "stderr",
     "output_type": "stream",
     "text": [
      "/opt/anaconda3/lib/python3.7/site-packages/sklearn/model_selection/_search.py:814: DeprecationWarning: The default of the `iid` parameter will change from True to False in version 0.22 and will be removed in 0.24. This will change numeric results when test-set sizes are unequal.\n",
      "  DeprecationWarning)\n"
     ]
    },
    {
     "data": {
      "text/plain": [
       "GridSearchCV(cv=5, error_score='raise-deprecating',\n",
       "             estimator=SVC(C=1.0, cache_size=200, class_weight=None, coef0=0.0,\n",
       "                           decision_function_shape='ovr', degree=3,\n",
       "                           gamma='auto_deprecated', kernel='linear',\n",
       "                           max_iter=-1, probability=False, random_state=None,\n",
       "                           shrinking=True, tol=0.001, verbose=False),\n",
       "             iid='warn', n_jobs=-1,\n",
       "             param_grid={'C': array([0.01, 0.21, 0.41, 0.61, 0.81, 1.01, 1.21, 1.41, 1.61, 1.81, 2.01,\n",
       "       2.21, 2.41, 2.61, 2.81, 3.01, 3.21, 3.41, 3.61, 3.81, 4.01, 4.21,\n",
       "       4.41, 4.61, 4.81, 5.01, 5.21, 5.41, 5.61, 5.81, 6.01, 6.21, 6.41,\n",
       "       6.61, 6.81, 7.01, 7.21, 7.41, 7.61, 7.81, 8.01, 8.21, 8.41, 8.61,\n",
       "       8.81, 9.01, 9.21, 9.41, 9.61, 9.81])},\n",
       "             pre_dispatch='2*n_jobs', refit=True, return_train_score=True,\n",
       "             scoring=None, verbose=0)"
      ]
     },
     "execution_count": 54,
     "metadata": {},
     "output_type": "execute_result"
    }
   ],
   "source": [
    "# Performing the grid search for our SVC linear kernel model\n",
    "svc_linear_kernel_Grid.fit(X_train_scaled, y_train)"
   ]
  },
  {
   "cell_type": "code",
   "execution_count": 55,
   "metadata": {},
   "outputs": [
    {
     "data": {
      "text/plain": [
       "SVC(C=0.01, cache_size=200, class_weight=None, coef0=0.0,\n",
       "    decision_function_shape='ovr', degree=3, gamma='auto_deprecated',\n",
       "    kernel='linear', max_iter=-1, probability=False, random_state=None,\n",
       "    shrinking=True, tol=0.001, verbose=False)"
      ]
     },
     "execution_count": 55,
     "metadata": {},
     "output_type": "execute_result"
    }
   ],
   "source": [
    "# Identifying the best performing model for our SVC linear kernel model using the grid search\n",
    "best_svc_linear_kernel = svc_linear_kernel_Grid.best_estimator_\n",
    "best_svc_linear_kernel"
   ]
  },
  {
   "cell_type": "code",
   "execution_count": 56,
   "metadata": {},
   "outputs": [
    {
     "data": {
      "text/plain": [
       "{'C': 0.01}"
      ]
     },
     "execution_count": 56,
     "metadata": {},
     "output_type": "execute_result"
    }
   ],
   "source": [
    "# Identifying the best parameters for our SVC linear kernel model using the grid search\n",
    "best_svc_linear_params = svc_linear_kernel_Grid.best_params_\n",
    "best_svc_linear_params"
   ]
  },
  {
   "cell_type": "code",
   "execution_count": 63,
   "metadata": {},
   "outputs": [],
   "source": [
    "# Predicting on the test data using best linear kernel model\n",
    "y_pred_svc_linear_kernel_test = best_svc_linear_kernel.predict(X_test_scaled)"
   ]
  },
  {
   "cell_type": "code",
   "execution_count": 64,
   "metadata": {},
   "outputs": [
    {
     "data": {
      "text/plain": [
       "array([[13,  0,  0,  0,  0,  0,  1,  0,  0],\n",
       "       [ 0, 22,  0,  2,  1,  0,  0,  0,  0],\n",
       "       [ 0,  1, 14,  0,  0,  0,  0,  0,  0],\n",
       "       [ 0,  5,  0, 17,  0,  0,  0,  1,  0],\n",
       "       [ 0,  0,  0,  1, 25,  0,  0,  0,  3],\n",
       "       [ 0,  0,  0,  0,  0, 14,  1,  0,  0],\n",
       "       [ 1,  0,  0,  0,  0,  0, 15,  0,  0],\n",
       "       [ 0,  3,  0,  5,  2,  0,  0,  4,  0],\n",
       "       [ 0,  0,  0,  1,  2,  0,  0,  0, 14]])"
      ]
     },
     "execution_count": 64,
     "metadata": {},
     "output_type": "execute_result"
    }
   ],
   "source": [
    "# Generating the confusion matrix for the best linear kernel model on the test data\n",
    "cf_matrix_svc_linear_kernel_test = metrics.confusion_matrix(y_test, y_pred_svc_linear_kernel_test)\n",
    "cf_matrix_svc_linear_kernel_test"
   ]
  },
  {
   "cell_type": "code",
   "execution_count": 65,
   "metadata": {},
   "outputs": [],
   "source": [
    "# Labelling the confusion matrix of the test data\n",
    "class_labels = ['asphalt','building','car','concrete','grass','pool','shadow','soil','tree']\n",
    "cf_matrix_svc_linear_kernel_test = pd.DataFrame(cf_matrix_svc_linear_kernel_test, index=class_labels, columns=class_labels)"
   ]
  },
  {
   "cell_type": "code",
   "execution_count": 66,
   "metadata": {},
   "outputs": [
    {
     "data": {
      "image/png": "[encoded data removed]",
      "text/plain": [
       "<Figure size 432x288 with 2 Axes>"
      ]
     },
     "metadata": {
      "needs_background": "light"
     },
     "output_type": "display_data"
    }
   ],
   "source": [
    "# Creating a heatmap for the confusion matrix for the best linear kernel model on the test data\n",
    "conf_matrix_heatmap(cf_matrix_svc_linear_kernel_test)"
   ]
  },
  {
   "cell_type": "code",
   "execution_count": 67,
   "metadata": {},
   "outputs": [
    {
     "name": "stdout",
     "output_type": "stream",
     "text": [
      "              precision    recall  f1-score   support\n",
      "\n",
      "    asphalt        0.93      0.93      0.93        14\n",
      "   building        0.71      0.88      0.79        25\n",
      "        car        1.00      0.93      0.97        15\n",
      "   concrete        0.65      0.74      0.69        23\n",
      "      grass        0.83      0.86      0.85        29\n",
      "       pool        1.00      0.93      0.97        15\n",
      "     shadow        0.88      0.94      0.91        16\n",
      "       soil        0.80      0.29      0.42        14\n",
      "       tree        0.82      0.82      0.82        17\n",
      "\n",
      "    accuracy                           0.82       168\n",
      "   macro avg       0.85      0.81      0.82       168\n",
      "weighted avg       0.83      0.82      0.81       168\n",
      "\n"
     ]
    }
   ],
   "source": [
    "# Creating a classification report for the best linear kernel model on the test data\n",
    "clf_report_svc_linear_kernel_test = metrics.classification_report(y_test, y_pred_svc_linear_kernel_test)\n",
    "print(clf_report_svc_linear_kernel_test)"
   ]
  },
  {
   "cell_type": "code",
   "execution_count": 68,
   "metadata": {},
   "outputs": [],
   "source": [
    "# Predicting on the train data using best linear kernel model\n",
    "y_pred_svc_linear_kernel_train = best_svc_linear_kernel.predict(X_train_scaled)"
   ]
  },
  {
   "cell_type": "code",
   "execution_count": 70,
   "metadata": {},
   "outputs": [
    {
     "data": {
      "text/plain": [
       "array([[40,  0,  0,  0,  0,  0,  5,  0,  0],\n",
       "       [ 2, 87,  0,  7,  0,  0,  1,  0,  0],\n",
       "       [ 0,  1, 19,  1,  0,  0,  0,  0,  0],\n",
       "       [ 0,  9,  0, 83,  1,  0,  0,  0,  0],\n",
       "       [ 0,  1,  0,  0, 70,  0,  0,  0, 12],\n",
       "       [ 0,  1,  0,  0,  1, 12,  0,  0,  0],\n",
       "       [ 1,  0,  0,  0,  0,  0, 43,  0,  1],\n",
       "       [ 0,  3,  0,  4,  2,  0,  0, 11,  0],\n",
       "       [ 0,  0,  0,  0,  3,  0,  1,  0, 85]])"
      ]
     },
     "execution_count": 70,
     "metadata": {},
     "output_type": "execute_result"
    }
   ],
   "source": [
    "# Generating the confusion matrix for the best linear kernel model on the train data\n",
    "cf_matrix_svc_linear_kernel_train = metrics.confusion_matrix(y_train, y_pred_svc_linear_kernel_train)\n",
    "cf_matrix_svc_linear_kernel_train"
   ]
  },
  {
   "cell_type": "code",
   "execution_count": null,
   "metadata": {},
   "outputs": [],
   "source": [
    "# Labelling the confusion matrix of the train data\n",
    "class_labels = ['asphalt','building','car','concrete','grass','pool','shadow','soil','tree']\n",
    "cf_matrix_svc_linear_kernel_train = pd.DataFrame(cf_matrix_svc_linear_kernel_train, index=class_labels, columns=class_labels)"
   ]
  },
  {
   "cell_type": "code",
   "execution_count": 71,
   "metadata": {},
   "outputs": [
    {
     "data": {
      "image/png": "[encoded data removed]",
      "text/plain": [
       "<Figure size 432x288 with 2 Axes>"
      ]
     },
     "metadata": {
      "needs_background": "light"
     },
     "output_type": "display_data"
    }
   ],
   "source": [
    "# Creating a heatmap for the confusion matrix for the best linear kernel model on the train data\n",
    "conf_matrix_heatmap(cf_matrix_svc_linear_kernel_train)"
   ]
  },
  {
   "cell_type": "code",
   "execution_count": 72,
   "metadata": {},
   "outputs": [
    {
     "name": "stdout",
     "output_type": "stream",
     "text": [
      "              precision    recall  f1-score   support\n",
      "\n",
      "    asphalt        0.93      0.89      0.91        45\n",
      "   building        0.85      0.90      0.87        97\n",
      "        car        1.00      0.90      0.95        21\n",
      "   concrete        0.87      0.89      0.88        93\n",
      "      grass        0.91      0.84      0.88        83\n",
      "       pool        1.00      0.86      0.92        14\n",
      "     shadow        0.86      0.96      0.91        45\n",
      "       soil        1.00      0.55      0.71        20\n",
      "       tree        0.87      0.96      0.91        89\n",
      "\n",
      "    accuracy                           0.89       507\n",
      "   macro avg       0.92      0.86      0.88       507\n",
      "weighted avg       0.89      0.89      0.89       507\n",
      "\n"
     ]
    }
   ],
   "source": [
    "# Creating a classification report for the best linear kernel model on the train data\n",
    "clf_report_svc_linear_kernel_train = metrics.classification_report(y_train, y_pred_svc_linear_kernel_train)\n",
    "print(clf_report_svc_linear_kernel_train)"
   ]
  },
  {
   "cell_type": "markdown",
   "metadata": {},
   "source": [
    "We observed that the accuracy of our SVC with linear kernel best model on test data is around 0.89 and on the train data is around 0.82. There is not a huge gap between the accuracies as we saw if the previous models of random forest base models and linearSVC model. But still we can say that this is not an ideal model because we do see some level of overfitting to a small extent . By looking at the classification metrics , we know that the metrics of precision, recall and f1 score is similar for most of the labels or target classes except a few .So we can conclude by saying that there is a slight or minor overfitting issue or the variance issue which may require some level of regularization to fix that."
   ]
  },
  {
   "cell_type": "markdown",
   "metadata": {},
   "source": [
    "# 5. Support Vector Machine Classifier + Polynomial Kernel + Grid Search:"
   ]
  },
  {
   "cell_type": "code",
   "execution_count": 73,
   "metadata": {},
   "outputs": [],
   "source": [
    "# Creating  a simple SVC instance with polynomial kernel \n",
    "svc_poly_kernel = SVC(kernel = \"poly\")"
   ]
  },
  {
   "cell_type": "code",
   "execution_count": 75,
   "metadata": {},
   "outputs": [],
   "source": [
    "# Creating a dict of the params for grid search for the polynomial kernel SVC\n",
    "param_grid_svc_poly_kernel = {\n",
    "    'C': np.arange(0.01, 10.00, 0.2),\n",
    "    'degree': [2, 3, 4, 5, 6]\n",
    "}"
   ]
  },
  {
   "cell_type": "code",
   "execution_count": 79,
   "metadata": {},
   "outputs": [],
   "source": [
    "# Create grid search object for the SVC with polynomial kernel\n",
    "svc_poly_kernel_Grid = GridSearchCV(svc_poly_kernel, param_grid_svc_poly_kernel, cv = 5,refit=True, n_jobs=-1, verbose=0, return_train_score=True)"
   ]
  },
  {
   "cell_type": "code",
   "execution_count": 80,
   "metadata": {},
   "outputs": [
    {
     "name": "stderr",
     "output_type": "stream",
     "text": [
      "/opt/anaconda3/lib/python3.7/site-packages/sklearn/model_selection/_search.py:814: DeprecationWarning: The default of the `iid` parameter will change from True to False in version 0.22 and will be removed in 0.24. This will change numeric results when test-set sizes are unequal.\n",
      "  DeprecationWarning)\n"
     ]
    },
    {
     "data": {
      "text/plain": [
       "GridSearchCV(cv=5, error_score='raise-deprecating',\n",
       "             estimator=SVC(C=1.0, cache_size=200, class_weight=None, coef0=0.0,\n",
       "                           decision_function_shape='ovr', degree=3,\n",
       "                           gamma='auto_deprecated', kernel='poly', max_iter=-1,\n",
       "                           probability=False, random_state=None, shrinking=True,\n",
       "                           tol=0.001, verbose=False),\n",
       "             iid='warn', n_jobs=-1,\n",
       "             param_grid={'C': array([0.01, 0.21, 0.41, 0.61, 0.81, 1.01, 1.21, 1.41, 1.61, 1.81, 2.01,\n",
       "       2.21, 2.41, 2.61, 2.81, 3.01, 3.21, 3.41, 3.61, 3.81, 4.01, 4.21,\n",
       "       4.41, 4.61, 4.81, 5.01, 5.21, 5.41, 5.61, 5.81, 6.01, 6.21, 6.41,\n",
       "       6.61, 6.81, 7.01, 7.21, 7.41, 7.61, 7.81, 8.01, 8.21, 8.41, 8.61,\n",
       "       8.81, 9.01, 9.21, 9.41, 9.61, 9.81]),\n",
       "                         'degree': [2, 3, 4, 5, 6]},\n",
       "             pre_dispatch='2*n_jobs', refit=True, return_train_score=True,\n",
       "             scoring=None, verbose=0)"
      ]
     },
     "execution_count": 80,
     "metadata": {},
     "output_type": "execute_result"
    }
   ],
   "source": [
    "# Performing the grid search for our SVC polynomial kernel model\n",
    "svc_poly_kernel_Grid.fit(X_train_scaled, y_train)"
   ]
  },
  {
   "cell_type": "code",
   "execution_count": 81,
   "metadata": {},
   "outputs": [
    {
     "data": {
      "text/plain": [
       "SVC(C=8.41, cache_size=200, class_weight=None, coef0=0.0,\n",
       "    decision_function_shape='ovr', degree=3, gamma='auto_deprecated',\n",
       "    kernel='poly', max_iter=-1, probability=False, random_state=None,\n",
       "    shrinking=True, tol=0.001, verbose=False)"
      ]
     },
     "execution_count": 81,
     "metadata": {},
     "output_type": "execute_result"
    }
   ],
   "source": [
    "# Identifying the best performing model for our SVC polynomial kernel model using the grid search\n",
    "best_svc_poly_kernel = svc_poly_kernel_Grid.best_estimator_\n",
    "best_svc_poly_kernel"
   ]
  },
  {
   "cell_type": "code",
   "execution_count": 82,
   "metadata": {},
   "outputs": [
    {
     "data": {
      "text/plain": [
       "{'C': 8.41, 'degree': 3}"
      ]
     },
     "execution_count": 82,
     "metadata": {},
     "output_type": "execute_result"
    }
   ],
   "source": [
    "# Identifying the best parameters for our SVC polynomial kernel model using the grid search\n",
    "best_svc_poly_params = svc_poly_kernel_Grid.best_params_\n",
    "best_svc_poly_params"
   ]
  },
  {
   "cell_type": "code",
   "execution_count": 83,
   "metadata": {},
   "outputs": [],
   "source": [
    "# Predicting on the scaled test data using best polynomial kernel SVC model\n",
    "y_pred_svc_poly_kernel_test = best_svc_poly_kernel.predict(X_test_scaled)"
   ]
  },
  {
   "cell_type": "code",
   "execution_count": 84,
   "metadata": {},
   "outputs": [
    {
     "data": {
      "text/plain": [
       "array([[13,  0,  0,  0,  0,  0,  1,  0,  0],\n",
       "       [ 0, 22,  0,  2,  1,  0,  0,  0,  0],\n",
       "       [ 0,  2, 11,  0,  0,  1,  0,  1,  0],\n",
       "       [ 0,  5,  0, 17,  0,  0,  0,  1,  0],\n",
       "       [ 0,  0,  0,  0, 26,  0,  0,  1,  2],\n",
       "       [ 0,  0,  0,  0,  0, 14,  1,  0,  0],\n",
       "       [ 2,  0,  0,  0,  0,  0, 14,  0,  0],\n",
       "       [ 0,  3,  0,  4,  6,  0,  0,  1,  0],\n",
       "       [ 0,  0,  0,  1,  3,  0,  0,  0, 13]])"
      ]
     },
     "execution_count": 84,
     "metadata": {},
     "output_type": "execute_result"
    }
   ],
   "source": [
    "# Generating the confusion matrix for the best polynomial kernel model on the test data\n",
    "cf_matrix_svc_poly_kernel_test = metrics.confusion_matrix(y_test, y_pred_svc_poly_kernel_test)\n",
    "cf_matrix_svc_poly_kernel_test"
   ]
  },
  {
   "cell_type": "code",
   "execution_count": 86,
   "metadata": {},
   "outputs": [],
   "source": [
    "# Labelling the confusion matrix of the test data\n",
    "class_labels = ['asphalt','building','car','concrete','grass','pool','shadow','soil','tree']\n",
    "cf_matrix_svc_poly_kernel_test = pd.DataFrame(cf_matrix_svc_poly_kernel_test, index=class_labels, columns=class_labels)"
   ]
  },
  {
   "cell_type": "code",
   "execution_count": 87,
   "metadata": {},
   "outputs": [
    {
     "data": {
      "image/png": "[encoded data removed]",
      "text/plain": [
       "<Figure size 432x288 with 2 Axes>"
      ]
     },
     "metadata": {
      "needs_background": "light"
     },
     "output_type": "display_data"
    }
   ],
   "source": [
    "# Creating a heatmap for the confusion matrix for the best polynomial kernel model on the test data\n",
    "conf_matrix_heatmap(cf_matrix_svc_poly_kernel_test)"
   ]
  },
  {
   "cell_type": "code",
   "execution_count": 88,
   "metadata": {},
   "outputs": [
    {
     "name": "stdout",
     "output_type": "stream",
     "text": [
      "              precision    recall  f1-score   support\n",
      "\n",
      "    asphalt        0.87      0.93      0.90        14\n",
      "   building        0.69      0.88      0.77        25\n",
      "        car        1.00      0.73      0.85        15\n",
      "   concrete        0.71      0.74      0.72        23\n",
      "      grass        0.72      0.90      0.80        29\n",
      "       pool        0.93      0.93      0.93        15\n",
      "     shadow        0.88      0.88      0.88        16\n",
      "       soil        0.25      0.07      0.11        14\n",
      "       tree        0.87      0.76      0.81        17\n",
      "\n",
      "    accuracy                           0.78       168\n",
      "   macro avg       0.77      0.76      0.75       168\n",
      "weighted avg       0.76      0.78      0.76       168\n",
      "\n"
     ]
    }
   ],
   "source": [
    "# Creating a classification report for the best polynomial kernel model on the test data\n",
    "clf_report_svc_poly_kernel_test = metrics.classification_report(y_test, y_pred_svc_poly_kernel_test)\n",
    "print(clf_report_svc_poly_kernel_test)"
   ]
  },
  {
   "cell_type": "code",
   "execution_count": 90,
   "metadata": {},
   "outputs": [],
   "source": [
    "# Predicting on the scaled train data using best polynomial kernel SVC model\n",
    "y_pred_svc_poly_kernel_train = best_svc_poly_kernel.predict(X_train_scaled)"
   ]
  },
  {
   "cell_type": "code",
   "execution_count": 91,
   "metadata": {},
   "outputs": [
    {
     "data": {
      "text/plain": [
       "array([[45,  0,  0,  0,  0,  0,  0,  0,  0],\n",
       "       [ 0, 97,  0,  0,  0,  0,  0,  0,  0],\n",
       "       [ 0,  0, 20,  0,  1,  0,  0,  0,  0],\n",
       "       [ 0,  1,  0, 91,  1,  0,  0,  0,  0],\n",
       "       [ 0,  1,  0,  0, 82,  0,  0,  0,  0],\n",
       "       [ 0,  0,  0,  0,  1, 13,  0,  0,  0],\n",
       "       [ 0,  0,  0,  0,  0,  0, 45,  0,  0],\n",
       "       [ 0,  0,  0,  0,  5,  0,  0, 15,  0],\n",
       "       [ 0,  0,  0,  0,  1,  0,  0,  0, 88]])"
      ]
     },
     "execution_count": 91,
     "metadata": {},
     "output_type": "execute_result"
    }
   ],
   "source": [
    "# Generating the confusion matrix for the best polynomial kernel model on the train data\n",
    "cf_matrix_svc_poly_kernel_train = metrics.confusion_matrix(y_train, y_pred_svc_poly_kernel_train)\n",
    "cf_matrix_svc_poly_kernel_train"
   ]
  },
  {
   "cell_type": "code",
   "execution_count": 93,
   "metadata": {},
   "outputs": [],
   "source": [
    "# Labelling the confusion matrix of the train data\n",
    "class_labels = ['asphalt','building','car','concrete','grass','pool','shadow','soil','tree']\n",
    "cf_matrix_svc_poly_kernel_train = pd.DataFrame(cf_matrix_svc_poly_kernel_train, index=class_labels, columns=class_labels)"
   ]
  },
  {
   "cell_type": "code",
   "execution_count": 94,
   "metadata": {},
   "outputs": [
    {
     "data": {
      "image/png": "[encoded data removed]",
      "text/plain": [
       "<Figure size 432x288 with 2 Axes>"
      ]
     },
     "metadata": {
      "needs_background": "light"
     },
     "output_type": "display_data"
    }
   ],
   "source": [
    "# Creating a heatmap for the confusion matrix for the best polynomial SVC kernel model on the train data\n",
    "conf_matrix_heatmap(cf_matrix_svc_poly_kernel_train)"
   ]
  },
  {
   "cell_type": "code",
   "execution_count": 95,
   "metadata": {},
   "outputs": [
    {
     "name": "stdout",
     "output_type": "stream",
     "text": [
      "              precision    recall  f1-score   support\n",
      "\n",
      "    asphalt        1.00      1.00      1.00        45\n",
      "   building        0.98      1.00      0.99        97\n",
      "        car        1.00      0.95      0.98        21\n",
      "   concrete        1.00      0.98      0.99        93\n",
      "      grass        0.90      0.99      0.94        83\n",
      "       pool        1.00      0.93      0.96        14\n",
      "     shadow        1.00      1.00      1.00        45\n",
      "       soil        1.00      0.75      0.86        20\n",
      "       tree        1.00      0.99      0.99        89\n",
      "\n",
      "    accuracy                           0.98       507\n",
      "   macro avg       0.99      0.95      0.97       507\n",
      "weighted avg       0.98      0.98      0.98       507\n",
      "\n"
     ]
    }
   ],
   "source": [
    "# Creating a classification report for the best polynomial kernel SVC model on the train data\n",
    "clf_report_svc_poly_kernel_train = metrics.classification_report(y_train, y_pred_svc_poly_kernel_train)\n",
    "print(clf_report_svc_poly_kernel_train)"
   ]
  },
  {
   "cell_type": "markdown",
   "metadata": {},
   "source": [
    "The polynomial kernel SVC model is even overfit compared to the random forest base model and linearSVC and SVC with linear kernel model in terms of its performance and accuracy metric. The performance of this model is worst compared to all the other preceding models. The classification metrics of the poly kernel SVC model is almost equal to 1 which is perfect but not ideal for modelling. There are obvious signs of overfitting and high variance which can only be fixed by regularization measures. Looks like this model has practically memorized the training data so much so that when it was applied to the test data , its performance in terms of accuracy was not even close to that of training data. Since this model has learned the patterns in the training data including the outliers and other noise, we can the model to generalize better so that it could be applied to other unseen data to achieve a high level of accuracy."
   ]
  },
  {
   "cell_type": "markdown",
   "metadata": {},
   "source": [
    "# 6. Support Vector Machine Classifier + RBF Kernel + Grid Search:"
   ]
  },
  {
   "cell_type": "code",
   "execution_count": 96,
   "metadata": {},
   "outputs": [],
   "source": [
    "# Creating  a simple SVC instance with RBF kernel \n",
    "svc_rbf_kernel = SVC(kernel = \"rbf\")"
   ]
  },
  {
   "cell_type": "code",
   "execution_count": 97,
   "metadata": {},
   "outputs": [],
   "source": [
    "# Creating a dict of the params for grid search for the RBF kernel SVC\n",
    "param_grid_svc_rbf_kernel = {\n",
    "    'C': np.arange(0.01, 10.00, 0.2),\n",
    "    'gamma': [0.01, 0.1, 1, 10, 100]}"
   ]
  },
  {
   "cell_type": "code",
   "execution_count": 98,
   "metadata": {},
   "outputs": [],
   "source": [
    "# Create grid search object for the SVC with RBF kernel\n",
    "svc_rbf_kernel_Grid = GridSearchCV(svc_rbf_kernel, param_grid_svc_rbf_kernel, cv = 5,refit=True, n_jobs=-1, verbose=0)"
   ]
  },
  {
   "cell_type": "code",
   "execution_count": 99,
   "metadata": {},
   "outputs": [
    {
     "name": "stderr",
     "output_type": "stream",
     "text": [
      "/opt/anaconda3/lib/python3.7/site-packages/sklearn/model_selection/_search.py:814: DeprecationWarning: The default of the `iid` parameter will change from True to False in version 0.22 and will be removed in 0.24. This will change numeric results when test-set sizes are unequal.\n",
      "  DeprecationWarning)\n"
     ]
    },
    {
     "data": {
      "text/plain": [
       "GridSearchCV(cv=5, error_score='raise-deprecating',\n",
       "             estimator=SVC(C=1.0, cache_size=200, class_weight=None, coef0=0.0,\n",
       "                           decision_function_shape='ovr', degree=3,\n",
       "                           gamma='auto_deprecated', kernel='rbf', max_iter=-1,\n",
       "                           probability=False, random_state=None, shrinking=True,\n",
       "                           tol=0.001, verbose=False),\n",
       "             iid='warn', n_jobs=-1,\n",
       "             param_grid={'C': array([0.01, 0.21, 0.41, 0.61, 0.81, 1.01, 1.21, 1.41, 1.61, 1.81, 2.01,\n",
       "       2.21, 2.41, 2.61, 2.81, 3.01, 3.21, 3.41, 3.61, 3.81, 4.01, 4.21,\n",
       "       4.41, 4.61, 4.81, 5.01, 5.21, 5.41, 5.61, 5.81, 6.01, 6.21, 6.41,\n",
       "       6.61, 6.81, 7.01, 7.21, 7.41, 7.61, 7.81, 8.01, 8.21, 8.41, 8.61,\n",
       "       8.81, 9.01, 9.21, 9.41, 9.61, 9.81]),\n",
       "                         'gamma': [0.01, 0.1, 1, 10, 100]},\n",
       "             pre_dispatch='2*n_jobs', refit=True, return_train_score=False,\n",
       "             scoring=None, verbose=0)"
      ]
     },
     "execution_count": 99,
     "metadata": {},
     "output_type": "execute_result"
    }
   ],
   "source": [
    "# Performing the grid search for our SVC RBF kernel model\n",
    "svc_rbf_kernel_Grid.fit(X_train_scaled, y_train)"
   ]
  },
  {
   "cell_type": "code",
   "execution_count": 100,
   "metadata": {},
   "outputs": [
    {
     "data": {
      "text/plain": [
       "SVC(C=4.21, cache_size=200, class_weight=None, coef0=0.0,\n",
       "    decision_function_shape='ovr', degree=3, gamma=0.01, kernel='rbf',\n",
       "    max_iter=-1, probability=False, random_state=None, shrinking=True,\n",
       "    tol=0.001, verbose=False)"
      ]
     },
     "execution_count": 100,
     "metadata": {},
     "output_type": "execute_result"
    }
   ],
   "source": [
    "# Identifying the best performing model for our SVC RBF kernel model using the grid search\n",
    "best_svc_rbf_kernel = svc_rbf_kernel_Grid.best_estimator_\n",
    "best_svc_rbf_kernel"
   ]
  },
  {
   "cell_type": "code",
   "execution_count": 101,
   "metadata": {},
   "outputs": [
    {
     "data": {
      "text/plain": [
       "{'C': 4.21, 'gamma': 0.01}"
      ]
     },
     "execution_count": 101,
     "metadata": {},
     "output_type": "execute_result"
    }
   ],
   "source": [
    "# Identifying the best parameters for our SVC RBF kernel model using the grid search\n",
    "best_svc_rbf_params = svc_rbf_kernel_Grid.best_params_\n",
    "best_svc_rbf_params"
   ]
  },
  {
   "cell_type": "code",
   "execution_count": 102,
   "metadata": {},
   "outputs": [],
   "source": [
    "# Predicting on the scaled test data using best RBF kernel SVC model\n",
    "y_pred_svc_rbf_kernel_test = best_svc_rbf_kernel.predict(X_test_scaled)"
   ]
  },
  {
   "cell_type": "code",
   "execution_count": 103,
   "metadata": {},
   "outputs": [
    {
     "data": {
      "text/plain": [
       "array([[13,  0,  0,  0,  0,  0,  1,  0,  0],\n",
       "       [ 0, 21,  0,  3,  1,  0,  0,  0,  0],\n",
       "       [ 0,  1, 13,  1,  0,  0,  0,  0,  0],\n",
       "       [ 0,  4,  0, 19,  0,  0,  0,  0,  0],\n",
       "       [ 0,  1,  0,  0, 26,  0,  0,  0,  2],\n",
       "       [ 0,  0,  0,  0,  0, 14,  1,  0,  0],\n",
       "       [ 1,  0,  0,  0,  0,  0, 15,  0,  0],\n",
       "       [ 0,  2,  0,  4,  3,  0,  0,  5,  0],\n",
       "       [ 0,  0,  0,  1,  1,  0,  0,  0, 15]])"
      ]
     },
     "execution_count": 103,
     "metadata": {},
     "output_type": "execute_result"
    }
   ],
   "source": [
    "# Generating the confusion matrix for the best RBF kernel model on the test data\n",
    "cf_matrix_svc_rbf_kernel_test = metrics.confusion_matrix(y_test, y_pred_svc_rbf_kernel_test)\n",
    "cf_matrix_svc_rbf_kernel_test"
   ]
  },
  {
   "cell_type": "code",
   "execution_count": 104,
   "metadata": {},
   "outputs": [],
   "source": [
    "# Labelling the confusion matrix of the test data\n",
    "class_labels = ['asphalt','building','car','concrete','grass','pool','shadow','soil','tree']\n",
    "cf_matrix_svc_rbf_kernel_test = pd.DataFrame(cf_matrix_svc_rbf_kernel_test, index=class_labels, columns=class_labels)"
   ]
  },
  {
   "cell_type": "code",
   "execution_count": 105,
   "metadata": {},
   "outputs": [
    {
     "data": {
      "image/png": "[encoded data removed]",
      "text/plain": [
       "<Figure size 432x288 with 2 Axes>"
      ]
     },
     "metadata": {
      "needs_background": "light"
     },
     "output_type": "display_data"
    }
   ],
   "source": [
    "# Creating a heatmap for the confusion matrix for the best RBF kernel SVC model on the test data\n",
    "conf_matrix_heatmap(cf_matrix_svc_rbf_kernel_test)"
   ]
  },
  {
   "cell_type": "code",
   "execution_count": 106,
   "metadata": {},
   "outputs": [
    {
     "name": "stdout",
     "output_type": "stream",
     "text": [
      "              precision    recall  f1-score   support\n",
      "\n",
      "    asphalt        0.93      0.93      0.93        14\n",
      "   building        0.72      0.84      0.78        25\n",
      "        car        1.00      0.87      0.93        15\n",
      "   concrete        0.68      0.83      0.75        23\n",
      "      grass        0.84      0.90      0.87        29\n",
      "       pool        1.00      0.93      0.97        15\n",
      "     shadow        0.88      0.94      0.91        16\n",
      "       soil        1.00      0.36      0.53        14\n",
      "       tree        0.88      0.88      0.88        17\n",
      "\n",
      "    accuracy                           0.84       168\n",
      "   macro avg       0.88      0.83      0.84       168\n",
      "weighted avg       0.86      0.84      0.83       168\n",
      "\n"
     ]
    }
   ],
   "source": [
    "# Creating a classification report for the best RBF kernel model on the test data\n",
    "clf_report_svc_rbf_kernel_test = metrics.classification_report(y_test, y_pred_svc_rbf_kernel_test)\n",
    "print(clf_report_svc_rbf_kernel_test)"
   ]
  },
  {
   "cell_type": "code",
   "execution_count": 107,
   "metadata": {},
   "outputs": [],
   "source": [
    "# Predicting on the scaled train data using best RBF kernel SVC model\n",
    "y_pred_svc_rbf_kernel_train = best_svc_rbf_kernel.predict(X_train_scaled)"
   ]
  },
  {
   "cell_type": "code",
   "execution_count": 108,
   "metadata": {},
   "outputs": [
    {
     "data": {
      "text/plain": [
       "array([[45,  0,  0,  0,  0,  0,  0,  0,  0],\n",
       "       [ 0, 97,  0,  0,  0,  0,  0,  0,  0],\n",
       "       [ 0,  0, 21,  0,  0,  0,  0,  0,  0],\n",
       "       [ 0,  1,  0, 92,  0,  0,  0,  0,  0],\n",
       "       [ 0,  1,  0,  0, 82,  0,  0,  0,  0],\n",
       "       [ 0,  0,  0,  0,  0, 14,  0,  0,  0],\n",
       "       [ 0,  0,  0,  0,  0,  0, 45,  0,  0],\n",
       "       [ 0,  0,  0,  0,  0,  0,  0, 20,  0],\n",
       "       [ 0,  0,  0,  0,  1,  0,  0,  0, 88]])"
      ]
     },
     "execution_count": 108,
     "metadata": {},
     "output_type": "execute_result"
    }
   ],
   "source": [
    "# Generating the confusion matrix for the best RBF kernel model on the train data\n",
    "cf_matrix_svc_rbf_kernel_train = metrics.confusion_matrix(y_train, y_pred_svc_rbf_kernel_train)\n",
    "cf_matrix_svc_rbf_kernel_train"
   ]
  },
  {
   "cell_type": "code",
   "execution_count": 109,
   "metadata": {},
   "outputs": [],
   "source": [
    "# Labelling the confusion matrix of the train data\n",
    "class_labels = ['asphalt','building','car','concrete','grass','pool','shadow','soil','tree']\n",
    "cf_matrix_svc_rbf_kernel_train = pd.DataFrame(cf_matrix_svc_rbf_kernel_train, index=class_labels, columns=class_labels)"
   ]
  },
  {
   "cell_type": "code",
   "execution_count": 110,
   "metadata": {},
   "outputs": [
    {
     "data": {
      "image/png": "[encoded data removed]",
      "text/plain": [
       "<Figure size 432x288 with 2 Axes>"
      ]
     },
     "metadata": {
      "needs_background": "light"
     },
     "output_type": "display_data"
    }
   ],
   "source": [
    "# Creating a heatmap for the confusion matrix for the best RBF kernel SVC model on the train data\n",
    "conf_matrix_heatmap(cf_matrix_svc_rbf_kernel_train)"
   ]
  },
  {
   "cell_type": "code",
   "execution_count": 111,
   "metadata": {},
   "outputs": [
    {
     "name": "stdout",
     "output_type": "stream",
     "text": [
      "              precision    recall  f1-score   support\n",
      "\n",
      "    asphalt        1.00      1.00      1.00        45\n",
      "   building        0.98      1.00      0.99        97\n",
      "        car        1.00      1.00      1.00        21\n",
      "   concrete        1.00      0.99      0.99        93\n",
      "      grass        0.99      0.99      0.99        83\n",
      "       pool        1.00      1.00      1.00        14\n",
      "     shadow        1.00      1.00      1.00        45\n",
      "       soil        1.00      1.00      1.00        20\n",
      "       tree        1.00      0.99      0.99        89\n",
      "\n",
      "    accuracy                           0.99       507\n",
      "   macro avg       1.00      1.00      1.00       507\n",
      "weighted avg       0.99      0.99      0.99       507\n",
      "\n"
     ]
    }
   ],
   "source": [
    "# Creating a classification report for the best RBF kernel model on the train data\n",
    "clf_report_svc_rbf_kernel_train = metrics.classification_report(y_train, y_pred_svc_rbf_kernel_train)\n",
    "print(clf_report_svc_rbf_kernel_train)"
   ]
  },
  {
   "cell_type": "markdown",
   "metadata": {},
   "source": [
    "There are very clear signs of overfitting in this RBF kernel SVC model since the accuracy on the train data is 0.99 which is significantly higher when compared to that of test data which is 0.84.\n",
    "\n",
    "It looks like our SVC model with RBF kernel has practically  memorized our training data extremly well including the noise (outliers). The classification reports of the train data indicates close to perfect classification, with 100% in precision, 100% perfect recall and 99% f1-score for most of the target classes or labels.\n",
    "\n",
    "Taking all these indicators into consideration we can clearly say that the SVC RBF ernel  model is not going to accurately predict the observations when it is exposed to new data as this model is overfit and needs to be regularized.\n"
   ]
  },
  {
   "cell_type": "markdown",
   "metadata": {},
   "source": [
    "# 7. Conceptual Questions:"
   ]
  },
  {
   "cell_type": "markdown",
   "metadata": {},
   "source": [
    "a) From the models run in steps 2-6, which performs the best based on the Classification Report? Support your reasoning with evidence around your test data. \n",
    "\n",
    "lets take a look at each of the classification reports of Random forest base model, Linear SVC , SVC with linear kernel grid search, SVC with polynomial kernel, and SVC with RBF kernel"
   ]
  },
  {
   "cell_type": "code",
   "execution_count": 112,
   "metadata": {},
   "outputs": [
    {
     "name": "stdout",
     "output_type": "stream",
     "text": [
      "Random Forest Base Model classification report on Test data\n",
      "              precision    recall  f1-score   support\n",
      "\n",
      "    asphalt        0.72      0.93      0.81        14\n",
      "   building        0.73      0.88      0.80        25\n",
      "        car        0.93      0.87      0.90        15\n",
      "   concrete        0.64      0.78      0.71        23\n",
      "      grass        0.89      0.86      0.88        29\n",
      "       pool        1.00      0.87      0.93        15\n",
      "     shadow        0.93      0.81      0.87        16\n",
      "       soil        1.00      0.36      0.53        14\n",
      "       tree        0.78      0.82      0.80        17\n",
      "\n",
      "    accuracy                           0.81       168\n",
      "   macro avg       0.85      0.80      0.80       168\n",
      "weighted avg       0.83      0.81      0.81       168\n",
      "\n",
      "******************************************************************************************\n",
      "\n",
      "\n",
      "\n",
      "Linear SVM classifier base model classification report on Test data\n",
      "              precision    recall  f1-score   support\n",
      "\n",
      "    asphalt        0.76      0.93      0.84        14\n",
      "   building        0.64      0.84      0.72        25\n",
      "        car        0.86      0.80      0.83        15\n",
      "   concrete        0.79      0.65      0.71        23\n",
      "      grass        0.70      0.90      0.79        29\n",
      "       pool        1.00      0.87      0.93        15\n",
      "     shadow        0.93      0.88      0.90        16\n",
      "       soil        0.86      0.43      0.57        14\n",
      "       tree        0.69      0.53      0.60        17\n",
      "\n",
      "    accuracy                           0.77       168\n",
      "   macro avg       0.80      0.76      0.77       168\n",
      "weighted avg       0.78      0.77      0.76       168\n",
      "\n",
      "******************************************************************************************\n",
      "\n",
      "\n",
      "\n",
      "SVC with linear kernel best Model(grid search) classification report on Test data\n",
      "              precision    recall  f1-score   support\n",
      "\n",
      "    asphalt        0.93      0.93      0.93        14\n",
      "   building        0.71      0.88      0.79        25\n",
      "        car        1.00      0.93      0.97        15\n",
      "   concrete        0.65      0.74      0.69        23\n",
      "      grass        0.83      0.86      0.85        29\n",
      "       pool        1.00      0.93      0.97        15\n",
      "     shadow        0.88      0.94      0.91        16\n",
      "       soil        0.80      0.29      0.42        14\n",
      "       tree        0.82      0.82      0.82        17\n",
      "\n",
      "    accuracy                           0.82       168\n",
      "   macro avg       0.85      0.81      0.82       168\n",
      "weighted avg       0.83      0.82      0.81       168\n",
      "\n",
      "******************************************************************************************\n",
      "\n",
      "\n",
      "\n",
      " SVC with Polynomial kernel best Model(grid search) classification report on Test data\n",
      "              precision    recall  f1-score   support\n",
      "\n",
      "    asphalt        0.87      0.93      0.90        14\n",
      "   building        0.69      0.88      0.77        25\n",
      "        car        1.00      0.73      0.85        15\n",
      "   concrete        0.71      0.74      0.72        23\n",
      "      grass        0.72      0.90      0.80        29\n",
      "       pool        0.93      0.93      0.93        15\n",
      "     shadow        0.88      0.88      0.88        16\n",
      "       soil        0.25      0.07      0.11        14\n",
      "       tree        0.87      0.76      0.81        17\n",
      "\n",
      "    accuracy                           0.78       168\n",
      "   macro avg       0.77      0.76      0.75       168\n",
      "weighted avg       0.76      0.78      0.76       168\n",
      "\n",
      "******************************************************************************************\n",
      "\n",
      "\n",
      "\n",
      " SVC with RBF kernel best Model(grid search) classification report on Test data\n",
      "              precision    recall  f1-score   support\n",
      "\n",
      "    asphalt        0.93      0.93      0.93        14\n",
      "   building        0.72      0.84      0.78        25\n",
      "        car        1.00      0.87      0.93        15\n",
      "   concrete        0.68      0.83      0.75        23\n",
      "      grass        0.84      0.90      0.87        29\n",
      "       pool        1.00      0.93      0.97        15\n",
      "     shadow        0.88      0.94      0.91        16\n",
      "       soil        1.00      0.36      0.53        14\n",
      "       tree        0.88      0.88      0.88        17\n",
      "\n",
      "    accuracy                           0.84       168\n",
      "   macro avg       0.88      0.83      0.84       168\n",
      "weighted avg       0.86      0.84      0.83       168\n",
      "\n",
      "******************************************************************************************\n"
     ]
    }
   ],
   "source": [
    "print(\"Random Forest Base Model classification report on Test data\")\n",
    "print(clf_report_rf_base_test)\n",
    "print(\"*\"*90)\n",
    "print(\"\\n\\n\")\n",
    "print(\"Linear SVM classifier base model classification report on Test data\")\n",
    "print(clf_report_svc_linear_base_test)\n",
    "print(\"*\"*90)\n",
    "print(\"\\n\\n\")\n",
    "print(\"SVC with linear kernel best Model(grid search) classification report on Test data\")\n",
    "print(clf_report_svc_linear_kernel_test)\n",
    "print(\"*\"*90)\n",
    "print(\"\\n\\n\")\n",
    "print(\" SVC with Polynomial kernel best Model(grid search) classification report on Test data\")\n",
    "print(clf_report_svc_poly_kernel_test)\n",
    "print(\"*\"*90)\n",
    "print(\"\\n\\n\")\n",
    "print(\" SVC with RBF kernel best Model(grid search) classification report on Test data\")\n",
    "print(clf_report_svc_rbf_kernel_test)\n",
    "print(\"*\"*90)"
   ]
  },
  {
   "cell_type": "markdown",
   "metadata": {},
   "source": [
    "The SVC model with the linear kernel is the best model with overall best performance even though it doesnt have the best accuracy among all other model discussed above. Moreover in terms of other classification metrics like precision , recall , f1 score , linear kernel SVC has performed better for most of the target classes or target labels for classification.\n",
    "The performance of RBF kernel SVC and linear kernel SVC are almost the same but since the input data is easily linearly separable , it doesnt make any sense to apply non linear kernel functions like polynomial or RBF kernel which lead to massive overfitting  and high variance.\n",
    "If we consider the classification metrics only on the test data, then RBF kernel SVC model stands out and outperforms all other models including the linear kernel SVC in terms of accuracy in particular.\n",
    "\n",
    "We also observe that the linear kernel SVC was able to better generalize the input data and find important underlying patterns within the data without learning the noise. Thats why it has overall low bias and also low variance.\n",
    "\n",
    "Where as the polynomial and the RBF kernel SVC models have very high variance and they created overfit models that had a hige gap between the classification metrics of train and test data.\n",
    "In terms of accuracy , the SVC model with RBF kernel is the best performing model with an accuracy of 0.84. \n",
    "SVC model with the linear kernel is the 2nd best with an accuracy of 0.82 with random forest base being the 3rd best followed by SVC model with polynomial kernel being 4th best and last position taken by linear SVM base classifier.\n"
   ]
  },
  {
   "cell_type": "markdown",
   "metadata": {},
   "source": [
    "b) Compare models run for steps 4-6 where different kernels were used. What is the benefit of using a polynomial or rbf kernel over a linear kernel? What could be a downside of using a polynomial or rbf kernel?\n",
    "\n",
    "\n",
    "The benefit of using a polynomial or RBF kernel over a linear kernel SVC is about the true decision boundary. If the decision boundary turns out to be linear , then linear kernel SVC outperforms most of the models . If the decision boundary is non-linear , then polynomial kernel SVC will be much helpful and ca help approximate the decision boundary non-linearly. Radial basis function kernel SVC performs well in situations where the decision boundary is much localized. Any particular dataset may not always be linearly separable because we cannot separate our datapoints into different target classes or labels simply by drawing a linear line as a decision bounday. For that reason and many other reasons , we have been provided with options of employing various kernel functions to map the original data into high dimensional space so that we can construct a hyperplane decision boundary.\n",
    "\n",
    "In short polynomial and RBF kernel SVC models can be used only if the input data is not linearly separable. As it is quite evident from our classification metrics on test VS train data that the  SVC model with linear kernel is the only model with low variance and is less overfit compared to all other models that we discussed above. this means that the data was linearly separable and thats the reason our SVC linear kernel model had the best performance both in the test and train data. The non-linear methods of radial basis and polynomial were much more prone to overfitting in this case.\n",
    "\n",
    "With the grid search we have used 3 different models which were SVC model with linear kernel, SVC model with polynomial kernel and SVC model with radial basis function kernel. SVC with linear kernel performed much better compared to the polynomial kernel. It has better precision , recall and f1 score for most of the target classes or labels besidss having the overall(2nd best) good accuracy.\n",
    "\n",
    "One of the main downside for the polynomial and rbf kernels is their numerical instability when it comes to their hyperparameters where the kernel function is effectively trying to draw a circle around a line which makes no sense because the data in our case is easily linearly separable. Thats why the SVC model with linear kernel overall performed well compared to these non-linear models."
   ]
  },
  {
   "cell_type": "markdown",
   "metadata": {},
   "source": [
    "c) Explain the 'C' parameter used in steps 4-6. What does a small C mean versus a large C in sklearn? Why is it important to use the 'C' parameter when fitting a model? \n",
    "\n",
    "\n",
    "'C' is considered as the regularization parameter that controls the decision bounday within the SVM and manages its placement or location in the space. If we have a high value of C, it means that we could have a wider margin between the decision boundary and the hyperplane on both sides of the margin that involves support vectors. This means that there is a higher tolerance for misclassification. If we have a low value of C , it means that there is a lower tolerance for misclassification and it gives rise to a tighter margin. If we are using C as our hyperparameters in our SVM models, the total amount of error which is calculated when any datapoint is misclassified cannot exceed the value set for C. That is why the optimization will depend on the value of C to a great extent.\n",
    "\n",
    "We have a looser classification margin with low values of classification metrics like accuracy , precision , recall anf f1 score. On the other hand , a larger value of C means a tighter or stricter classification margin with high values of classification metrics like accuracy , precision, recall and f1 score.\n",
    "\n",
    "A low of C leads to high bias and lower variance . A high value of C leads to low bias but high variance.\n",
    "\n",
    "If the value of C is too large , it is very likely that it will overfit the data where as if the value of C is too low , then it will underfit the data by not giving enough attention or weight to the data points that are farther away from the margin.\n",
    "\n",
    "That is why a trade-off has to be made when using C as a regularization parameter between minimizing the value of C to reduce the margin violations which helps in achieving low bias or error on the training data and minimizing the norm of the weights ( to increase the margin generated by the SVM)  because the value of C plays a huge role in the objective function. Tuning the value of regularization parameter C controls the overfitting and underfitting of the models.\n"
   ]
  },
  {
   "cell_type": "markdown",
   "metadata": {},
   "source": [
    "d) Scaling our input data does not matter much for Random Forest, but it is a critical step for Support Vector Machines. Explain why this is such a critical step. Also, provide an example of a feature from this data set that could cause issues with our SVMs if not scaled.\n",
    "\n",
    "Since SVM is a maximal margin classifier which works by maximizing the space or the distance between the separating plane and the support vectors ( which exist on the parallel boundary). SVM models are always very much sensitive to the scales of the features or predictors as the features or predictors with a greater scale will have a greater role or influence in the calculation of the separating margin or the distance between the separating plane and the support vectors.\n",
    "\n",
    "The non-scaled features or data in general gives rise to a decision hyperplane thsat is highly sensitive to the regularization parameter or hyperparameter \"C\". The scaled data makes sure that the hyperplanes of SVM model are more consistent across hyperparameters.\n",
    "\n",
    "Now lets take a look at the features that might have a huge negative impact on the calculation of the separating margin if left unscaled.\n"
   ]
  },
  {
   "cell_type": "code",
   "execution_count": 113,
   "metadata": {},
   "outputs": [
    {
     "data": {
      "text/html": [
       "<div>\n",
       "<style scoped>\n",
       "    .dataframe tbody tr th:only-of-type {\n",
       "        vertical-align: middle;\n",
       "    }\n",
       "\n",
       "    .dataframe tbody tr th {\n",
       "        vertical-align: top;\n",
       "    }\n",
       "\n",
       "    .dataframe thead th {\n",
       "        text-align: right;\n",
       "    }\n",
       "</style>\n",
       "<table border=\"1\" class=\"dataframe\">\n",
       "  <thead>\n",
       "    <tr style=\"text-align: right;\">\n",
       "      <th></th>\n",
       "      <th>BrdIndx</th>\n",
       "      <th>Area</th>\n",
       "      <th>Round</th>\n",
       "      <th>Bright</th>\n",
       "      <th>Compact</th>\n",
       "      <th>ShpIndx</th>\n",
       "      <th>Mean_G</th>\n",
       "      <th>Mean_R</th>\n",
       "      <th>Mean_NIR</th>\n",
       "      <th>SD_G</th>\n",
       "      <th>...</th>\n",
       "      <th>SD_NIR_140</th>\n",
       "      <th>LW_140</th>\n",
       "      <th>GLCM1_140</th>\n",
       "      <th>Rect_140</th>\n",
       "      <th>GLCM2_140</th>\n",
       "      <th>Dens_140</th>\n",
       "      <th>Assym_140</th>\n",
       "      <th>NDVI_140</th>\n",
       "      <th>BordLngth_140</th>\n",
       "      <th>GLCM3_140</th>\n",
       "    </tr>\n",
       "  </thead>\n",
       "  <tbody>\n",
       "    <tr>\n",
       "      <td>count</td>\n",
       "      <td>507.000000</td>\n",
       "      <td>507.000000</td>\n",
       "      <td>507.000000</td>\n",
       "      <td>507.000000</td>\n",
       "      <td>507.000000</td>\n",
       "      <td>507.000000</td>\n",
       "      <td>507.000000</td>\n",
       "      <td>507.000000</td>\n",
       "      <td>507.000000</td>\n",
       "      <td>507.000000</td>\n",
       "      <td>...</td>\n",
       "      <td>507.000000</td>\n",
       "      <td>507.000000</td>\n",
       "      <td>507.000000</td>\n",
       "      <td>507.000000</td>\n",
       "      <td>507.000000</td>\n",
       "      <td>507.000000</td>\n",
       "      <td>507.000000</td>\n",
       "      <td>507.000000</td>\n",
       "      <td>507.000000</td>\n",
       "      <td>507.000000</td>\n",
       "    </tr>\n",
       "    <tr>\n",
       "      <td>mean</td>\n",
       "      <td>2.025720</td>\n",
       "      <td>562.504931</td>\n",
       "      <td>1.237574</td>\n",
       "      <td>165.612939</td>\n",
       "      <td>2.187081</td>\n",
       "      <td>2.277318</td>\n",
       "      <td>166.290355</td>\n",
       "      <td>162.291953</td>\n",
       "      <td>168.256667</td>\n",
       "      <td>10.725227</td>\n",
       "      <td>...</td>\n",
       "      <td>24.601144</td>\n",
       "      <td>2.931657</td>\n",
       "      <td>0.817712</td>\n",
       "      <td>0.597732</td>\n",
       "      <td>8.048698</td>\n",
       "      <td>1.455838</td>\n",
       "      <td>0.653905</td>\n",
       "      <td>0.027436</td>\n",
       "      <td>1398.706114</td>\n",
       "      <td>1101.998185</td>\n",
       "    </tr>\n",
       "    <tr>\n",
       "      <td>std</td>\n",
       "      <td>0.619254</td>\n",
       "      <td>698.655240</td>\n",
       "      <td>0.561988</td>\n",
       "      <td>63.230806</td>\n",
       "      <td>0.874054</td>\n",
       "      <td>0.718441</td>\n",
       "      <td>59.217648</td>\n",
       "      <td>73.455101</td>\n",
       "      <td>69.702475</td>\n",
       "      <td>4.968761</td>\n",
       "      <td>...</td>\n",
       "      <td>12.203441</td>\n",
       "      <td>4.942887</td>\n",
       "      <td>0.106007</td>\n",
       "      <td>0.197505</td>\n",
       "      <td>0.787912</td>\n",
       "      <td>0.451781</td>\n",
       "      <td>0.251287</td>\n",
       "      <td>0.133834</td>\n",
       "      <td>1097.323462</td>\n",
       "      <td>533.927869</td>\n",
       "    </tr>\n",
       "    <tr>\n",
       "      <td>min</td>\n",
       "      <td>1.000000</td>\n",
       "      <td>22.000000</td>\n",
       "      <td>0.000000</td>\n",
       "      <td>26.850000</td>\n",
       "      <td>1.000000</td>\n",
       "      <td>1.040000</td>\n",
       "      <td>22.910000</td>\n",
       "      <td>26.520000</td>\n",
       "      <td>31.110000</td>\n",
       "      <td>3.550000</td>\n",
       "      <td>...</td>\n",
       "      <td>2.650000</td>\n",
       "      <td>1.000000</td>\n",
       "      <td>0.200000</td>\n",
       "      <td>0.100000</td>\n",
       "      <td>5.690000</td>\n",
       "      <td>0.240000</td>\n",
       "      <td>0.030000</td>\n",
       "      <td>-0.360000</td>\n",
       "      <td>34.000000</td>\n",
       "      <td>211.270000</td>\n",
       "    </tr>\n",
       "    <tr>\n",
       "      <td>25%</td>\n",
       "      <td>1.580000</td>\n",
       "      <td>159.000000</td>\n",
       "      <td>0.840000</td>\n",
       "      <td>127.485000</td>\n",
       "      <td>1.650000</td>\n",
       "      <td>1.715000</td>\n",
       "      <td>146.460000</td>\n",
       "      <td>97.585000</td>\n",
       "      <td>111.715000</td>\n",
       "      <td>6.985000</td>\n",
       "      <td>...</td>\n",
       "      <td>14.485000</td>\n",
       "      <td>1.375000</td>\n",
       "      <td>0.770000</td>\n",
       "      <td>0.455000</td>\n",
       "      <td>7.370000</td>\n",
       "      <td>1.160000</td>\n",
       "      <td>0.470000</td>\n",
       "      <td>-0.080000</td>\n",
       "      <td>601.000000</td>\n",
       "      <td>726.745000</td>\n",
       "    </tr>\n",
       "    <tr>\n",
       "      <td>50%</td>\n",
       "      <td>1.950000</td>\n",
       "      <td>323.000000</td>\n",
       "      <td>1.210000</td>\n",
       "      <td>170.650000</td>\n",
       "      <td>2.000000</td>\n",
       "      <td>2.180000</td>\n",
       "      <td>189.630000</td>\n",
       "      <td>158.280000</td>\n",
       "      <td>167.750000</td>\n",
       "      <td>9.290000</td>\n",
       "      <td>...</td>\n",
       "      <td>22.380000</td>\n",
       "      <td>1.920000</td>\n",
       "      <td>0.840000</td>\n",
       "      <td>0.610000</td>\n",
       "      <td>8.020000</td>\n",
       "      <td>1.440000</td>\n",
       "      <td>0.710000</td>\n",
       "      <td>-0.020000</td>\n",
       "      <td>1148.000000</td>\n",
       "      <td>1011.230000</td>\n",
       "    </tr>\n",
       "    <tr>\n",
       "      <td>75%</td>\n",
       "      <td>2.380000</td>\n",
       "      <td>681.500000</td>\n",
       "      <td>1.565000</td>\n",
       "      <td>224.825000</td>\n",
       "      <td>2.490000</td>\n",
       "      <td>2.675000</td>\n",
       "      <td>206.780000</td>\n",
       "      <td>237.375000</td>\n",
       "      <td>238.480000</td>\n",
       "      <td>13.330000</td>\n",
       "      <td>...</td>\n",
       "      <td>33.825000</td>\n",
       "      <td>2.800000</td>\n",
       "      <td>0.890000</td>\n",
       "      <td>0.760000</td>\n",
       "      <td>8.750000</td>\n",
       "      <td>1.775000</td>\n",
       "      <td>0.860000</td>\n",
       "      <td>0.145000</td>\n",
       "      <td>1874.000000</td>\n",
       "      <td>1335.640000</td>\n",
       "    </tr>\n",
       "    <tr>\n",
       "      <td>max</td>\n",
       "      <td>4.530000</td>\n",
       "      <td>5767.000000</td>\n",
       "      <td>3.520000</td>\n",
       "      <td>245.870000</td>\n",
       "      <td>8.070000</td>\n",
       "      <td>5.410000</td>\n",
       "      <td>239.370000</td>\n",
       "      <td>253.610000</td>\n",
       "      <td>253.630000</td>\n",
       "      <td>30.870000</td>\n",
       "      <td>...</td>\n",
       "      <td>61.340000</td>\n",
       "      <td>64.700000</td>\n",
       "      <td>0.970000</td>\n",
       "      <td>1.000000</td>\n",
       "      <td>9.570000</td>\n",
       "      <td>2.410000</td>\n",
       "      <td>1.000000</td>\n",
       "      <td>0.370000</td>\n",
       "      <td>8896.000000</td>\n",
       "      <td>3619.280000</td>\n",
       "    </tr>\n",
       "  </tbody>\n",
       "</table>\n",
       "<p>8 rows × 147 columns</p>\n",
       "</div>"
      ],
      "text/plain": [
       "          BrdIndx         Area       Round      Bright     Compact  \\\n",
       "count  507.000000   507.000000  507.000000  507.000000  507.000000   \n",
       "mean     2.025720   562.504931    1.237574  165.612939    2.187081   \n",
       "std      0.619254   698.655240    0.561988   63.230806    0.874054   \n",
       "min      1.000000    22.000000    0.000000   26.850000    1.000000   \n",
       "25%      1.580000   159.000000    0.840000  127.485000    1.650000   \n",
       "50%      1.950000   323.000000    1.210000  170.650000    2.000000   \n",
       "75%      2.380000   681.500000    1.565000  224.825000    2.490000   \n",
       "max      4.530000  5767.000000    3.520000  245.870000    8.070000   \n",
       "\n",
       "          ShpIndx      Mean_G      Mean_R    Mean_NIR        SD_G  ...  \\\n",
       "count  507.000000  507.000000  507.000000  507.000000  507.000000  ...   \n",
       "mean     2.277318  166.290355  162.291953  168.256667   10.725227  ...   \n",
       "std      0.718441   59.217648   73.455101   69.702475    4.968761  ...   \n",
       "min      1.040000   22.910000   26.520000   31.110000    3.550000  ...   \n",
       "25%      1.715000  146.460000   97.585000  111.715000    6.985000  ...   \n",
       "50%      2.180000  189.630000  158.280000  167.750000    9.290000  ...   \n",
       "75%      2.675000  206.780000  237.375000  238.480000   13.330000  ...   \n",
       "max      5.410000  239.370000  253.610000  253.630000   30.870000  ...   \n",
       "\n",
       "       SD_NIR_140      LW_140   GLCM1_140    Rect_140   GLCM2_140    Dens_140  \\\n",
       "count  507.000000  507.000000  507.000000  507.000000  507.000000  507.000000   \n",
       "mean    24.601144    2.931657    0.817712    0.597732    8.048698    1.455838   \n",
       "std     12.203441    4.942887    0.106007    0.197505    0.787912    0.451781   \n",
       "min      2.650000    1.000000    0.200000    0.100000    5.690000    0.240000   \n",
       "25%     14.485000    1.375000    0.770000    0.455000    7.370000    1.160000   \n",
       "50%     22.380000    1.920000    0.840000    0.610000    8.020000    1.440000   \n",
       "75%     33.825000    2.800000    0.890000    0.760000    8.750000    1.775000   \n",
       "max     61.340000   64.700000    0.970000    1.000000    9.570000    2.410000   \n",
       "\n",
       "        Assym_140    NDVI_140  BordLngth_140    GLCM3_140  \n",
       "count  507.000000  507.000000     507.000000   507.000000  \n",
       "mean     0.653905    0.027436    1398.706114  1101.998185  \n",
       "std      0.251287    0.133834    1097.323462   533.927869  \n",
       "min      0.030000   -0.360000      34.000000   211.270000  \n",
       "25%      0.470000   -0.080000     601.000000   726.745000  \n",
       "50%      0.710000   -0.020000    1148.000000  1011.230000  \n",
       "75%      0.860000    0.145000    1874.000000  1335.640000  \n",
       "max      1.000000    0.370000    8896.000000  3619.280000  \n",
       "\n",
       "[8 rows x 147 columns]"
      ]
     },
     "execution_count": 113,
     "metadata": {},
     "output_type": "execute_result"
    }
   ],
   "source": [
    "# We will only take a look the predictors hence X_train will be helpful\n",
    "X_train.describe()"
   ]
  },
  {
   "cell_type": "markdown",
   "metadata": {},
   "source": [
    "It is quite obvious that the features like \"Area\", \"Mean_G\", Mean_R\" and \"Mean_NIR\" that have a higher mean and higher standard deviation compared to the other features. Letting these kind of features remain in the model without scaling and fitting the model will lead to inaccurate or skewed results because certain features on higher scale will try to dominate other features while calculating the distance between the hyperplanes. Hence we have to first scale all the features and bring them into a single scale and then we can train and fit our model making sure that it gives accurate results and creates an optimized hyperplane separation.\n",
    "\n",
    "Since support vector machines optimizes by minimizing the decision boundary,  the hyperplane is greatky influenced by the scale of the features or predictors and that is why it is highly recommended to scale or standardize the data."
   ]
  },
  {
   "cell_type": "markdown",
   "metadata": {},
   "source": [
    "e) Describe conceptually what the purpose of a kernel is for Support Vector Machines.\n",
    "\n",
    "\n",
    "The kernel or the kernel function within any SVM model is used to maximizing the distance between the classes or target labels  in a way that could maximize the distance between the hyperplanes while doing the classification.\n",
    "Kernel helps in mapping the input data to a higher dimension and then help find a boundary in order to make the classification . In other words kernel helps to map the input data into a feature space  that is enlarged for convenience so that the model could  better construct a decision boundary of the hyperplane without calculating the vectors of each datapoint.\n",
    "\n",
    "Kernel is basically a mathematical function that computes the dot product of two vectors that helps to tranform the input data to higher dimensions where they can be non-linearly separated for classification.\n",
    "\n",
    "In most of the cases where the data is non-linearly separable for classification using a linear decision boundary, we have to map our original data from 2-D to 3-D space and then separate the datapoints. But this mapping from 2-D to 3-Dor even higher dimensional spaces is not easy because it requires the computation of dot products within that higher diemnsional space which requires more resources in terms of memory space, computational resources which turns out to be very expensive. This is where kernel or kernel tricks takes over the problem and helps us operate in the operate in the original feature space without even computing the coordinates in the higher dimensional space.\n",
    "This is a very powerful technique that requires less computational cost while separating the data that is non-linear in nature."
   ]
  }
 ],
 "metadata": {
  "kernelspec": {
   "display_name": "Python 3",
   "language": "python",
   "name": "python3"
  },
  "language_info": {
   "codemirror_mode": {
    "name": "ipython",
    "version": 3
   },
   "file_extension": ".py",
   "mimetype": "text/x-python",
   "name": "python",
   "nbconvert_exporter": "python",
   "pygments_lexer": "ipython3",
   "version": "3.7.4"
  }
 },
 "nbformat": 4,
 "nbformat_minor": 2
}
